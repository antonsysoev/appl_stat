{
  "nbformat": 4,
  "nbformat_minor": 0,
  "metadata": {
    "colab": {
      "name": "Final_project.ipynb",
      "provenance": [],
      "authorship_tag": "ABX9TyPYtqLcWpxMNP8Ffob5rhe+",
      "include_colab_link": true
    },
    "kernelspec": {
      "name": "python3",
      "display_name": "Python 3"
    },
    "language_info": {
      "name": "python"
    }
  },
  "cells": [
    {
      "cell_type": "markdown",
      "metadata": {
        "id": "view-in-github",
        "colab_type": "text"
      },
      "source": [
        "<a href=\"https://colab.research.google.com/github/antonsysoev/appl_stat/blob/gh-pages/Final_project.ipynb\" target=\"_parent\"><img src=\"https://colab.research.google.com/assets/colab-badge.svg\" alt=\"Open In Colab\"/></a>"
      ]
    },
    {
      "cell_type": "markdown",
      "metadata": {
        "id": "V-bLKfjBoojh"
      },
      "source": [
        "1. Подключение среды R"
      ]
    },
    {
      "cell_type": "code",
      "metadata": {
        "id": "iHx2vVNgorhZ"
      },
      "source": [
        "%load_ext rpy2.ipython"
      ],
      "execution_count": 1,
      "outputs": []
    },
    {
      "cell_type": "markdown",
      "metadata": {
        "id": "ntek5YTZos6n"
      },
      "source": [
        "2. Установка и подключение необходимых библиотек"
      ]
    },
    {
      "cell_type": "code",
      "metadata": {
        "colab": {
          "base_uri": "https://localhost:8080/"
        },
        "id": "WCSFX4LgosLk",
        "outputId": "36551f26-a29f-472b-b129-0469c768a483"
      },
      "source": [
        "%%R\n",
        "library(readxl)\n",
        "library(data.table)\n",
        "install.packages(\"ggcorrplot\")\n",
        "library(ggcorrplot)\n",
        "library(dplyr)\n",
        "library(MASS)"
      ],
      "execution_count": 2,
      "outputs": [
        {
          "output_type": "stream",
          "name": "stderr",
          "text": [
            "R[write to console]: data.table 1.14.2 using 1 threads (see ?getDTthreads).  Latest news: r-datatable.com\n",
            "\n",
            "R[write to console]: Installing package into ‘/usr/local/lib/R/site-library’\n",
            "(as ‘lib’ is unspecified)\n",
            "\n",
            "R[write to console]: also installing the dependencies ‘plyr’, ‘reshape2’\n",
            "\n",
            "\n",
            "R[write to console]: trying URL 'https://cran.rstudio.com/src/contrib/plyr_1.8.6.tar.gz'\n",
            "\n",
            "R[write to console]: Content type 'application/x-gzip'\n",
            "R[write to console]:  length 401191 bytes (391 KB)\n",
            "\n",
            "R[write to console]: =\n",
            "R[write to console]: =\n",
            "R[write to console]: =\n",
            "R[write to console]: =\n",
            "R[write to console]: =\n",
            "R[write to console]: =\n",
            "R[write to console]: =\n",
            "R[write to console]: =\n",
            "R[write to console]: =\n",
            "R[write to console]: =\n",
            "R[write to console]: =\n",
            "R[write to console]: =\n",
            "R[write to console]: =\n",
            "R[write to console]: =\n",
            "R[write to console]: =\n",
            "R[write to console]: =\n",
            "R[write to console]: =\n",
            "R[write to console]: =\n",
            "R[write to console]: =\n",
            "R[write to console]: =\n",
            "R[write to console]: =\n",
            "R[write to console]: =\n",
            "R[write to console]: =\n",
            "R[write to console]: =\n",
            "R[write to console]: =\n",
            "R[write to console]: =\n",
            "R[write to console]: =\n",
            "R[write to console]: =\n",
            "R[write to console]: =\n",
            "R[write to console]: =\n",
            "R[write to console]: =\n",
            "R[write to console]: =\n",
            "R[write to console]: =\n",
            "R[write to console]: =\n",
            "R[write to console]: =\n",
            "R[write to console]: =\n",
            "R[write to console]: =\n",
            "R[write to console]: =\n",
            "R[write to console]: =\n",
            "R[write to console]: =\n",
            "R[write to console]: =\n",
            "R[write to console]: =\n",
            "R[write to console]: =\n",
            "R[write to console]: =\n",
            "R[write to console]: =\n",
            "R[write to console]: =\n",
            "R[write to console]: =\n",
            "R[write to console]: =\n",
            "R[write to console]: =\n",
            "R[write to console]: =\n",
            "R[write to console]: \n",
            "\n",
            "R[write to console]: downloaded 391 KB\n",
            "\n",
            "\n",
            "R[write to console]: trying URL 'https://cran.rstudio.com/src/contrib/reshape2_1.4.4.tar.gz'\n",
            "\n",
            "R[write to console]: Content type 'application/x-gzip'\n",
            "R[write to console]:  length 37307 bytes (36 KB)\n",
            "\n",
            "R[write to console]: =\n",
            "R[write to console]: =\n",
            "R[write to console]: =\n",
            "R[write to console]: =\n",
            "R[write to console]: =\n",
            "R[write to console]: =\n",
            "R[write to console]: =\n",
            "R[write to console]: =\n",
            "R[write to console]: =\n",
            "R[write to console]: =\n",
            "R[write to console]: =\n",
            "R[write to console]: =\n",
            "R[write to console]: =\n",
            "R[write to console]: =\n",
            "R[write to console]: =\n",
            "R[write to console]: =\n",
            "R[write to console]: =\n",
            "R[write to console]: =\n",
            "R[write to console]: =\n",
            "R[write to console]: =\n",
            "R[write to console]: =\n",
            "R[write to console]: =\n",
            "R[write to console]: =\n",
            "R[write to console]: =\n",
            "R[write to console]: =\n",
            "R[write to console]: =\n",
            "R[write to console]: =\n",
            "R[write to console]: =\n",
            "R[write to console]: =\n",
            "R[write to console]: =\n",
            "R[write to console]: =\n",
            "R[write to console]: =\n",
            "R[write to console]: =\n",
            "R[write to console]: =\n",
            "R[write to console]: =\n",
            "R[write to console]: =\n",
            "R[write to console]: =\n",
            "R[write to console]: =\n",
            "R[write to console]: =\n",
            "R[write to console]: =\n",
            "R[write to console]: =\n",
            "R[write to console]: =\n",
            "R[write to console]: =\n",
            "R[write to console]: =\n",
            "R[write to console]: =\n",
            "R[write to console]: =\n",
            "R[write to console]: =\n",
            "R[write to console]: =\n",
            "R[write to console]: =\n",
            "R[write to console]: =\n",
            "R[write to console]: \n",
            "\n",
            "R[write to console]: downloaded 36 KB\n",
            "\n",
            "\n",
            "R[write to console]: trying URL 'https://cran.rstudio.com/src/contrib/ggcorrplot_0.1.3.tar.gz'\n",
            "\n",
            "R[write to console]: Content type 'application/x-gzip'\n",
            "R[write to console]:  length 779068 bytes (760 KB)\n",
            "\n",
            "R[write to console]: =\n",
            "R[write to console]: =\n",
            "R[write to console]: =\n",
            "R[write to console]: =\n",
            "R[write to console]: =\n",
            "R[write to console]: =\n",
            "R[write to console]: =\n",
            "R[write to console]: =\n",
            "R[write to console]: =\n",
            "R[write to console]: =\n",
            "R[write to console]: =\n",
            "R[write to console]: =\n",
            "R[write to console]: =\n",
            "R[write to console]: =\n",
            "R[write to console]: =\n",
            "R[write to console]: =\n",
            "R[write to console]: =\n",
            "R[write to console]: =\n",
            "R[write to console]: =\n",
            "R[write to console]: =\n",
            "R[write to console]: =\n",
            "R[write to console]: =\n",
            "R[write to console]: =\n",
            "R[write to console]: =\n",
            "R[write to console]: =\n",
            "R[write to console]: =\n",
            "R[write to console]: =\n",
            "R[write to console]: =\n",
            "R[write to console]: =\n",
            "R[write to console]: =\n",
            "R[write to console]: =\n",
            "R[write to console]: =\n",
            "R[write to console]: =\n",
            "R[write to console]: =\n",
            "R[write to console]: =\n",
            "R[write to console]: =\n",
            "R[write to console]: =\n",
            "R[write to console]: =\n",
            "R[write to console]: =\n",
            "R[write to console]: =\n",
            "R[write to console]: =\n",
            "R[write to console]: =\n",
            "R[write to console]: =\n",
            "R[write to console]: =\n",
            "R[write to console]: =\n",
            "R[write to console]: =\n",
            "R[write to console]: =\n",
            "R[write to console]: =\n",
            "R[write to console]: =\n",
            "R[write to console]: =\n",
            "R[write to console]: \n",
            "\n",
            "R[write to console]: downloaded 760 KB\n",
            "\n",
            "\n",
            "R[write to console]: \n",
            "\n",
            "R[write to console]: \n",
            "R[write to console]: The downloaded source packages are in\n",
            "\t‘/tmp/Rtmp0hpbF8/downloaded_packages’\n",
            "R[write to console]: \n",
            "R[write to console]: \n",
            "\n",
            "R[write to console]: Loading required package: ggplot2\n",
            "\n",
            "R[write to console]: \n",
            "Attaching package: ‘dplyr’\n",
            "\n",
            "\n",
            "R[write to console]: The following objects are masked from ‘package:data.table’:\n",
            "\n",
            "    between, first, last\n",
            "\n",
            "\n",
            "R[write to console]: The following objects are masked from ‘package:stats’:\n",
            "\n",
            "    filter, lag\n",
            "\n",
            "\n",
            "R[write to console]: The following objects are masked from ‘package:base’:\n",
            "\n",
            "    intersect, setdiff, setequal, union\n",
            "\n",
            "\n",
            "R[write to console]: \n",
            "Attaching package: ‘MASS’\n",
            "\n",
            "\n",
            "R[write to console]: The following object is masked from ‘package:dplyr’:\n",
            "\n",
            "    select\n",
            "\n",
            "\n"
          ]
        }
      ]
    },
    {
      "cell_type": "markdown",
      "metadata": {
        "id": "JxC4s3LPruJU"
      },
      "source": [
        "3. Считывание данных"
      ]
    },
    {
      "cell_type": "code",
      "metadata": {
        "id": "JF1lqSi3pAEi"
      },
      "source": [
        "%%R\n",
        "data <-fread(\"/content/dib_dataset.csv\")"
      ],
      "execution_count": 3,
      "outputs": []
    },
    {
      "cell_type": "code",
      "metadata": {
        "colab": {
          "base_uri": "https://localhost:8080/"
        },
        "id": "ruxmXvaqrg6U",
        "outputId": "d7e8f213-f919-40d8-f4e7-90c93e08e870"
      },
      "source": [
        "%%R\n",
        "str(data)"
      ],
      "execution_count": 4,
      "outputs": [
        {
          "output_type": "stream",
          "name": "stdout",
          "text": [
            "Classes ‘data.table’ and 'data.frame':\t9504 obs. of  192 variables:\n",
            " $ locality_code                                                                                                        : chr  \"AE\" \"AF\" \"AG\" \"AO\" ...\n",
            " $ locality_name                                                                                                        : chr  \"United Arab Emirates\" \"Afghanistan\" \"Antigua and Barbuda\" \"Angola\" ...\n",
            " $ date                                                                                                                 : IDate, format: \"2020-02-15\" \"2020-02-15\" ...\n",
            " $ new_cases                                                                                                            : int  0 0 0 0 0 0 0 0 0 0 ...\n",
            " $ new_deaths                                                                                                           : int  0 0 0 0 0 0 0 0 0 0 ...\n",
            " $ acc_cases                                                                                                            : int  0 0 0 0 0 0 0 0 0 0 ...\n",
            " $ acc_deaths                                                                                                           : int  0 0 0 0 0 0 0 0 0 0 ...\n",
            " $ index_of_industrial_production_total_industry_mining_manufacturing_electricity_gas_and_water_index_base_2005_100_2014: num  NA NA NA NA NA ...\n",
            " $ index_of_industrial_production_mining_index_base_2005_100_2014                                                       : num  NA NA NA NA NA ...\n",
            " $ index_of_industrial_production_manufacturing_index_base_2005_100_2014                                                : num  NA NA NA NA 169 ...\n",
            " $ index_of_industrial_production_food_beverages_and_tobacco_index_base_2005_100_2014                                   : num  NA NA NA NA 200 ...\n",
            " $ index_of_industrial_production_textiles_wearing_apparel_leather_footwear_index_base_2005_100_2014                    : num  NA NA NA NA 174 ...\n",
            " $ index_of_industrial_production_chemicals_petroleum_rubber_and_plastic_products_index_base_2005_100_2014              : num  NA NA NA NA 155 ...\n",
            " $ index_of_industrial_production_metal_products_and_machinery_index_base_2005_100_2014                                 : num  NA NA NA NA 137 ...\n",
            " $ index_of_industrial_production_electricity_gas_steam_index_base_2005_100_2014                                        : num  NA NA NA NA NA ...\n",
            " $ index_of_industrial_production_water_and_waste_management_index_base_2005_100_2014                                   : num  NA NA NA NA NA ...\n",
            " $ index_of_industrial_production_basic_metals_index_base_2005_100_2014                                                 : num  NA NA NA NA 145 ...\n",
            " $ index_of_industrial_production_electricity_gas_and_water_index_base_2005_100_2014                                    : num  NA NA NA NA 135 ...\n",
            " $ index_of_industrial_production_metal_products_index_base_2005_100_2013                                               : int  NA NA NA NA NA NA NA NA NA NA ...\n",
            " $ index_of_industrial_production_machinery_index_base_2005_100_2013                                                    : num  NA NA NA NA NA NA NA NA NA NA ...\n",
            " $ index_of_industrial_production_miscellaneous_manufacturing_industries_index_base_2005_100_2014                       : int  NA NA NA NA NA NA NA NA NA NA ...\n",
            " $ index_of_industrial_production_mining_and_manufacturing_index_base_2005_100_2014                                     : num  NA NA NA NA NA NA NA NA NA NA ...\n",
            " $ emissions_thousand_metric_tons_of_carbon_dioxide_2014                                                                : int  211370 9809 532 34763 204025 58712 361262 873 22233 1272 ...\n",
            " $ emissions_per_capita_metric_tons_of_carbon_dioxide_2014                                                              : num  23.2 0.3 5.8 1.4 4.7 6.9 15.3 8.4 5.8 4.5 ...\n",
            " $ agricultural_production_index_base_2004_2006_100_2016                                                                : num  101 125.4 70.2 191.9 130.9 ...\n",
            " $ food_production_index_base_2004_2006_100_2016                                                                        : num  101 125 70 193 131 ...\n",
            " $ urban_population_percent_growth_rate_per_annum_2015                                                                  : num  2.4 4 0.1 4.7 1.2 0.7 1.6 0.5 -0.3 -0.1 ...\n",
            " $ rural_population_percent_growth_rate_per_annum_2015                                                                  : num  -0.1 2.9 1.4 1.6 -0.4 0.5 0.8 0.5 -1.6 0.5 ...\n",
            " $ urban_population_percent_2018                                                                                        : num  86.5 25.5 24.6 65.5 91.9 58.3 86 43.4 48.2 31.1 ...\n",
            " $ capital_city_population_as_a_percentage_of_total_population_2015                                                     : num  13.1 11 NA 25.2 33.9 21.1 1.8 NA 9.7 NA ...\n",
            " $ capital_city_population_as_a_percentage_of_total_urban_population_2015                                               : num  15.3 44.5 NA 39.7 37 36.6 2.1 NA 20.5 NA ...\n",
            " $ capital_city_population_thousands_2018                                                                               : int  1420 4012 21 7774 14967 1901 448 30 343 89 ...\n",
            " $ surface_area_thousand_km2_2017                                                                                       : num  83.6 652.864 0.442 1246.7 2780.4 ...\n",
            " $ population_mid_year_estimates_millions_2019                                                                          : num  9.7705 38.0418 0.0971 31.8253 44.7807 ...\n",
            " $ population_mid_year_estimates_for_males_millions_2019                                                                : num  6.7668 19.5297 0.0469 15.7448 21.8414 ...\n",
            " $ population_mid_year_estimates_for_females_millions_2019                                                              : num  3.0037 18.512 0.0503 16.0805 22.9393 ...\n",
            " $ sex_ratio_males_per_100_females_2019                                                                                 : num  225.3 105.5 93.2 97.9 95.2 ...\n",
            " $ population_aged_0_to_14_years_old_percentage_2019                                                                    : num  14.7 42.5 22 46.6 24.6 ...\n",
            " $ population_aged_60_years_old_percentage_2019                                                                         : num  2.8 4.17 13.62 3.62 15.39 ...\n",
            " $ population_density_2019                                                                                              : num  116.9 58.3 220.7 25.5 16.4 ...\n",
            " $ imports_cif_millions_of_us_dollars_2018                                                                              : num  155599 8345 829 18019 66306 ...\n",
            " $ exports_fob_millions_of_us_dollars_2018                                                                              : num  106586 821.6 45.7 38953.3 66318.6 ...\n",
            " $ balance_imports_exports_millions_of_us_dollars_2018                                                                  : num  -49013.2 -7523.2 -783 20934.5 12.8 ...\n",
            " $ balance_of_payments_current_account_millions_of_us_dollars_2018                                                      : num  NA NA NA 7502 -28003 ...\n",
            " $ balance_of_payments_capital_account_millions_of_us_dollars_2018                                                      : num  NA NA NA 2.93 85.72 ...\n",
            " $ balance_of_payments_financial_account_millions_of_us_dollars_2018                                                    : num  NA NA NA 4721 -28480 ...\n",
            " $ consumer_price_index_general_2018                                                                                    : num  117 NA NA 337 152 ...\n",
            " $ consumer_price_index_food_2018                                                                                       : num  NA NA NA NA 148 ...\n",
            " $ exchange_rates_end_of_period_national_currency_per_us_dollar_2018                                                    : num  3.67 74.96 2.7 308.61 37.6 ...\n",
            " $ exchange_rates_period_average_national_currency_per_us_dollar_2018                                                   : num  3.67 72.08 2.7 252.86 28.09 ...\n",
            " $ land_area_thousand_hectares_2016                                                                                     : int  7102 65286 44 124670 273669 8252 769202 18 5120 43 ...\n",
            " $ arable_land_thousand_hectares_2016                                                                                   : int  45 7729 4 4900 39200 1344 46048 2 1026 7 ...\n",
            " $ permanent_crops_thousand_hectares_2016                                                                               : int  39 181 1 290 1000 67 330 NA 104 1 ...\n",
            " $ forest_cover_thousand_hectares_2016                                                                                  : int  324 1350 10 57731 26815 3871 125059 0 2185 6 ...\n",
            " $ arable_land_of_total_land_area_2016                                                                                  : num  0.6 11.8 9.1 3.9 14.3 16.3 6 11.1 20 16.3 ...\n",
            " $ permanent_crops_of_total_land_area_2016                                                                              : num  0.6 0.3 2.3 0.2 0.4 0.8 0 NA 2 2.3 ...\n",
            " $ forest_cover_of_total_land_area_2016                                                                                 : num  4.6 2.1 22.3 46.3 9.8 46.9 16.3 2.3 42.7 14.7 ...\n",
            " $ important_sites_for_terrestrial_biodiversity_protected_of_total_sites_protected_2018                                 : num  30.78 6.14 18.44 28.37 33.21 ...\n",
            " $ agriculture_hunting_forestry_and_fishing_of_gross_value_added_2016                                                   : num  0.776 24.072 1.747 9.885 7.527 ...\n",
            " $ industry_of_gross_value_added_2016                                                                                   : num  41.4 22 19.8 42.9 26.3 ...\n",
            " $ services_of_gross_value_added_2016                                                                                   : num  57.8 53.9 78.5 47.2 66.2 ...\n",
            " $ health_personnel_physicians_number_2018                                                                              : int  NA NA NA NA NA NA NA NA NA NA ...\n",
            " $ health_personnel_physicians_per_1000_population_2018                                                                 : num  NA NA NA NA NA NA NA NA NA NA ...\n",
            " $ health_personnel_nurses_and_midwives_number_2018                                                                     : int  NA NA NA NA NA NA NA NA NA NA ...\n",
            " $ health_personnel_nurses_and_midwives_personnel_per_1000_population_2018                                              : num  NA NA NA NA NA NA NA NA NA NA ...\n",
            " $ health_personnel_dentists_number_2018                                                                                : int  NA NA NA NA NA NA NA NA NA NA ...\n",
            " $ health_personnel_dentists_per_1000_population_2018                                                                   : num  NA NA NA NA NA NA NA NA NA NA ...\n",
            " $ health_personnel_pharmacists_number_2018                                                                             : int  NA NA NA NA NA NA NA NA NA NA ...\n",
            " $ health_personnel_pharmacists_per_1000_population_2018                                                                : int  NA NA NA NA NA NA NA NA NA NA ...\n",
            " $ employment_by_industry_agriculture_male_and_female_2019                                                              : num  0.33 61.72 NA 50.03 0.51 ...\n",
            " $ employment_by_industry_industry_male_and_female_2019                                                                 : num  38.56 6.82 NA 8.72 23.08 ...\n",
            " $ employment_by_industry_services_male_and_female_2019                                                                 : num  61.1 31.5 NA 41.2 76.4 ...\n",
            " $ employment_by_industry_agriculture_male_2019                                                                         : num  0.38 59.34 NA 43.12 0.76 ...\n",
            " $ employment_by_industry_industry_male_2019                                                                            : num  43.1 7.1 NA 16.1 33.4 ...\n",
            " $ employment_by_industry_services_male_2019                                                                            : num  56.5 33.6 NA 40.8 65.8 ...\n",
            " $ employment_by_industry_agriculture_female_2019                                                                       : num  0.03 73.48 NA 57 0.14 ...\n",
            " $ employment_by_industry_industry_female_2019                                                                          : num  6.64 5.46 NA 1.3 7.5 ...\n",
            " $ employment_by_industry_services_female_2019                                                                          : num  93.3 21.1 NA 41.7 92.4 ...\n",
            " $ net_official_development_assistance_received_bilateral_millions_of_us_dollars_2017                                   : num  NA 3194.4 -20.9 75.8 -37.8 ...\n",
            " $ net_official_development_assistance_received_multilateral_millions_of_us_dollars_2017                                : num  NA 609.6 30.8 147.5 32.9 ...\n",
            " $ net_official_development_assistance_received_total_millions_of_us_dollars_2017                                       : num  NA 3804.01 9.9 223.22 -4.93 ...\n",
            " $ net_official_development_assistance_received_total_as_gni_2017                                                       : num  NA 18.1 0.66 0.19 0 NA NA NA 2.43 NA ...\n",
            " $ gdp_in_current_prices_millions_of_us_dollars_2017                                                                    : int  382575 21993 1510 126506 637486 416836 1408676 2701 18169 4713 ...\n",
            " $ gdp_per_capita_us_dollars_2017                                                                                       : int  40699 619 14803 4247 14400 47718 57613 25655 5181 16494 ...\n",
            " $ gdp_in_constant_2010_prices_millions_of_us_dollars_2017                                                              : int  387259 22175 1382 99277 463442 432754 1567225 2582 19502 4561 ...\n",
            " $ gdp_real_rates_of_growth_percent_2017                                                                                : num  0.8 2.5 3 -2.5 2.9 2.6 2.9 1.3 3 0.9 ...\n",
            " $ current_expenditure_other_than_staff_compensation_as_of_total_expenditure_in_public_institutions_2018                : logi  NA NA NA NA NA NA ...\n",
            " $ all_staff_compensation_as_of_total_expenditure_in_public_institutions_2018                                           : logi  NA NA NA NA NA NA ...\n",
            " $ capital_expenditure_as_of_total_expenditure_in_public_institutions_2018                                              : logi  NA NA NA NA NA NA ...\n",
            " $ expenditure_by_level_of_education_pre_primary_as_of_government_expenditure_2018                                      : logi  NA NA NA NA NA NA ...\n",
            " $ expenditure_by_level_of_education_primary_as_of_government_expenditure_2018                                          : num  NA NA NA NA NA NA NA NA NA NA ...\n",
            " $ expenditure_by_level_of_education_secondary_as_of_government_expenditure_2018                                        : num  NA NA NA NA NA NA NA NA NA NA ...\n",
            " $ expenditure_by_level_of_education_tertiary_as_of_government_expenditure_2018                                         : num  NA NA NA NA NA NA NA NA NA NA ...\n",
            " $ public_expenditure_on_education_of_government_expenditure_2018                                                       : num  NA NA NA NA NA NA NA NA NA NA ...\n",
            " $ public_expenditure_on_education_of_gdp_2018                                                                          : logi  NA NA NA NA NA NA ...\n",
            " $ population_annual_rate_of_increase_percent_2015                                                                      : num  1.6 3.3 1.22 3.54 1.04 ...\n",
            " $ infant_mortality_for_both_sexes_per_1000_live_births_2015                                                            : num  6.5 60.1 6.79 78.25 12.06 ...\n",
            " $ maternal_mortality_ratio_deaths_per_100000_livebirths_2015                                                           : num  6.1 396.1 NA 477 52.4 ...\n",
            " $ life_expectancy_at_birth_for_both_sexes_years_2015                                                                   : num  76.8 62.3 76.1 57.7 75.7 ...\n",
            "  [list output truncated]\n",
            " - attr(*, \".internal.selfref\")=<externalptr> \n"
          ]
        }
      ]
    },
    {
      "cell_type": "markdown",
      "metadata": {
        "id": "I-hCMpzTsU0t"
      },
      "source": [
        "4. Отбор числовых признаков, очистка данных"
      ]
    },
    {
      "cell_type": "code",
      "metadata": {
        "id": "6C39QOt69OkG"
      },
      "source": [
        "%%R\n",
        "data_analysis <- data.frame(Y=data$gdp_per_capita_us_dollars_2017, \n",
        "                            X1 = data$agricultural_production_index_base_2004_2006_100_2016,\n",
        "                            X2 = data$food_production_index_base_2004_2006_100_2016,\n",
        "                            X3 = data$urban_population_percent_2018,\n",
        "                            X4 = data$sex_ratio_males_per_100_females_2019,\n",
        "                            X5 = data$population_density_2019,\n",
        "                            X6 = data$employment_by_industry_industry_male_and_female_2019,\n",
        "                            X7 = data$life_expectancy_at_birth_for_both_sexes_years_2015,\n",
        "                            X8 = data$forest_cover_thousand_hectares_2016,\n",
        "                            X9 = data$emissions_per_capita_metric_tons_of_carbon_dioxide_2014)\n"
      ],
      "execution_count": 59,
      "outputs": []
    },
    {
      "cell_type": "code",
      "metadata": {
        "colab": {
          "base_uri": "https://localhost:8080/"
        },
        "id": "REqTHoyyvypB",
        "outputId": "02870d41-744a-4b39-9e05-cad47dc723a2"
      },
      "source": [
        "%%R\n",
        "summary(data_analysis)"
      ],
      "execution_count": 60,
      "outputs": [
        {
          "output_type": "stream",
          "name": "stdout",
          "text": [
            "       Y                X1              X2              X3        \n",
            " Min.   :   378   Min.   : 59.2   Min.   : 59.2   Min.   : 13.20  \n",
            " 1st Qu.:  2342   1st Qu.:101.5   1st Qu.:101.5   1st Qu.: 43.50  \n",
            " Median :  7977   Median :117.3   Median :118.0   Median : 65.35  \n",
            " Mean   : 18141   Mean   :121.6   Mean   :122.3   Mean   : 62.59  \n",
            " 3rd Qu.: 25655   3rd Qu.:139.2   3rd Qu.:139.7   3rd Qu.: 82.20  \n",
            " Max.   :166022   Max.   :198.4   Max.   :198.4   Max.   :100.00  \n",
            " NA's   :360      NA's   :504     NA's   :504     NA's   :432     \n",
            "       X4               X5                 X6              X7       \n",
            " Min.   : 83.84   Min.   :   2.076   Min.   : 4.79   Min.   :51.95  \n",
            " 1st Qu.: 94.92   1st Qu.:  37.858   1st Qu.:16.03   1st Qu.:68.47  \n",
            " Median : 97.91   Median :  93.398   Median :19.77   Median :74.36  \n",
            " Mean   :102.25   Mean   : 294.560   Mean   :20.38   Mean   :72.65  \n",
            " 3rd Qu.:100.54   3rd Qu.: 222.247   3rd Qu.:25.22   3rd Qu.:78.94  \n",
            " Max.   :305.42   Max.   :8291.910   Max.   :54.69   Max.   :83.40  \n",
            " NA's   :432      NA's   :360        NA's   :576     NA's   :432    \n",
            "       X8               X9        \n",
            " Min.   :     0   Min.   : 0.100  \n",
            " 1st Qu.:   617   1st Qu.: 1.000  \n",
            " Median :  3166   Median : 3.800  \n",
            " Mean   : 19916   Mean   : 5.445  \n",
            " 3rd Qu.: 12456   3rd Qu.: 6.900  \n",
            " Max.   :492554   Max.   :49.700  \n",
            " NA's   :432      NA's   :360     \n"
          ]
        }
      ]
    },
    {
      "cell_type": "code",
      "metadata": {
        "colab": {
          "base_uri": "https://localhost:8080/",
          "height": 516
        },
        "id": "8RFZ5BODwyQK",
        "outputId": "0a4b1de3-6887-4cc3-81ad-207ddb2a3878"
      },
      "source": [
        "%%R\n",
        "data_analysis <- na.omit(data_analysis)\n",
        "boxplot(data_analysis)\n",
        "length(data_analysis$Y)"
      ],
      "execution_count": 61,
      "outputs": [
        {
          "output_type": "stream",
          "name": "stdout",
          "text": [
            "[1] 8712\n"
          ]
        },
        {
          "output_type": "display_data",
          "data": {
            "image/png": "[encoded data removed]"
          },
          "metadata": {}
        }
      ]
    },
    {
      "cell_type": "markdown",
      "metadata": {
        "id": "zDTevEFJr87g"
      },
      "source": [
        "5. Визуализация корреляционных связей"
      ]
    },
    {
      "cell_type": "code",
      "metadata": {
        "colab": {
          "base_uri": "https://localhost:8080/",
          "height": 497
        },
        "id": "OdHbsafVroG0",
        "outputId": "364c0b24-eda3-4eda-ebba-db2af9e7f168"
      },
      "source": [
        "%%R\n",
        "ggcorrplot(cor(data_analysis), lab = TRUE)"
      ],
      "execution_count": 62,
      "outputs": [
        {
          "output_type": "display_data",
          "data": {
            "image/png": "[encoded data removed]"
          },
          "metadata": {}
        }
      ]
    },
    {
      "cell_type": "markdown",
      "metadata": {
        "id": "5QJ_KNA-xJD7"
      },
      "source": [
        "6. Построение множественной линейной регрессии"
      ]
    },
    {
      "cell_type": "code",
      "metadata": {
        "colab": {
          "base_uri": "https://localhost:8080/"
        },
        "id": "oMzInk86sRMN",
        "outputId": "b25450ac-7168-479a-c154-4e45a6af10f1"
      },
      "source": [
        "%%R\n",
        "\n",
        "m_linear_regression <- lm(Y~., data_analysis)\n",
        "summary(m_linear_regression)"
      ],
      "execution_count": 63,
      "outputs": [
        {
          "output_type": "stream",
          "name": "stdout",
          "text": [
            "\n",
            "Call:\n",
            "lm(formula = Y ~ ., data = data_analysis)\n",
            "\n",
            "Residuals:\n",
            "   Min     1Q Median     3Q    Max \n",
            "-30140  -8097  -1803   5570  49595 \n",
            "\n",
            "Coefficients:\n",
            "              Estimate Std. Error t value Pr(>|t|)    \n",
            "(Intercept) -8.330e+04  2.285e+03 -36.452  < 2e-16 ***\n",
            "X1           2.938e+01  5.368e+01   0.547   0.5841    \n",
            "X2          -7.509e+01  5.136e+01  -1.462   0.1438    \n",
            "X3           9.851e+01  8.349e+00  11.799  < 2e-16 ***\n",
            "X4           3.899e+01  8.295e+00   4.700 2.64e-06 ***\n",
            "X5           7.343e-01  1.751e-01   4.193 2.78e-05 ***\n",
            "X6          -1.013e+03  2.339e+01 -43.323  < 2e-16 ***\n",
            "X7           1.504e+03  2.810e+01  53.542  < 2e-16 ***\n",
            "X8           3.673e-03  2.215e-03   1.658   0.0973 .  \n",
            "X9           1.253e+03  3.179e+01  39.423  < 2e-16 ***\n",
            "---\n",
            "Signif. codes:  0 ‘***’ 0.001 ‘**’ 0.01 ‘*’ 0.05 ‘.’ 0.1 ‘ ’ 1\n",
            "\n",
            "Residual standard error: 12350 on 8702 degrees of freedom\n",
            "Multiple R-squared:  0.6386,\tAdjusted R-squared:  0.6382 \n",
            "F-statistic:  1708 on 9 and 8702 DF,  p-value: < 2.2e-16\n",
            "\n"
          ]
        }
      ]
    },
    {
      "cell_type": "markdown",
      "metadata": {
        "id": "2rdpgrHbxZUG"
      },
      "source": [
        "7. Построение пошаговой регрессии\n",
        "\n",
        "    7.1. На включение"
      ]
    },
    {
      "cell_type": "code",
      "metadata": {
        "colab": {
          "base_uri": "https://localhost:8080/"
        },
        "id": "uJR8v9J_xYy_",
        "outputId": "8b5527cc-3568-4e25-b9df-626d6b266994"
      },
      "source": [
        "%%R\n",
        "model_step_forward <- stepAIC(m_linear_regression, direction = \"forward\")"
      ],
      "execution_count": 64,
      "outputs": [
        {
          "output_type": "stream",
          "name": "stdout",
          "text": [
            "Start:  AIC=164163.5\n",
            "Y ~ X1 + X2 + X3 + X4 + X5 + X6 + X7 + X8 + X9\n",
            "\n"
          ]
        }
      ]
    },
    {
      "cell_type": "code",
      "metadata": {
        "id": "9rDWEoPk-kSW",
        "outputId": "4674a75d-5920-4e6a-bd49-616114ef3175",
        "colab": {
          "base_uri": "https://localhost:8080/"
        }
      },
      "source": [
        "%%R\n",
        "\n",
        "summary(model_step_forward)"
      ],
      "execution_count": 68,
      "outputs": [
        {
          "output_type": "stream",
          "name": "stdout",
          "text": [
            "\n",
            "Call:\n",
            "lm(formula = Y ~ X1 + X2 + X3 + X4 + X5 + X6 + X7 + X8 + X9, \n",
            "    data = data_analysis)\n",
            "\n",
            "Residuals:\n",
            "   Min     1Q Median     3Q    Max \n",
            "-30140  -8097  -1803   5570  49595 \n",
            "\n",
            "Coefficients:\n",
            "              Estimate Std. Error t value Pr(>|t|)    \n",
            "(Intercept) -8.330e+04  2.285e+03 -36.452  < 2e-16 ***\n",
            "X1           2.938e+01  5.368e+01   0.547   0.5841    \n",
            "X2          -7.509e+01  5.136e+01  -1.462   0.1438    \n",
            "X3           9.851e+01  8.349e+00  11.799  < 2e-16 ***\n",
            "X4           3.899e+01  8.295e+00   4.700 2.64e-06 ***\n",
            "X5           7.343e-01  1.751e-01   4.193 2.78e-05 ***\n",
            "X6          -1.013e+03  2.339e+01 -43.323  < 2e-16 ***\n",
            "X7           1.504e+03  2.810e+01  53.542  < 2e-16 ***\n",
            "X8           3.673e-03  2.215e-03   1.658   0.0973 .  \n",
            "X9           1.253e+03  3.179e+01  39.423  < 2e-16 ***\n",
            "---\n",
            "Signif. codes:  0 ‘***’ 0.001 ‘**’ 0.01 ‘*’ 0.05 ‘.’ 0.1 ‘ ’ 1\n",
            "\n",
            "Residual standard error: 12350 on 8702 degrees of freedom\n",
            "Multiple R-squared:  0.6386,\tAdjusted R-squared:  0.6382 \n",
            "F-statistic:  1708 on 9 and 8702 DF,  p-value: < 2.2e-16\n",
            "\n"
          ]
        }
      ]
    },
    {
      "cell_type": "markdown",
      "metadata": {
        "id": "SYrrfp7a7ot5"
      },
      "source": [
        "    7.2. На исключение"
      ]
    },
    {
      "cell_type": "code",
      "metadata": {
        "colab": {
          "base_uri": "https://localhost:8080/"
        },
        "id": "rnoGdFOXxSzE",
        "outputId": "ec8eb34c-d67a-474a-afd8-e60a87dab513"
      },
      "source": [
        "%%R\n",
        "model_step_backward <- stepAIC(m_linear_regression, direction = \"backward\")"
      ],
      "execution_count": 65,
      "outputs": [
        {
          "output_type": "stream",
          "name": "stdout",
          "text": [
            "Start:  AIC=164163.5\n",
            "Y ~ X1 + X2 + X3 + X4 + X5 + X6 + X7 + X8 + X9\n",
            "\n",
            "       Df  Sum of Sq        RSS    AIC\n",
            "- X1    1 4.5678e+07 1.3265e+12 164162\n",
            "<none>               1.3265e+12 164164\n",
            "- X2    1 3.2581e+08 1.3268e+12 164164\n",
            "- X8    1 4.1927e+08 1.3269e+12 164164\n",
            "- X5    1 2.6795e+09 1.3292e+12 164179\n",
            "- X4    1 3.3678e+09 1.3298e+12 164184\n",
            "- X3    1 2.1220e+10 1.3477e+12 164300\n",
            "- X9    1 2.3690e+11 1.5634e+12 165593\n",
            "- X6    1 2.8610e+11 1.6126e+12 165863\n",
            "- X7    1 4.3698e+11 1.7635e+12 166642\n",
            "\n",
            "Step:  AIC=164161.9\n",
            "Y ~ X2 + X3 + X4 + X5 + X6 + X7 + X8 + X9\n",
            "\n",
            "       Df  Sum of Sq        RSS    AIC\n",
            "<none>               1.3265e+12 164162\n",
            "- X8    1 4.2760e+08 1.3269e+12 164163\n",
            "- X5    1 2.7258e+09 1.3292e+12 164178\n",
            "- X4    1 3.4456e+09 1.3300e+12 164182\n",
            "- X2    1 9.8251e+09 1.3363e+12 164224\n",
            "- X3    1 2.1238e+10 1.3478e+12 164298\n",
            "- X9    1 2.3852e+11 1.5650e+12 165600\n",
            "- X6    1 2.8762e+11 1.6141e+12 165870\n",
            "- X7    1 4.4240e+11 1.7689e+12 166667\n"
          ]
        }
      ]
    },
    {
      "cell_type": "code",
      "metadata": {
        "id": "XWAphQzn-pRv",
        "outputId": "c2a5dfb3-3505-44fb-f2f9-7baae73a6c57",
        "colab": {
          "base_uri": "https://localhost:8080/"
        }
      },
      "source": [
        "%%R\n",
        "\n",
        "summary(model_step_backward)"
      ],
      "execution_count": 69,
      "outputs": [
        {
          "output_type": "stream",
          "name": "stdout",
          "text": [
            "\n",
            "Call:\n",
            "lm(formula = Y ~ X2 + X3 + X4 + X5 + X6 + X7 + X8 + X9, data = data_analysis)\n",
            "\n",
            "Residuals:\n",
            "   Min     1Q Median     3Q    Max \n",
            "-30192  -8116  -1773   5574  49578 \n",
            "\n",
            "Coefficients:\n",
            "              Estimate Std. Error t value Pr(>|t|)    \n",
            "(Intercept) -8.304e+04  2.234e+03 -37.170  < 2e-16 ***\n",
            "X2          -4.716e+01  5.874e+00  -8.029 1.11e-15 ***\n",
            "X3           9.854e+01  8.348e+00  11.804  < 2e-16 ***\n",
            "X4           3.933e+01  8.272e+00   4.755 2.02e-06 ***\n",
            "X5           7.395e-01  1.749e-01   4.229 2.37e-05 ***\n",
            "X6          -1.014e+03  2.334e+01 -43.439  < 2e-16 ***\n",
            "X7           1.502e+03  2.789e+01  53.875  < 2e-16 ***\n",
            "X8           3.708e-03  2.214e-03   1.675    0.094 .  \n",
            "X9           1.254e+03  3.171e+01  39.559  < 2e-16 ***\n",
            "---\n",
            "Signif. codes:  0 ‘***’ 0.001 ‘**’ 0.01 ‘*’ 0.05 ‘.’ 0.1 ‘ ’ 1\n",
            "\n",
            "Residual standard error: 12350 on 8703 degrees of freedom\n",
            "Multiple R-squared:  0.6386,\tAdjusted R-squared:  0.6383 \n",
            "F-statistic:  1922 on 8 and 8703 DF,  p-value: < 2.2e-16\n",
            "\n"
          ]
        }
      ]
    },
    {
      "cell_type": "markdown",
      "metadata": {
        "id": "EPa2rsPR7wU_"
      },
      "source": [
        "      7.3. Комбинированный подход"
      ]
    },
    {
      "cell_type": "code",
      "metadata": {
        "colab": {
          "base_uri": "https://localhost:8080/"
        },
        "id": "IO-EA7mWyHwq",
        "outputId": "d6ed0286-ecb1-4722-d5f3-98a9d8a7a9a3"
      },
      "source": [
        "%%R\n",
        "model_step_both <- stepAIC(m_linear_regression, direction = \"both\")\n"
      ],
      "execution_count": 66,
      "outputs": [
        {
          "output_type": "stream",
          "name": "stdout",
          "text": [
            "Start:  AIC=164163.5\n",
            "Y ~ X1 + X2 + X3 + X4 + X5 + X6 + X7 + X8 + X9\n",
            "\n",
            "       Df  Sum of Sq        RSS    AIC\n",
            "- X1    1 4.5678e+07 1.3265e+12 164162\n",
            "<none>               1.3265e+12 164164\n",
            "- X2    1 3.2581e+08 1.3268e+12 164164\n",
            "- X8    1 4.1927e+08 1.3269e+12 164164\n",
            "- X5    1 2.6795e+09 1.3292e+12 164179\n",
            "- X4    1 3.3678e+09 1.3298e+12 164184\n",
            "- X3    1 2.1220e+10 1.3477e+12 164300\n",
            "- X9    1 2.3690e+11 1.5634e+12 165593\n",
            "- X6    1 2.8610e+11 1.6126e+12 165863\n",
            "- X7    1 4.3698e+11 1.7635e+12 166642\n",
            "\n",
            "Step:  AIC=164161.9\n",
            "Y ~ X2 + X3 + X4 + X5 + X6 + X7 + X8 + X9\n",
            "\n",
            "       Df  Sum of Sq        RSS    AIC\n",
            "<none>               1.3265e+12 164162\n",
            "- X8    1 4.2760e+08 1.3269e+12 164163\n",
            "+ X1    1 4.5678e+07 1.3265e+12 164164\n",
            "- X5    1 2.7258e+09 1.3292e+12 164178\n",
            "- X4    1 3.4456e+09 1.3300e+12 164182\n",
            "- X2    1 9.8251e+09 1.3363e+12 164224\n",
            "- X3    1 2.1238e+10 1.3478e+12 164298\n",
            "- X9    1 2.3852e+11 1.5650e+12 165600\n",
            "- X6    1 2.8762e+11 1.6141e+12 165870\n",
            "- X7    1 4.4240e+11 1.7689e+12 166667\n"
          ]
        }
      ]
    },
    {
      "cell_type": "code",
      "metadata": {
        "id": "qxMaomdj-uQ3",
        "outputId": "5ecf696f-c5fe-4d8b-f0f1-a657e17e4fb3",
        "colab": {
          "base_uri": "https://localhost:8080/"
        }
      },
      "source": [
        "%%R\n",
        "\n",
        "summary(model_step_both)"
      ],
      "execution_count": 70,
      "outputs": [
        {
          "output_type": "stream",
          "name": "stdout",
          "text": [
            "\n",
            "Call:\n",
            "lm(formula = Y ~ X2 + X3 + X4 + X5 + X6 + X7 + X8 + X9, data = data_analysis)\n",
            "\n",
            "Residuals:\n",
            "   Min     1Q Median     3Q    Max \n",
            "-30192  -8116  -1773   5574  49578 \n",
            "\n",
            "Coefficients:\n",
            "              Estimate Std. Error t value Pr(>|t|)    \n",
            "(Intercept) -8.304e+04  2.234e+03 -37.170  < 2e-16 ***\n",
            "X2          -4.716e+01  5.874e+00  -8.029 1.11e-15 ***\n",
            "X3           9.854e+01  8.348e+00  11.804  < 2e-16 ***\n",
            "X4           3.933e+01  8.272e+00   4.755 2.02e-06 ***\n",
            "X5           7.395e-01  1.749e-01   4.229 2.37e-05 ***\n",
            "X6          -1.014e+03  2.334e+01 -43.439  < 2e-16 ***\n",
            "X7           1.502e+03  2.789e+01  53.875  < 2e-16 ***\n",
            "X8           3.708e-03  2.214e-03   1.675    0.094 .  \n",
            "X9           1.254e+03  3.171e+01  39.559  < 2e-16 ***\n",
            "---\n",
            "Signif. codes:  0 ‘***’ 0.001 ‘**’ 0.01 ‘*’ 0.05 ‘.’ 0.1 ‘ ’ 1\n",
            "\n",
            "Residual standard error: 12350 on 8703 degrees of freedom\n",
            "Multiple R-squared:  0.6386,\tAdjusted R-squared:  0.6383 \n",
            "F-statistic:  1922 on 8 and 8703 DF,  p-value: < 2.2e-16\n",
            "\n"
          ]
        }
      ]
    },
    {
      "cell_type": "markdown",
      "metadata": {
        "id": "PjFpmDxEyOsK"
      },
      "source": [
        "8. Сравнение"
      ]
    },
    {
      "cell_type": "code",
      "metadata": {
        "colab": {
          "base_uri": "https://localhost:8080/"
        },
        "id": "iIKQVxAXyMkR",
        "outputId": "bf0b02b0-58e1-4db6-dc1d-bfa8c9e6a756"
      },
      "source": [
        "%%R\n",
        "\n",
        "AIC(m_linear_regression, model_step_forward, model_step_backward, model_step_both)"
      ],
      "execution_count": 67,
      "outputs": [
        {
          "output_type": "stream",
          "name": "stdout",
          "text": [
            "                    df      AIC\n",
            "m_linear_regression 11 188889.1\n",
            "model_step_forward  11 188889.1\n",
            "model_step_backward 10 188887.4\n",
            "model_step_both     10 188887.4\n"
          ]
        }
      ]
    },
    {
      "cell_type": "code",
      "metadata": {
        "id": "nAD6YWyQyYgD"
      },
      "source": [
        ""
      ],
      "execution_count": 67,
      "outputs": []
    }
  ]
}