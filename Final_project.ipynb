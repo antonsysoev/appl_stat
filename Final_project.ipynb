{
  "nbformat": 4,
  "nbformat_minor": 0,
  "metadata": {
    "colab": {
      "name": "Final_project.ipynb",
      "provenance": [],
      "authorship_tag": "ABX9TyOyPL2vpNOCLUaZennEyhOl",
      "include_colab_link": true
    },
    "kernelspec": {
      "name": "python3",
      "display_name": "Python 3"
    },
    "language_info": {
      "name": "python"
    }
  },
  "cells": [
    {
      "cell_type": "markdown",
      "metadata": {
        "id": "view-in-github",
        "colab_type": "text"
      },
      "source": [
        "<a href=\"https://colab.research.google.com/github/antonsysoev/appl_stat/blob/gh-pages/Final_project.ipynb\" target=\"_parent\"><img src=\"https://colab.research.google.com/assets/colab-badge.svg\" alt=\"Open In Colab\"/></a>"
      ]
    },
    {
      "cell_type": "markdown",
      "metadata": {
        "id": "V-bLKfjBoojh"
      },
      "source": [
        "1. Подключение среды R"
      ]
    },
    {
      "cell_type": "code",
      "metadata": {
        "id": "iHx2vVNgorhZ"
      },
      "source": [
        "%load_ext rpy2.ipython"
      ],
      "execution_count": 1,
      "outputs": []
    },
    {
      "cell_type": "markdown",
      "metadata": {
        "id": "ntek5YTZos6n"
      },
      "source": [
        "2. Установка и подключение необходимых библиотек"
      ]
    },
    {
      "cell_type": "code",
      "metadata": {
        "colab": {
          "base_uri": "https://localhost:8080/"
        },
        "id": "WCSFX4LgosLk",
        "outputId": "00f7195d-ab22-4ca7-deff-9543be8ce899"
      },
      "source": [
        "%%R\n",
        "library(readxl)\n",
        "library(data.table)\n",
        "install.packages(\"ggcorrplot\")\n",
        "library(ggcorrplot)\n",
        "library(dplyr)\n",
        "library(MASS)"
      ],
      "execution_count": 9,
      "outputs": [
        {
          "output_type": "stream",
          "name": "stderr",
          "text": [
            "R[write to console]: Installing package into ‘/usr/local/lib/R/site-library’\n",
            "(as ‘lib’ is unspecified)\n",
            "\n",
            "R[write to console]: also installing the dependencies ‘plyr’, ‘reshape2’\n",
            "\n",
            "\n",
            "R[write to console]: trying URL 'https://cran.rstudio.com/src/contrib/plyr_1.8.6.tar.gz'\n",
            "\n",
            "R[write to console]: Content type 'application/x-gzip'\n",
            "R[write to console]:  length 401191 bytes (391 KB)\n",
            "\n",
            "R[write to console]: =\n",
            "R[write to console]: =\n",
            "R[write to console]: =\n",
            "R[write to console]: =\n",
            "R[write to console]: =\n",
            "R[write to console]: =\n",
            "R[write to console]: =\n",
            "R[write to console]: =\n",
            "R[write to console]: =\n",
            "R[write to console]: =\n",
            "R[write to console]: =\n",
            "R[write to console]: =\n",
            "R[write to console]: =\n",
            "R[write to console]: =\n",
            "R[write to console]: =\n",
            "R[write to console]: =\n",
            "R[write to console]: =\n",
            "R[write to console]: =\n",
            "R[write to console]: =\n",
            "R[write to console]: =\n",
            "R[write to console]: =\n",
            "R[write to console]: =\n",
            "R[write to console]: =\n",
            "R[write to console]: =\n",
            "R[write to console]: =\n",
            "R[write to console]: =\n",
            "R[write to console]: =\n",
            "R[write to console]: =\n",
            "R[write to console]: =\n",
            "R[write to console]: =\n",
            "R[write to console]: =\n",
            "R[write to console]: =\n",
            "R[write to console]: =\n",
            "R[write to console]: =\n",
            "R[write to console]: =\n",
            "R[write to console]: =\n",
            "R[write to console]: =\n",
            "R[write to console]: =\n",
            "R[write to console]: =\n",
            "R[write to console]: =\n",
            "R[write to console]: =\n",
            "R[write to console]: =\n",
            "R[write to console]: =\n",
            "R[write to console]: =\n",
            "R[write to console]: =\n",
            "R[write to console]: =\n",
            "R[write to console]: =\n",
            "R[write to console]: =\n",
            "R[write to console]: =\n",
            "R[write to console]: =\n",
            "R[write to console]: \n",
            "\n",
            "R[write to console]: downloaded 391 KB\n",
            "\n",
            "\n",
            "R[write to console]: trying URL 'https://cran.rstudio.com/src/contrib/reshape2_1.4.4.tar.gz'\n",
            "\n",
            "R[write to console]: Content type 'application/x-gzip'\n",
            "R[write to console]:  length 37307 bytes (36 KB)\n",
            "\n",
            "R[write to console]: =\n",
            "R[write to console]: =\n",
            "R[write to console]: =\n",
            "R[write to console]: =\n",
            "R[write to console]: =\n",
            "R[write to console]: =\n",
            "R[write to console]: =\n",
            "R[write to console]: =\n",
            "R[write to console]: =\n",
            "R[write to console]: =\n",
            "R[write to console]: =\n",
            "R[write to console]: =\n",
            "R[write to console]: =\n",
            "R[write to console]: =\n",
            "R[write to console]: =\n",
            "R[write to console]: =\n",
            "R[write to console]: =\n",
            "R[write to console]: =\n",
            "R[write to console]: =\n",
            "R[write to console]: =\n",
            "R[write to console]: =\n",
            "R[write to console]: =\n",
            "R[write to console]: =\n",
            "R[write to console]: =\n",
            "R[write to console]: =\n",
            "R[write to console]: =\n",
            "R[write to console]: =\n",
            "R[write to console]: =\n",
            "R[write to console]: =\n",
            "R[write to console]: =\n",
            "R[write to console]: =\n",
            "R[write to console]: =\n",
            "R[write to console]: =\n",
            "R[write to console]: =\n",
            "R[write to console]: =\n",
            "R[write to console]: =\n",
            "R[write to console]: =\n",
            "R[write to console]: =\n",
            "R[write to console]: =\n",
            "R[write to console]: =\n",
            "R[write to console]: =\n",
            "R[write to console]: =\n",
            "R[write to console]: =\n",
            "R[write to console]: =\n",
            "R[write to console]: =\n",
            "R[write to console]: =\n",
            "R[write to console]: =\n",
            "R[write to console]: =\n",
            "R[write to console]: =\n",
            "R[write to console]: =\n",
            "R[write to console]: \n",
            "\n",
            "R[write to console]: downloaded 36 KB\n",
            "\n",
            "\n",
            "R[write to console]: trying URL 'https://cran.rstudio.com/src/contrib/ggcorrplot_0.1.3.tar.gz'\n",
            "\n",
            "R[write to console]: Content type 'application/x-gzip'\n",
            "R[write to console]:  length 779068 bytes (760 KB)\n",
            "\n",
            "R[write to console]: =\n",
            "R[write to console]: =\n",
            "R[write to console]: =\n",
            "R[write to console]: =\n",
            "R[write to console]: =\n",
            "R[write to console]: =\n",
            "R[write to console]: =\n",
            "R[write to console]: =\n",
            "R[write to console]: =\n",
            "R[write to console]: =\n",
            "R[write to console]: =\n",
            "R[write to console]: =\n",
            "R[write to console]: =\n",
            "R[write to console]: =\n",
            "R[write to console]: =\n",
            "R[write to console]: =\n",
            "R[write to console]: =\n",
            "R[write to console]: =\n",
            "R[write to console]: =\n",
            "R[write to console]: =\n",
            "R[write to console]: =\n",
            "R[write to console]: =\n",
            "R[write to console]: =\n",
            "R[write to console]: =\n",
            "R[write to console]: =\n",
            "R[write to console]: =\n",
            "R[write to console]: =\n",
            "R[write to console]: =\n",
            "R[write to console]: =\n",
            "R[write to console]: =\n",
            "R[write to console]: =\n",
            "R[write to console]: =\n",
            "R[write to console]: =\n",
            "R[write to console]: =\n",
            "R[write to console]: =\n",
            "R[write to console]: =\n",
            "R[write to console]: =\n",
            "R[write to console]: =\n",
            "R[write to console]: =\n",
            "R[write to console]: =\n",
            "R[write to console]: =\n",
            "R[write to console]: =\n",
            "R[write to console]: =\n",
            "R[write to console]: =\n",
            "R[write to console]: =\n",
            "R[write to console]: =\n",
            "R[write to console]: =\n",
            "R[write to console]: =\n",
            "R[write to console]: =\n",
            "R[write to console]: =\n",
            "R[write to console]: \n",
            "\n",
            "R[write to console]: downloaded 760 KB\n",
            "\n",
            "\n",
            "R[write to console]: \n",
            "\n",
            "R[write to console]: \n",
            "R[write to console]: The downloaded source packages are in\n",
            "\t‘/tmp/RtmpBmREex/downloaded_packages’\n",
            "R[write to console]: \n",
            "R[write to console]: \n",
            "\n",
            "R[write to console]: Loading required package: ggplot2\n",
            "\n"
          ]
        }
      ]
    },
    {
      "cell_type": "markdown",
      "metadata": {
        "id": "JxC4s3LPruJU"
      },
      "source": [
        "3. Считывание данных"
      ]
    },
    {
      "cell_type": "code",
      "metadata": {
        "id": "JF1lqSi3pAEi"
      },
      "source": [
        "%%R\n",
        "data <-fread(\"/content/dib_dataset.csv\")"
      ],
      "execution_count": 33,
      "outputs": []
    },
    {
      "cell_type": "code",
      "metadata": {
        "colab": {
          "base_uri": "https://localhost:8080/"
        },
        "id": "ruxmXvaqrg6U",
        "outputId": "722fa178-f289-4ae8-84cc-47a0b48d1e70"
      },
      "source": [
        "%%R\n",
        "str(data)"
      ],
      "execution_count": 34,
      "outputs": [
        {
          "output_type": "stream",
          "name": "stdout",
          "text": [
            "Classes ‘data.table’ and 'data.frame':\t9504 obs. of  192 variables:\n",
            " $ locality_code                                                                                                        : chr  \"AE\" \"AF\" \"AG\" \"AO\" ...\n",
            " $ locality_name                                                                                                        : chr  \"United Arab Emirates\" \"Afghanistan\" \"Antigua and Barbuda\" \"Angola\" ...\n",
            " $ date                                                                                                                 : IDate, format: \"2020-02-15\" \"2020-02-15\" ...\n",
            " $ new_cases                                                                                                            : int  0 0 0 0 0 0 0 0 0 0 ...\n",
            " $ new_deaths                                                                                                           : int  0 0 0 0 0 0 0 0 0 0 ...\n",
            " $ acc_cases                                                                                                            : int  0 0 0 0 0 0 0 0 0 0 ...\n",
            " $ acc_deaths                                                                                                           : int  0 0 0 0 0 0 0 0 0 0 ...\n",
            " $ index_of_industrial_production_total_industry_mining_manufacturing_electricity_gas_and_water_index_base_2005_100_2014: num  NA NA NA NA NA ...\n",
            " $ index_of_industrial_production_mining_index_base_2005_100_2014                                                       : num  NA NA NA NA NA ...\n",
            " $ index_of_industrial_production_manufacturing_index_base_2005_100_2014                                                : num  NA NA NA NA 169 ...\n",
            " $ index_of_industrial_production_food_beverages_and_tobacco_index_base_2005_100_2014                                   : num  NA NA NA NA 200 ...\n",
            " $ index_of_industrial_production_textiles_wearing_apparel_leather_footwear_index_base_2005_100_2014                    : num  NA NA NA NA 174 ...\n",
            " $ index_of_industrial_production_chemicals_petroleum_rubber_and_plastic_products_index_base_2005_100_2014              : num  NA NA NA NA 155 ...\n",
            " $ index_of_industrial_production_metal_products_and_machinery_index_base_2005_100_2014                                 : num  NA NA NA NA 137 ...\n",
            " $ index_of_industrial_production_electricity_gas_steam_index_base_2005_100_2014                                        : num  NA NA NA NA NA ...\n",
            " $ index_of_industrial_production_water_and_waste_management_index_base_2005_100_2014                                   : num  NA NA NA NA NA ...\n",
            " $ index_of_industrial_production_basic_metals_index_base_2005_100_2014                                                 : num  NA NA NA NA 145 ...\n",
            " $ index_of_industrial_production_electricity_gas_and_water_index_base_2005_100_2014                                    : num  NA NA NA NA 135 ...\n",
            " $ index_of_industrial_production_metal_products_index_base_2005_100_2013                                               : int  NA NA NA NA NA NA NA NA NA NA ...\n",
            " $ index_of_industrial_production_machinery_index_base_2005_100_2013                                                    : num  NA NA NA NA NA NA NA NA NA NA ...\n",
            " $ index_of_industrial_production_miscellaneous_manufacturing_industries_index_base_2005_100_2014                       : int  NA NA NA NA NA NA NA NA NA NA ...\n",
            " $ index_of_industrial_production_mining_and_manufacturing_index_base_2005_100_2014                                     : num  NA NA NA NA NA NA NA NA NA NA ...\n",
            " $ emissions_thousand_metric_tons_of_carbon_dioxide_2014                                                                : int  211370 9809 532 34763 204025 58712 361262 873 22233 1272 ...\n",
            " $ emissions_per_capita_metric_tons_of_carbon_dioxide_2014                                                              : num  23.2 0.3 5.8 1.4 4.7 6.9 15.3 8.4 5.8 4.5 ...\n",
            " $ agricultural_production_index_base_2004_2006_100_2016                                                                : num  101 125.4 70.2 191.9 130.9 ...\n",
            " $ food_production_index_base_2004_2006_100_2016                                                                        : num  101 125 70 193 131 ...\n",
            " $ urban_population_percent_growth_rate_per_annum_2015                                                                  : num  2.4 4 0.1 4.7 1.2 0.7 1.6 0.5 -0.3 -0.1 ...\n",
            " $ rural_population_percent_growth_rate_per_annum_2015                                                                  : num  -0.1 2.9 1.4 1.6 -0.4 0.5 0.8 0.5 -1.6 0.5 ...\n",
            " $ urban_population_percent_2018                                                                                        : num  86.5 25.5 24.6 65.5 91.9 58.3 86 43.4 48.2 31.1 ...\n",
            " $ capital_city_population_as_a_percentage_of_total_population_2015                                                     : num  13.1 11 NA 25.2 33.9 21.1 1.8 NA 9.7 NA ...\n",
            " $ capital_city_population_as_a_percentage_of_total_urban_population_2015                                               : num  15.3 44.5 NA 39.7 37 36.6 2.1 NA 20.5 NA ...\n",
            " $ capital_city_population_thousands_2018                                                                               : int  1420 4012 21 7774 14967 1901 448 30 343 89 ...\n",
            " $ surface_area_thousand_km2_2017                                                                                       : num  83.6 652.864 0.442 1246.7 2780.4 ...\n",
            " $ population_mid_year_estimates_millions_2019                                                                          : num  9.7705 38.0418 0.0971 31.8253 44.7807 ...\n",
            " $ population_mid_year_estimates_for_males_millions_2019                                                                : num  6.7668 19.5297 0.0469 15.7448 21.8414 ...\n",
            " $ population_mid_year_estimates_for_females_millions_2019                                                              : num  3.0037 18.512 0.0503 16.0805 22.9393 ...\n",
            " $ sex_ratio_males_per_100_females_2019                                                                                 : num  225.3 105.5 93.2 97.9 95.2 ...\n",
            " $ population_aged_0_to_14_years_old_percentage_2019                                                                    : num  14.7 42.5 22 46.6 24.6 ...\n",
            " $ population_aged_60_years_old_percentage_2019                                                                         : num  2.8 4.17 13.62 3.62 15.39 ...\n",
            " $ population_density_2019                                                                                              : num  116.9 58.3 220.7 25.5 16.4 ...\n",
            " $ imports_cif_millions_of_us_dollars_2018                                                                              : num  155599 8345 829 18019 66306 ...\n",
            " $ exports_fob_millions_of_us_dollars_2018                                                                              : num  106586 821.6 45.7 38953.3 66318.6 ...\n",
            " $ balance_imports_exports_millions_of_us_dollars_2018                                                                  : num  -49013.2 -7523.2 -783 20934.5 12.8 ...\n",
            " $ balance_of_payments_current_account_millions_of_us_dollars_2018                                                      : num  NA NA NA 7502 -28003 ...\n",
            " $ balance_of_payments_capital_account_millions_of_us_dollars_2018                                                      : num  NA NA NA 2.93 85.72 ...\n",
            " $ balance_of_payments_financial_account_millions_of_us_dollars_2018                                                    : num  NA NA NA 4721 -28480 ...\n",
            " $ consumer_price_index_general_2018                                                                                    : num  117 NA NA 337 152 ...\n",
            " $ consumer_price_index_food_2018                                                                                       : num  NA NA NA NA 148 ...\n",
            " $ exchange_rates_end_of_period_national_currency_per_us_dollar_2018                                                    : num  3.67 74.96 2.7 308.61 37.6 ...\n",
            " $ exchange_rates_period_average_national_currency_per_us_dollar_2018                                                   : num  3.67 72.08 2.7 252.86 28.09 ...\n",
            " $ land_area_thousand_hectares_2016                                                                                     : int  7102 65286 44 124670 273669 8252 769202 18 5120 43 ...\n",
            " $ arable_land_thousand_hectares_2016                                                                                   : int  45 7729 4 4900 39200 1344 46048 2 1026 7 ...\n",
            " $ permanent_crops_thousand_hectares_2016                                                                               : int  39 181 1 290 1000 67 330 NA 104 1 ...\n",
            " $ forest_cover_thousand_hectares_2016                                                                                  : int  324 1350 10 57731 26815 3871 125059 0 2185 6 ...\n",
            " $ arable_land_of_total_land_area_2016                                                                                  : num  0.6 11.8 9.1 3.9 14.3 16.3 6 11.1 20 16.3 ...\n",
            " $ permanent_crops_of_total_land_area_2016                                                                              : num  0.6 0.3 2.3 0.2 0.4 0.8 0 NA 2 2.3 ...\n",
            " $ forest_cover_of_total_land_area_2016                                                                                 : num  4.6 2.1 22.3 46.3 9.8 46.9 16.3 2.3 42.7 14.7 ...\n",
            " $ important_sites_for_terrestrial_biodiversity_protected_of_total_sites_protected_2018                                 : num  30.78 6.14 18.44 28.37 33.21 ...\n",
            " $ agriculture_hunting_forestry_and_fishing_of_gross_value_added_2016                                                   : num  0.776 24.072 1.747 9.885 7.527 ...\n",
            " $ industry_of_gross_value_added_2016                                                                                   : num  41.4 22 19.8 42.9 26.3 ...\n",
            " $ services_of_gross_value_added_2016                                                                                   : num  57.8 53.9 78.5 47.2 66.2 ...\n",
            " $ health_personnel_physicians_number_2018                                                                              : int  NA NA NA NA NA NA NA NA NA NA ...\n",
            " $ health_personnel_physicians_per_1000_population_2018                                                                 : num  NA NA NA NA NA NA NA NA NA NA ...\n",
            " $ health_personnel_nurses_and_midwives_number_2018                                                                     : int  NA NA NA NA NA NA NA NA NA NA ...\n",
            " $ health_personnel_nurses_and_midwives_personnel_per_1000_population_2018                                              : num  NA NA NA NA NA NA NA NA NA NA ...\n",
            " $ health_personnel_dentists_number_2018                                                                                : int  NA NA NA NA NA NA NA NA NA NA ...\n",
            " $ health_personnel_dentists_per_1000_population_2018                                                                   : num  NA NA NA NA NA NA NA NA NA NA ...\n",
            " $ health_personnel_pharmacists_number_2018                                                                             : int  NA NA NA NA NA NA NA NA NA NA ...\n",
            " $ health_personnel_pharmacists_per_1000_population_2018                                                                : int  NA NA NA NA NA NA NA NA NA NA ...\n",
            " $ employment_by_industry_agriculture_male_and_female_2019                                                              : num  0.33 61.72 NA 50.03 0.51 ...\n",
            " $ employment_by_industry_industry_male_and_female_2019                                                                 : num  38.56 6.82 NA 8.72 23.08 ...\n",
            " $ employment_by_industry_services_male_and_female_2019                                                                 : num  61.1 31.5 NA 41.2 76.4 ...\n",
            " $ employment_by_industry_agriculture_male_2019                                                                         : num  0.38 59.34 NA 43.12 0.76 ...\n",
            " $ employment_by_industry_industry_male_2019                                                                            : num  43.1 7.1 NA 16.1 33.4 ...\n",
            " $ employment_by_industry_services_male_2019                                                                            : num  56.5 33.6 NA 40.8 65.8 ...\n",
            " $ employment_by_industry_agriculture_female_2019                                                                       : num  0.03 73.48 NA 57 0.14 ...\n",
            " $ employment_by_industry_industry_female_2019                                                                          : num  6.64 5.46 NA 1.3 7.5 ...\n",
            " $ employment_by_industry_services_female_2019                                                                          : num  93.3 21.1 NA 41.7 92.4 ...\n",
            " $ net_official_development_assistance_received_bilateral_millions_of_us_dollars_2017                                   : num  NA 3194.4 -20.9 75.8 -37.8 ...\n",
            " $ net_official_development_assistance_received_multilateral_millions_of_us_dollars_2017                                : num  NA 609.6 30.8 147.5 32.9 ...\n",
            " $ net_official_development_assistance_received_total_millions_of_us_dollars_2017                                       : num  NA 3804.01 9.9 223.22 -4.93 ...\n",
            " $ net_official_development_assistance_received_total_as_gni_2017                                                       : num  NA 18.1 0.66 0.19 0 NA NA NA 2.43 NA ...\n",
            " $ gdp_in_current_prices_millions_of_us_dollars_2017                                                                    : int  382575 21993 1510 126506 637486 416836 1408676 2701 18169 4713 ...\n",
            " $ gdp_per_capita_us_dollars_2017                                                                                       : int  40699 619 14803 4247 14400 47718 57613 25655 5181 16494 ...\n",
            " $ gdp_in_constant_2010_prices_millions_of_us_dollars_2017                                                              : int  387259 22175 1382 99277 463442 432754 1567225 2582 19502 4561 ...\n",
            " $ gdp_real_rates_of_growth_percent_2017                                                                                : num  0.8 2.5 3 -2.5 2.9 2.6 2.9 1.3 3 0.9 ...\n",
            " $ current_expenditure_other_than_staff_compensation_as_of_total_expenditure_in_public_institutions_2018                : logi  NA NA NA NA NA NA ...\n",
            " $ all_staff_compensation_as_of_total_expenditure_in_public_institutions_2018                                           : logi  NA NA NA NA NA NA ...\n",
            " $ capital_expenditure_as_of_total_expenditure_in_public_institutions_2018                                              : logi  NA NA NA NA NA NA ...\n",
            " $ expenditure_by_level_of_education_pre_primary_as_of_government_expenditure_2018                                      : logi  NA NA NA NA NA NA ...\n",
            " $ expenditure_by_level_of_education_primary_as_of_government_expenditure_2018                                          : num  NA NA NA NA NA NA NA NA NA NA ...\n",
            " $ expenditure_by_level_of_education_secondary_as_of_government_expenditure_2018                                        : num  NA NA NA NA NA NA NA NA NA NA ...\n",
            " $ expenditure_by_level_of_education_tertiary_as_of_government_expenditure_2018                                         : num  NA NA NA NA NA NA NA NA NA NA ...\n",
            " $ public_expenditure_on_education_of_government_expenditure_2018                                                       : num  NA NA NA NA NA NA NA NA NA NA ...\n",
            " $ public_expenditure_on_education_of_gdp_2018                                                                          : logi  NA NA NA NA NA NA ...\n",
            " $ population_annual_rate_of_increase_percent_2015                                                                      : num  1.6 3.3 1.22 3.54 1.04 ...\n",
            " $ infant_mortality_for_both_sexes_per_1000_live_births_2015                                                            : num  6.5 60.1 6.79 78.25 12.06 ...\n",
            " $ maternal_mortality_ratio_deaths_per_100000_livebirths_2015                                                           : num  6.1 396.1 NA 477 52.4 ...\n",
            " $ life_expectancy_at_birth_for_both_sexes_years_2015                                                                   : num  76.8 62.3 76.1 57.7 75.7 ...\n",
            "  [list output truncated]\n",
            " - attr(*, \".internal.selfref\")=<externalptr> \n"
          ]
        }
      ]
    },
    {
      "cell_type": "markdown",
      "metadata": {
        "id": "I-hCMpzTsU0t"
      },
      "source": [
        "4. Отбор числовых признаков, очистка данных"
      ]
    },
    {
      "cell_type": "code",
      "metadata": {
        "id": "YnMZkQNFtKlz"
      },
      "source": [
        "%%R\n",
        "data_analysis <- data.frame(Y=data$gdp_per_capita_us_dollars_2017, \n",
        "                            X1 = data$agricultural_production_index_base_2004_2006_100_2016,\n",
        "                            X2 = data$food_production_index_base_2004_2006_100_2016,\n",
        "                            X3 = data$urban_population_percent_2018,\n",
        "                            X4 = data$sex_ratio_males_per_100_females_2019,\n",
        "                            X5 = data$population_density_2019,\n",
        "                            X6 = data$employment_by_industry_industry_male_and_female_2019)\n"
      ],
      "execution_count": 35,
      "outputs": []
    },
    {
      "cell_type": "code",
      "metadata": {
        "colab": {
          "base_uri": "https://localhost:8080/"
        },
        "id": "REqTHoyyvypB",
        "outputId": "af950e1d-1eac-4d7d-c795-af0c72e538bb"
      },
      "source": [
        "%%R\n",
        "summary(data_analysis)"
      ],
      "execution_count": 36,
      "outputs": [
        {
          "output_type": "stream",
          "name": "stdout",
          "text": [
            "       Y                X1              X2              X3        \n",
            " Min.   :   378   Min.   : 59.2   Min.   : 59.2   Min.   : 13.20  \n",
            " 1st Qu.:  2342   1st Qu.:101.5   1st Qu.:101.5   1st Qu.: 43.50  \n",
            " Median :  7977   Median :117.3   Median :118.0   Median : 65.35  \n",
            " Mean   : 18141   Mean   :121.6   Mean   :122.3   Mean   : 62.59  \n",
            " 3rd Qu.: 25655   3rd Qu.:139.2   3rd Qu.:139.7   3rd Qu.: 82.20  \n",
            " Max.   :166022   Max.   :198.4   Max.   :198.4   Max.   :100.00  \n",
            " NA's   :360      NA's   :504     NA's   :504     NA's   :432     \n",
            "       X4               X5                 X6       \n",
            " Min.   : 83.84   Min.   :   2.076   Min.   : 4.79  \n",
            " 1st Qu.: 94.92   1st Qu.:  37.858   1st Qu.:16.03  \n",
            " Median : 97.91   Median :  93.398   Median :19.77  \n",
            " Mean   :102.25   Mean   : 294.560   Mean   :20.38  \n",
            " 3rd Qu.:100.54   3rd Qu.: 222.247   3rd Qu.:25.22  \n",
            " Max.   :305.42   Max.   :8291.910   Max.   :54.69  \n",
            " NA's   :432      NA's   :360        NA's   :576    \n"
          ]
        }
      ]
    },
    {
      "cell_type": "code",
      "metadata": {
        "colab": {
          "base_uri": "https://localhost:8080/",
          "height": 514
        },
        "id": "8RFZ5BODwyQK",
        "outputId": "09044764-72f8-4168-f282-5e62b74cd62a"
      },
      "source": [
        "%%R\n",
        "data_analysis <- na.omit(data_analysis)\n",
        "summary(data_analysis)\n",
        "boxplot(data_analysis)\n",
        "length(data_analysis$Y)"
      ],
      "execution_count": 40,
      "outputs": [
        {
          "output_type": "stream",
          "name": "stdout",
          "text": [
            "[1] 8856\n"
          ]
        },
        {
          "output_type": "display_data",
          "data": {
            "image/png": "[encoded data removed]"
          },
          "metadata": {}
        }
      ]
    },
    {
      "cell_type": "markdown",
      "metadata": {
        "id": "zDTevEFJr87g"
      },
      "source": [
        "5. Визуализация корреляционных связей"
      ]
    },
    {
      "cell_type": "code",
      "metadata": {
        "colab": {
          "base_uri": "https://localhost:8080/",
          "height": 497
        },
        "id": "OdHbsafVroG0",
        "outputId": "91b3d73c-9c26-4f3d-f142-c4d0c24d8e4a"
      },
      "source": [
        "%%R\n",
        "ggcorrplot(cor(data_analysis), lab = TRUE)"
      ],
      "execution_count": 41,
      "outputs": [
        {
          "output_type": "display_data",
          "data": {
            "image/png": "[encoded data removed]"
          },
          "metadata": {}
        }
      ]
    },
    {
      "cell_type": "markdown",
      "metadata": {
        "id": "5QJ_KNA-xJD7"
      },
      "source": [
        "6. Построение множественной линейной регрессии"
      ]
    },
    {
      "cell_type": "code",
      "metadata": {
        "colab": {
          "base_uri": "https://localhost:8080/"
        },
        "id": "oMzInk86sRMN",
        "outputId": "874603d4-28fc-43a2-d556-3e9c7a2e15b2"
      },
      "source": [
        "%%R\n",
        "\n",
        "m_linear_regression <- lm(Y~., data_analysis)\n",
        "summary(m_linear_regression)"
      ],
      "execution_count": 43,
      "outputs": [
        {
          "output_type": "stream",
          "name": "stdout",
          "text": [
            "\n",
            "Call:\n",
            "lm(formula = Y ~ ., data = data_analysis)\n",
            "\n",
            "Residuals:\n",
            "   Min     1Q Median     3Q    Max \n",
            "-26635 -10569  -1869   5651  71542 \n",
            "\n",
            "Coefficients:\n",
            "             Estimate Std. Error t value Pr(>|t|)    \n",
            "(Intercept) -364.1374  1093.3314  -0.333   0.7391    \n",
            "X1          -122.5833    66.5718  -1.841   0.0656 .  \n",
            "X2           -74.1289    64.0192  -1.158   0.2469    \n",
            "X3           453.6042     8.2498  54.984   <2e-16 ***\n",
            "X4           165.2585     8.1564  20.261   <2e-16 ***\n",
            "X5             1.5501     0.1729   8.964   <2e-16 ***\n",
            "X6          -231.8902    25.7256  -9.014   <2e-16 ***\n",
            "---\n",
            "Signif. codes:  0 ‘***’ 0.001 ‘**’ 0.01 ‘*’ 0.05 ‘.’ 0.1 ‘ ’ 1\n",
            "\n",
            "Residual standard error: 15530 on 8849 degrees of freedom\n",
            "Multiple R-squared:   0.43,\tAdjusted R-squared:  0.4297 \n",
            "F-statistic:  1113 on 6 and 8849 DF,  p-value: < 2.2e-16\n",
            "\n"
          ]
        }
      ]
    },
    {
      "cell_type": "markdown",
      "metadata": {
        "id": "2rdpgrHbxZUG"
      },
      "source": [
        "7. Построение пошаговой регрессии\n",
        "\n",
        "    7.1. На включение"
      ]
    },
    {
      "cell_type": "code",
      "metadata": {
        "colab": {
          "base_uri": "https://localhost:8080/"
        },
        "id": "uJR8v9J_xYy_",
        "outputId": "8d9c52ee-af11-4efe-f140-0a5b9b208d90"
      },
      "source": [
        "%%R\n",
        "model_step_forward <- stepAIC(m_linear_regression, direction = \"forward\")"
      ],
      "execution_count": 47,
      "outputs": [
        {
          "output_type": "stream",
          "name": "stdout",
          "text": [
            "Start:  AIC=170933.4\n",
            "Y ~ X1 + X2 + X3 + X4 + X5 + X6\n",
            "\n"
          ]
        }
      ]
    },
    {
      "cell_type": "code",
      "metadata": {
        "colab": {
          "base_uri": "https://localhost:8080/"
        },
        "id": "rnoGdFOXxSzE",
        "outputId": "a7ce5802-21a1-4b45-cff7-9e4d2e49e94d"
      },
      "source": [
        "%%R\n",
        "model_step_backward <- stepAIC(m_linear_regression, direction = \"backward\")"
      ],
      "execution_count": 48,
      "outputs": [
        {
          "output_type": "stream",
          "name": "stdout",
          "text": [
            "Start:  AIC=170933.4\n",
            "Y ~ X1 + X2 + X3 + X4 + X5 + X6\n",
            "\n",
            "       Df  Sum of Sq        RSS    AIC\n",
            "- X2    1 3.2323e+08 2.1336e+12 170933\n",
            "<none>               2.1333e+12 170933\n",
            "- X1    1 8.1741e+08 2.1341e+12 170935\n",
            "- X5    1 1.9372e+10 2.1527e+12 171011\n",
            "- X6    1 1.9588e+10 2.1529e+12 171012\n",
            "- X4    1 9.8967e+10 2.2323e+12 171333\n",
            "- X3    1 7.2884e+11 2.8621e+12 173534\n",
            "\n",
            "Step:  AIC=170932.8\n",
            "Y ~ X1 + X3 + X4 + X5 + X6\n",
            "\n",
            "       Df  Sum of Sq        RSS    AIC\n",
            "<none>               2.1336e+12 170933\n",
            "- X5    1 1.9371e+10 2.1530e+12 171011\n",
            "- X6    1 2.0197e+10 2.1538e+12 171014\n",
            "- X4    1 1.0233e+11 2.2360e+12 171346\n",
            "- X1    1 2.0103e+11 2.3347e+12 171728\n",
            "- X3    1 7.2851e+11 2.8621e+12 173532\n"
          ]
        }
      ]
    },
    {
      "cell_type": "code",
      "metadata": {
        "colab": {
          "base_uri": "https://localhost:8080/"
        },
        "id": "IO-EA7mWyHwq",
        "outputId": "6136d4f2-28dd-4826-fe58-b2b2a41a0e21"
      },
      "source": [
        "%%R\n",
        "model_step_both <- stepAIC(m_linear_regression, direction = \"both\")\n"
      ],
      "execution_count": 49,
      "outputs": [
        {
          "output_type": "stream",
          "name": "stdout",
          "text": [
            "Start:  AIC=170933.4\n",
            "Y ~ X1 + X2 + X3 + X4 + X5 + X6\n",
            "\n",
            "       Df  Sum of Sq        RSS    AIC\n",
            "- X2    1 3.2323e+08 2.1336e+12 170933\n",
            "<none>               2.1333e+12 170933\n",
            "- X1    1 8.1741e+08 2.1341e+12 170935\n",
            "- X5    1 1.9372e+10 2.1527e+12 171011\n",
            "- X6    1 1.9588e+10 2.1529e+12 171012\n",
            "- X4    1 9.8967e+10 2.2323e+12 171333\n",
            "- X3    1 7.2884e+11 2.8621e+12 173534\n",
            "\n",
            "Step:  AIC=170932.8\n",
            "Y ~ X1 + X3 + X4 + X5 + X6\n",
            "\n",
            "       Df  Sum of Sq        RSS    AIC\n",
            "<none>               2.1336e+12 170933\n",
            "+ X2    1 3.2323e+08 2.1333e+12 170933\n",
            "- X5    1 1.9371e+10 2.1530e+12 171011\n",
            "- X6    1 2.0197e+10 2.1538e+12 171014\n",
            "- X4    1 1.0233e+11 2.2360e+12 171346\n",
            "- X1    1 2.0103e+11 2.3347e+12 171728\n",
            "- X3    1 7.2851e+11 2.8621e+12 173532\n"
          ]
        }
      ]
    },
    {
      "cell_type": "markdown",
      "metadata": {
        "id": "PjFpmDxEyOsK"
      },
      "source": [
        "8. Сравнение"
      ]
    },
    {
      "cell_type": "code",
      "metadata": {
        "colab": {
          "base_uri": "https://localhost:8080/"
        },
        "id": "iIKQVxAXyMkR",
        "outputId": "53f27f5b-f3a3-4172-f856-b4c6d46a86d9"
      },
      "source": [
        "%%R\n",
        "\n",
        "AIC(m_linear_regression, model_step_forward, model_step_backward, model_step_both)"
      ],
      "execution_count": 50,
      "outputs": [
        {
          "output_type": "stream",
          "name": "stdout",
          "text": [
            "                    df      AIC\n",
            "m_linear_regression  8 196067.6\n",
            "model_step_forward   8 196067.6\n",
            "model_step_backward  7 196067.0\n",
            "model_step_both      7 196067.0\n"
          ]
        }
      ]
    },
    {
      "cell_type": "code",
      "metadata": {
        "id": "nAD6YWyQyYgD"
      },
      "source": [
        ""
      ],
      "execution_count": null,
      "outputs": []
    }
  ]
}