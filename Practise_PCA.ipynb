{
  "nbformat": 4,
  "nbformat_minor": 0,
  "metadata": {
    "colab": {
      "name": "Practise_PCA.ipynb",
      "provenance": [],
      "authorship_tag": "ABX9TyPDTJxa2TN/241IVN6jGPrd",
      "include_colab_link": true
    },
    "kernelspec": {
      "display_name": "Python 3",
      "name": "python3"
    },
    "language_info": {
      "name": "python"
    }
  },
  "cells": [
    {
      "cell_type": "markdown",
      "metadata": {
        "id": "view-in-github",
        "colab_type": "text"
      },
      "source": [
        "<a href=\"https://colab.research.google.com/github/antonsysoev/appl_stat/blob/gh-pages/Practise_PCA.ipynb\" target=\"_parent\"><img src=\"https://colab.research.google.com/assets/colab-badge.svg\" alt=\"Open In Colab\"/></a>"
      ]
    },
    {
      "cell_type": "markdown",
      "metadata": {
        "id": "9bhSOAfSx54U"
      },
      "source": [
        "Подключаем окружение R"
      ]
    },
    {
      "cell_type": "code",
      "metadata": {
        "colab": {
          "base_uri": "https://localhost:8080/"
        },
        "id": "91CPaQQ5x4_c",
        "outputId": "23b1735c-e0ee-4feb-a92f-d3c9e5761f1f"
      },
      "source": [
        "%load_ext rpy2.ipython"
      ],
      "execution_count": null,
      "outputs": [
        {
          "name": "stdout",
          "output_type": "stream",
          "text": [
            "The rpy2.ipython extension is already loaded. To reload it, use:\n",
            "  %reload_ext rpy2.ipython\n"
          ]
        }
      ]
    },
    {
      "cell_type": "code",
      "metadata": {
        "colab": {
          "base_uri": "https://localhost:8080/"
        },
        "id": "KZZ-u2Yjx_RF",
        "outputId": "6fbacd88-ac58-4d62-9632-96a432cc3311"
      },
      "source": [
        "%%R\n",
        "install.packages(\"psych\")\n",
        "library(psych)"
      ],
      "execution_count": null,
      "outputs": [
        {
          "name": "stderr",
          "output_type": "stream",
          "text": [
            "R[write to console]: Installing package into ‘/usr/local/lib/R/site-library’\n",
            "(as ‘lib’ is unspecified)\n",
            "\n",
            "R[write to console]: also installing the dependencies ‘tmvnsim’, ‘mnormt’\n",
            "\n",
            "\n",
            "R[write to console]: trying URL 'https://cran.rstudio.com/src/contrib/tmvnsim_1.0-2.tar.gz'\n",
            "\n",
            "R[write to console]: Content type 'application/x-gzip'\n",
            "R[write to console]:  length 6052 bytes\n",
            "\n",
            "R[write to console]: =\n",
            "R[write to console]: =\n",
            "R[write to console]: =\n",
            "R[write to console]: =\n",
            "R[write to console]: =\n",
            "R[write to console]: =\n",
            "R[write to console]: =\n",
            "R[write to console]: =\n",
            "R[write to console]: =\n",
            "R[write to console]: =\n",
            "R[write to console]: =\n",
            "R[write to console]: =\n",
            "R[write to console]: =\n",
            "R[write to console]: =\n",
            "R[write to console]: =\n",
            "R[write to console]: =\n",
            "R[write to console]: =\n",
            "R[write to console]: =\n",
            "R[write to console]: =\n",
            "R[write to console]: =\n",
            "R[write to console]: =\n",
            "R[write to console]: =\n",
            "R[write to console]: =\n",
            "R[write to console]: =\n",
            "R[write to console]: =\n",
            "R[write to console]: =\n",
            "R[write to console]: =\n",
            "R[write to console]: =\n",
            "R[write to console]: =\n",
            "R[write to console]: =\n",
            "R[write to console]: =\n",
            "R[write to console]: =\n",
            "R[write to console]: =\n",
            "R[write to console]: =\n",
            "R[write to console]: =\n",
            "R[write to console]: =\n",
            "R[write to console]: =\n",
            "R[write to console]: =\n",
            "R[write to console]: =\n",
            "R[write to console]: =\n",
            "R[write to console]: =\n",
            "R[write to console]: =\n",
            "R[write to console]: =\n",
            "R[write to console]: =\n",
            "R[write to console]: =\n",
            "R[write to console]: =\n",
            "R[write to console]: =\n",
            "R[write to console]: =\n",
            "R[write to console]: =\n",
            "R[write to console]: =\n",
            "R[write to console]: \n",
            "\n",
            "R[write to console]: downloaded 6052 bytes\n",
            "\n",
            "\n",
            "R[write to console]: trying URL 'https://cran.rstudio.com/src/contrib/mnormt_2.0.2.tar.gz'\n",
            "\n",
            "R[write to console]: Content type 'application/x-gzip'\n",
            "R[write to console]:  length 50606 bytes (49 KB)\n",
            "\n",
            "R[write to console]: =\n",
            "R[write to console]: =\n",
            "R[write to console]: =\n",
            "R[write to console]: =\n",
            "R[write to console]: =\n",
            "R[write to console]: =\n",
            "R[write to console]: =\n",
            "R[write to console]: =\n",
            "R[write to console]: =\n",
            "R[write to console]: =\n",
            "R[write to console]: =\n",
            "R[write to console]: =\n",
            "R[write to console]: =\n",
            "R[write to console]: =\n",
            "R[write to console]: =\n",
            "R[write to console]: =\n",
            "R[write to console]: =\n",
            "R[write to console]: =\n",
            "R[write to console]: =\n",
            "R[write to console]: =\n",
            "R[write to console]: =\n",
            "R[write to console]: =\n",
            "R[write to console]: =\n",
            "R[write to console]: =\n",
            "R[write to console]: =\n",
            "R[write to console]: =\n",
            "R[write to console]: =\n",
            "R[write to console]: =\n",
            "R[write to console]: =\n",
            "R[write to console]: =\n",
            "R[write to console]: =\n",
            "R[write to console]: =\n",
            "R[write to console]: =\n",
            "R[write to console]: =\n",
            "R[write to console]: =\n",
            "R[write to console]: =\n",
            "R[write to console]: =\n",
            "R[write to console]: =\n",
            "R[write to console]: =\n",
            "R[write to console]: =\n",
            "R[write to console]: =\n",
            "R[write to console]: =\n",
            "R[write to console]: =\n",
            "R[write to console]: =\n",
            "R[write to console]: =\n",
            "R[write to console]: =\n",
            "R[write to console]: =\n",
            "R[write to console]: =\n",
            "R[write to console]: =\n",
            "R[write to console]: =\n",
            "R[write to console]: \n",
            "\n",
            "R[write to console]: downloaded 49 KB\n",
            "\n",
            "\n",
            "R[write to console]: trying URL 'https://cran.rstudio.com/src/contrib/psych_2.1.9.tar.gz'\n",
            "\n",
            "R[write to console]: Content type 'application/x-gzip'\n",
            "R[write to console]:  length 2068413 bytes (2.0 MB)\n",
            "\n",
            "R[write to console]: =\n",
            "R[write to console]: =\n",
            "R[write to console]: =\n",
            "R[write to console]: =\n",
            "R[write to console]: =\n",
            "R[write to console]: =\n",
            "R[write to console]: =\n",
            "R[write to console]: =\n",
            "R[write to console]: =\n",
            "R[write to console]: =\n",
            "R[write to console]: =\n",
            "R[write to console]: =\n",
            "R[write to console]: =\n",
            "R[write to console]: =\n",
            "R[write to console]: =\n",
            "R[write to console]: =\n",
            "R[write to console]: =\n",
            "R[write to console]: =\n",
            "R[write to console]: =\n",
            "R[write to console]: =\n",
            "R[write to console]: =\n",
            "R[write to console]: =\n",
            "R[write to console]: =\n",
            "R[write to console]: =\n",
            "R[write to console]: =\n",
            "R[write to console]: =\n",
            "R[write to console]: =\n",
            "R[write to console]: =\n",
            "R[write to console]: =\n",
            "R[write to console]: =\n",
            "R[write to console]: =\n",
            "R[write to console]: =\n",
            "R[write to console]: =\n",
            "R[write to console]: =\n",
            "R[write to console]: =\n",
            "R[write to console]: =\n",
            "R[write to console]: =\n",
            "R[write to console]: =\n",
            "R[write to console]: =\n",
            "R[write to console]: =\n",
            "R[write to console]: =\n",
            "R[write to console]: =\n",
            "R[write to console]: =\n",
            "R[write to console]: =\n",
            "R[write to console]: =\n",
            "R[write to console]: =\n",
            "R[write to console]: =\n",
            "R[write to console]: =\n",
            "R[write to console]: =\n",
            "R[write to console]: =\n",
            "R[write to console]: \n",
            "\n",
            "R[write to console]: downloaded 2.0 MB\n",
            "\n",
            "\n",
            "R[write to console]: \n",
            "\n",
            "R[write to console]: \n",
            "R[write to console]: The downloaded source packages are in\n",
            "\t‘/tmp/RtmpBsMJBW/downloaded_packages’\n",
            "R[write to console]: \n",
            "R[write to console]: \n",
            "\n"
          ]
        }
      ]
    },
    {
      "cell_type": "markdown",
      "metadata": {
        "id": "qHrpUCDEzhZt"
      },
      "source": [
        "Загрузим и выберем данные"
      ]
    },
    {
      "cell_type": "code",
      "metadata": {
        "id": "xiSY-JQVzVgD"
      },
      "source": [
        "%%R\n",
        "library(data.table)\n",
        "data <-fread(\"/content/dib_dataset.csv\")"
      ],
      "execution_count": null,
      "outputs": []
    },
    {
      "cell_type": "code",
      "metadata": {
        "id": "B0I5AlBDzwj2"
      },
      "source": [
        "%%R\n",
        "\n",
        "data_analysis <- na.omit(data.frame(Y=data$gdp_per_capita_us_dollars_2017,\n",
        "                            X1 = data$agricultural_production_index_base_2004_2006_100_2016,\n",
        "                            X2 = data$food_production_index_base_2004_2006_100_2016,\n",
        "                            X3 = data$urban_population_percent_2018,\n",
        "                            X4 = data$sex_ratio_males_per_100_females_2019,\n",
        "                            X5 = data$population_density_2019,\n",
        "                            X6 = data$employment_by_industry_industry_male_and_female_2019))\n",
        "\n",
        "data_analysis_X <- data.frame(X1 = data_analysis$X1,\n",
        "                            X2 = data_analysis$X2,\n",
        "                            X3 = data_analysis$X3,\n",
        "                            X4 = data_analysis$X4,\n",
        "                            X5 = data_analysis$X5,\n",
        "                            X6 = data_analysis$X6)\n",
        "\n",
        "data_analysis_Y <- data.frame(Y=data_analysis$Y)"
      ],
      "execution_count": 49,
      "outputs": []
    },
    {
      "cell_type": "markdown",
      "metadata": {
        "id": "hdjUzkx90ezo"
      },
      "source": [
        "Произведем анализ собственных значений корреляционной матрицы признаков"
      ]
    },
    {
      "cell_type": "code",
      "metadata": {
        "colab": {
          "base_uri": "https://localhost:8080/",
          "height": 534
        },
        "id": "Qst9Hnmwz4we",
        "outputId": "86477c28-366c-47d4-c7f6-e74899c18af7"
      },
      "source": [
        "%%R\n",
        "fa.parallel(data_analysis_X, fa=\"pc\")"
      ],
      "execution_count": 50,
      "outputs": [
        {
          "output_type": "stream",
          "name": "stdout",
          "text": [
            "Parallel analysis suggests that the number of factors =  NA  and the number of components =  3 \n"
          ]
        },
        {
          "output_type": "display_data",
          "data": {
            "image/png": "[encoded data removed]"
          },
          "metadata": {}
        }
      ]
    },
    {
      "cell_type": "markdown",
      "metadata": {
        "id": "Cg7FunIH89yQ"
      },
      "source": [
        "Т.к. получено три собственных значения, превышающих единицу, то для анализа главных компонент оставляем ТРИ компоненты"
      ]
    },
    {
      "cell_type": "code",
      "metadata": {
        "id": "qDyuGYia0uYo"
      },
      "source": [
        "%%R\n",
        "PC <- principal(data_analysis_X, nfactors=3, rotate=\"none\")"
      ],
      "execution_count": 51,
      "outputs": []
    },
    {
      "cell_type": "code",
      "metadata": {
        "colab": {
          "base_uri": "https://localhost:8080/"
        },
        "id": "qiavDWtM1Dk6",
        "outputId": "58e36f15-eec1-49ac-dc3a-c9f52c908975"
      },
      "source": [
        "%%R\n",
        "PC"
      ],
      "execution_count": 52,
      "outputs": [
        {
          "output_type": "stream",
          "name": "stdout",
          "text": [
            "Principal Components Analysis\n",
            "Call: principal(r = data_analysis_X, nfactors = 3, rotate = \"none\")\n",
            "Standardized loadings (pattern matrix) based upon correlation matrix\n",
            "     PC1  PC2   PC3   h2    u2 com\n",
            "X1  0.97 0.08  0.17 0.98 0.023 1.1\n",
            "X2  0.97 0.08  0.17 0.97 0.026 1.1\n",
            "X3 -0.42 0.61  0.23 0.59 0.409 2.1\n",
            "X4  0.25 0.82 -0.02 0.74 0.260 1.2\n",
            "X5 -0.28 0.14  0.90 0.90 0.096 1.2\n",
            "X6 -0.09 0.81 -0.33 0.77 0.231 1.4\n",
            "\n",
            "                       PC1  PC2  PC3\n",
            "SS loadings           2.21 1.72 1.02\n",
            "Proportion Var        0.37 0.29 0.17\n",
            "Cumulative Var        0.37 0.66 0.83\n",
            "Proportion Explained  0.45 0.35 0.21\n",
            "Cumulative Proportion 0.45 0.79 1.00\n",
            "\n",
            "Mean item complexity =  1.3\n",
            "Test of the hypothesis that 3 components are sufficient.\n",
            "\n",
            "The root mean square of the residuals (RMSR) is  0.09 \n",
            " with the empirical chi square  2328.26  with prob <  NA \n",
            " FALSE\n",
            "Fit based upon off diagonal values = 0.92"
          ]
        }
      ]
    },
    {
      "cell_type": "markdown",
      "metadata": {
        "id": "RofV41Ph-Zqc"
      },
      "source": [
        "Выделим значения весовых коэффициентов"
      ]
    },
    {
      "cell_type": "code",
      "metadata": {
        "colab": {
          "base_uri": "https://localhost:8080/"
        },
        "id": "UewtwZ7u1OIt",
        "outputId": "31ed3089-319d-490e-a7cf-7d5c55547902"
      },
      "source": [
        "%%R\n",
        "unclass(PC$weights)"
      ],
      "execution_count": 54,
      "outputs": [
        {
          "output_type": "stream",
          "name": "stdout",
          "text": [
            "           PC1        PC2         PC3\n",
            "X1  0.43936678 0.04778156  0.16380507\n",
            "X2  0.43871033 0.04598882  0.16287929\n",
            "X3 -0.18885338 0.35080278  0.22079232\n",
            "X4  0.11512562 0.47621371 -0.02348546\n",
            "X5 -0.12797073 0.07866050  0.87951718\n",
            "X6 -0.04201576 0.46833070 -0.32193322\n"
          ]
        }
      ]
    },
    {
      "cell_type": "code",
      "metadata": {
        "colab": {
          "base_uri": "https://localhost:8080/"
        },
        "id": "0FweZEwO-r_4",
        "outputId": "2c5c3b2e-9390-4b03-aa4c-6d495cb8de9a"
      },
      "source": [
        "%%R\n",
        "as.matrix(unclass(PC$weights)[,1])"
      ],
      "execution_count": 55,
      "outputs": [
        {
          "output_type": "stream",
          "name": "stdout",
          "text": [
            "          [,1]\n",
            "X1  0.43936678\n",
            "X2  0.43871033\n",
            "X3 -0.18885338\n",
            "X4  0.11512562\n",
            "X5 -0.12797073\n",
            "X6 -0.04201576\n"
          ]
        }
      ]
    },
    {
      "cell_type": "code",
      "metadata": {
        "id": "lvAaTEp12PZX"
      },
      "source": [
        "%%R\n",
        "Z1 <- as.matrix(data_analysis_X)%*%as.matrix(unclass(PC$weights)[,1])\n",
        "Z2 <- as.matrix(data_analysis_X)%*%as.matrix(unclass(PC$weights)[,2])\n",
        "Z3 <- as.matrix(data_analysis_X)%*%as.matrix(unclass(PC$weights)[,3])\n",
        "\n",
        "data_analysis_Z <- data.frame(Z1=Z1, Z2=Z2, Z3=Z3)"
      ],
      "execution_count": 58,
      "outputs": []
    },
    {
      "cell_type": "markdown",
      "metadata": {
        "id": "46yD546c_WvH"
      },
      "source": [
        "Задание:\n",
        "\n",
        "* построить модель множественной линейной регресии на исходном наборе данных (выход - data_analysis_Y, входы - data_analysis_X)\n",
        "\n",
        "* построить модель множественной линейной регресии на модифицированном наборе данных (выход - data_analysis_Y, входы - data_analysis_Z)\n",
        "\n",
        "* сравнить модели с помощью информационного критерия Акаике AIC()"
      ]
    },
    {
      "cell_type": "code",
      "metadata": {
        "id": "mBa--Q7n-3W2"
      },
      "source": [
        ""
      ],
      "execution_count": null,
      "outputs": []
    }
  ]
}