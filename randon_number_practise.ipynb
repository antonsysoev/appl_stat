{
  "nbformat": 4,
  "nbformat_minor": 0,
  "metadata": {
    "colab": {
      "provenance": [],
      "authorship_tag": "ABX9TyN8bL9pyrJJ4j8hyEOoXxvX",
      "include_colab_link": true
    },
    "kernelspec": {
      "name": "ir",
      "display_name": "R"
    },
    "language_info": {
      "name": "R"
    }
  },
  "cells": [
    {
      "cell_type": "markdown",
      "metadata": {
        "id": "view-in-github",
        "colab_type": "text"
      },
      "source": [
        "<a href=\"https://colab.research.google.com/github/antonsysoev/appl_stat/blob/gh-pages/randon_number_practise.ipynb\" target=\"_parent\"><img src=\"https://colab.research.google.com/assets/colab-badge.svg\" alt=\"Open In Colab\"/></a>"
      ]
    },
    {
      "cell_type": "markdown",
      "source": [
        "1. Генерация случайных чисел, подбрасывание монет.\n",
        "* Установите значение seed равным 1, сгенерируйте 10 случайных чисел (от 0 до 1) с помощью функции runif и сохраните их в объекте random_numbers.\n",
        "* С помощью функции ifelse и объекта random_numbers смоделируйте подбрасывание монет. Подсказка: если значение random_numbers больше 0,5, то результатом будет голова, в противном случае - хвост.\n",
        "* Другой способ генерации случайных бросков монет - использование функции rbinom. Снова установите значение seed равным 1 и смоделируйте с помощью этой функции 10 подбрасываний монет.\n",
        "2. Моделирование выборок из нормального распределения.\n",
        "Представьте себе популяцию, в которой средний рост составляет 1,7 м со стандартным отклонением 0,1.\n",
        "* С помощью функции rnorm смоделируйте рост 100 человек и сохраните его в объекте heights.\n",
        "* Чтобы получить представление о значениях в heights, примените к нему функцию summary.\n",
        "* Какова вероятность того, что рост человека будет меньше или равен 1,9 м? Используйте функцию prnorm.\n",
        "* Какова вероятность того, что человек будет выше или равен 1,6 м? Используйте pnorm.\n",
        "3. Время ожидания (в минутах) у врача в поликлинике имеет экспоненциальное распределение с параметром скорости 1/50.\n",
        "* С помощью функции rexp смоделируйте время ожидания 30 человек в кабинете врача.\n",
        "* Какова вероятность того, что человек будет ждать менее 10 минут? Используйте функцию pexp.\n",
        "* Каково среднее время ожидания?\n"
      ],
      "metadata": {
        "id": "CjqKwC1AHq5z"
      }
    },
    {
      "cell_type": "code",
      "source": [
        "## Ваш ответ здесь"
      ],
      "metadata": {
        "id": "OUACH9a6HqDI"
      },
      "execution_count": 1,
      "outputs": []
    },
    {
      "cell_type": "code",
      "source": [],
      "metadata": {
        "id": "3TYmHX5-IiHs"
      },
      "execution_count": null,
      "outputs": []
    }
  ]
}