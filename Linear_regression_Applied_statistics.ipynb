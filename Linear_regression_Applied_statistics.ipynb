{
  "nbformat": 4,
  "nbformat_minor": 0,
  "metadata": {
    "colab": {
      "name": "Linear_regression_Applied_statistics.ipynb",
      "provenance": [],
      "authorship_tag": "ABX9TyO2Uyhsiz4y5sdjhrDX/gt1",
      "include_colab_link": true
    },
    "kernelspec": {
      "name": "python3",
      "display_name": "Python 3"
    },
    "language_info": {
      "name": "python"
    }
  },
  "cells": [
    {
      "cell_type": "markdown",
      "metadata": {
        "id": "view-in-github",
        "colab_type": "text"
      },
      "source": [
        "<a href=\"https://colab.research.google.com/github/antonsysoev/appl_stat/blob/gh-pages/Linear_regression_Applied_statistics.ipynb\" target=\"_parent\"><img src=\"https://colab.research.google.com/assets/colab-badge.svg\" alt=\"Open In Colab\"/></a>"
      ]
    },
    {
      "cell_type": "code",
      "metadata": {
        "id": "up-kwV4GQ08f"
      },
      "source": [
        "%load_ext rpy2.ipython"
      ],
      "execution_count": 1,
      "outputs": []
    },
    {
      "cell_type": "markdown",
      "metadata": {
        "id": "FsrIvIWUS0-Q"
      },
      "source": [
        "Denver Neighborhoods\n",
        "\n",
        "The data (X1, X2, X3, X4, X5, X6, X7) are for each neighborhood\n",
        "\n",
        "X1 = total population (in thousands)\n",
        "\n",
        "X2 = % change in population over past several years\n",
        "\n",
        "X3 = % of children (under 18) in population\n",
        "\n",
        "X4 = % free school lunch participation\n",
        "\n",
        "X5 = % change in household income over past several years\n",
        "\n",
        "X6 = crime rate (per 1000 population)\n",
        "\n",
        "X7 = % change in crime rate over past several years\n",
        "\n",
        "Reference: The Piton Foundation, Denver, Colorado\n"
      ]
    },
    {
      "cell_type": "code",
      "metadata": {
        "id": "bkwparxvQ2mv"
      },
      "source": [
        "%%R\n",
        "\n",
        "data = read.csv('/content/mlr10.csv')"
      ],
      "execution_count": 6,
      "outputs": []
    },
    {
      "cell_type": "code",
      "metadata": {
        "colab": {
          "base_uri": "https://localhost:8080/"
        },
        "id": "aQJA_PfMRIbX",
        "outputId": "27a26912-d07f-44ff-f99a-6b6c2174c2ef"
      },
      "source": [
        "%%R\n",
        "summary(data)"
      ],
      "execution_count": 7,
      "outputs": [
        {
          "output_type": "stream",
          "name": "stdout",
          "text": [
            "       X1               X2               X3              X4       \n",
            " Min.   : 1.700   Min.   :-3.300   Min.   : 7.50   Min.   : 5.70  \n",
            " 1st Qu.: 4.175   1st Qu.: 1.975   1st Qu.:20.62   1st Qu.:29.60  \n",
            " Median : 7.250   Median : 4.700   Median :28.85   Median :57.55  \n",
            " Mean   : 7.041   Mean   : 7.832   Mean   :27.27   Mean   :51.51  \n",
            " 3rd Qu.: 9.325   3rd Qu.: 8.200   3rd Qu.:33.55   3rd Qu.:74.67  \n",
            " Max.   :18.700   Max.   :68.600   Max.   :41.50   Max.   :88.50  \n",
            "       X5              X6               X7         \n",
            " Min.   :11.70   Min.   : 27.10   Min.   :-45.600  \n",
            " 1st Qu.:23.65   1st Qu.: 62.33   1st Qu.:-28.600  \n",
            " Median :26.35   Median : 81.20   Median :-13.450  \n",
            " Mean   :26.96   Mean   :108.63   Mean   :-13.716  \n",
            " 3rd Qu.:29.40   3rd Qu.:124.15   3rd Qu.: -2.775  \n",
            " Max.   :50.50   Max.   :704.10   Max.   : 45.400  \n"
          ]
        }
      ]
    },
    {
      "cell_type": "code",
      "metadata": {
        "id": "sqFD98qcRKaf"
      },
      "source": [
        ""
      ],
      "execution_count": null,
      "outputs": []
    }
  ]
}