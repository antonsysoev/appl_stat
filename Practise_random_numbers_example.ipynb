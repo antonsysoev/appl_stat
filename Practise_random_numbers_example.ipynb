{
  "nbformat": 4,
  "nbformat_minor": 0,
  "metadata": {
    "colab": {
      "name": "Practise_3.ipynb",
      "provenance": [],
      "authorship_tag": "ABX9TyNJnlN1sWIiAl5C2GA09CJZ",
      "include_colab_link": true
    },
    "kernelspec": {
      "name": "python3",
      "display_name": "Python 3"
    },
    "language_info": {
      "name": "python"
    }
  },
  "cells": [
    {
      "cell_type": "markdown",
      "metadata": {
        "id": "view-in-github",
        "colab_type": "text"
      },
      "source": [
        "<a href=\"https://colab.research.google.com/github/antonsysoev/appl_stat/blob/gh-pages/Practise_random_numbers_example.ipynb\" target=\"_parent\"><img src=\"https://colab.research.google.com/assets/colab-badge.svg\" alt=\"Open In Colab\"/></a>"
      ]
    },
    {
      "cell_type": "markdown",
      "metadata": {
        "id": "fBO_RkOhaNLD"
      },
      "source": [
        "1. Давайте воспользуемся генератором случайных чисел R для нормального распределения/ Cписки значений, генерируемые функцией rnorm(), берутся из популяции, которая действительно имеет нормальное распределение.\n",
        "\n",
        "* Сгенерируйте список из 10 случайных нормально распределенных чисел со средним значением 15 и стандартным отклонением 3.\n",
        "* С помощью функции hist() постройте гистограмму распределения этих чисел.\n",
        "* Постройте график QQ-plot из сгенерированных чисел.\n",
        "* Повторите действия несколько раз (не менее десятка раз). Для каждого из них посмотрите на гистограммы и графики QQ. Подумайте, чем они отличаются от  нормального распределения (но помните, что каждая из этих выборок взята из действительно нормальной популяции).\n",
        "\n",
        "2. Файл \"mammals.csv\" содержит информацию о массе тела различных видов млекопитающих.\n",
        "\n",
        "* Изобразите распределение массы тела и опишите его форму. Похоже ли это на нормальное распределение?\n",
        "* Преобразуйте данные о массе тела с помощью логарифмического преобразования. Постройте график распределения логарифмической массы тела. Опишите новое распределение и проверьте его на нормальность. (Попробуйте 2-3 распределения и выберите лучшее)."
      ]
    },
    {
      "cell_type": "code",
      "metadata": {
        "id": "_4mPRWrdbdnv",
        "outputId": "74176f84-fd8c-4774-ddf8-55b3aa35c7f6",
        "colab": {
          "base_uri": "https://localhost:8080/"
        }
      },
      "source": [
        "%load_ext rpy2.ipython"
      ],
      "execution_count": 75,
      "outputs": [
        {
          "output_type": "stream",
          "name": "stdout",
          "text": [
            "The rpy2.ipython extension is already loaded. To reload it, use:\n",
            "  %reload_ext rpy2.ipython\n"
          ]
        }
      ]
    },
    {
      "cell_type": "code",
      "metadata": {
        "id": "MFfN9TQTbuid"
      },
      "source": [
        "%%R\n",
        "\n",
        "library(data.table)\n",
        "data <-fread(\"/content/mammals.csv\")"
      ],
      "execution_count": 90,
      "outputs": []
    },
    {
      "cell_type": "code",
      "metadata": {
        "id": "o4eOF89ebye8",
        "outputId": "e485d983-6d24-4df9-dde3-17f563d09a0a",
        "colab": {
          "base_uri": "https://localhost:8080/"
        }
      },
      "source": [
        "%%R\n",
        "\n",
        "data"
      ],
      "execution_count": 91,
      "outputs": [
        {
          "output_type": "stream",
          "name": "stdout",
          "text": [
            "                         name body_mass_kg brain_mass_g\n",
            " 1:                Arctic fox         3.38        44.50\n",
            " 2:                Owl monkey         0.48        15.50\n",
            " 3:           Mountain beaver         1.35         8.10\n",
            " 4:                       Cow       465.00       423.00\n",
            " 5:                 Grey wolf        36.33       119.50\n",
            " 6:                      Goat        27.66       115.00\n",
            " 7:                  Roe deer        14.83        98.20\n",
            " 8:                Guinea pig         1.04         5.50\n",
            " 9:                    Verbet         4.19        58.00\n",
            "10:                Chinchilla         0.42         6.40\n",
            "11:           Ground squirrel         0.10         4.00\n",
            "12:    Arctic ground squirrel         0.92         5.70\n",
            "13: African giant pouched rat         1.00         6.60\n",
            "14: Lesser short-tailed shrew         0.01         0.14\n",
            "15:           Star-nosed mole         0.06         1.00\n",
            "16:     Nine-banded armadillo         3.50        10.80\n",
            "17:                Tree hyrax         2.00        12.30\n",
            "18:              N.A. opossum         1.70         6.30\n",
            "19:            Asian elephant      2547.00      4603.00\n",
            "20:             Big brown bat         0.02         0.30\n",
            "21:                    Donkey       187.10       419.00\n",
            "22:                     Horse       521.00       655.00\n",
            "23:         European hedgehog         0.79         3.50\n",
            "24:              Patas monkey        10.00       115.00\n",
            "25:                       Cat         3.30        25.60\n",
            "26:                    Galago         0.20         5.00\n",
            "27:                     Genet         1.41        17.50\n",
            "28:                   Giraffe       529.00       680.00\n",
            "29:                   Gorilla       207.00       406.00\n",
            "30:                 Grey seal        85.00       325.00\n",
            "31:              Rock hyrax-a         0.75        12.30\n",
            "32:                     Human        62.00      1320.00\n",
            "33:          African elephant      6654.00      5712.00\n",
            "34:             Water opossum         3.50         3.90\n",
            "35:             Rhesus monkey         6.80       179.00\n",
            "36:                  Kangaroo        35.00        56.00\n",
            "37:     Yellow-bellied marmot         4.05        17.00\n",
            "38:            Golden hamster         0.12         1.00\n",
            "39:                     Mouse         0.02         0.40\n",
            "40:          Little brown bat         0.01         0.25\n",
            "41:                Slow loris         1.40        12.50\n",
            "42:                     Okapi       250.00       490.00\n",
            "43:                    Rabbit         2.50        12.10\n",
            "44:                     Sheep        55.50       175.00\n",
            "45:                    Jaguar       100.00       157.00\n",
            "46:                Chimpanzee        52.16       440.00\n",
            "47:                    Baboon        10.55       179.50\n",
            "48:           Desert hedgehog         0.55         2.40\n",
            "49:           Giant armadillo        60.00        81.00\n",
            "50:              Rock hyrax-b         3.60        21.00\n",
            "51:                   Raccoon         4.29        39.20\n",
            "52:                       Rat         0.28         1.90\n",
            "53:          E. American mole         0.07         1.20\n",
            "54:                  Mole rat         0.12         3.00\n",
            "55:                Musk shrew         0.05         0.33\n",
            "56:                       Pig       192.00       180.00\n",
            "57:                   Echidna         3.00        25.00\n",
            "58:           Brazilian tapir       160.00       169.00\n",
            "59:                    Tenrec         0.90         2.60\n",
            "60:                 Phalanger         1.62        11.40\n",
            "61:                Tree shrew         0.10         2.50\n",
            "62:                   Red fox         4.24        50.40\n",
            "                         name body_mass_kg brain_mass_g\n"
          ]
        }
      ]
    },
    {
      "cell_type": "code",
      "source": [
        "%%R\n",
        "#hist(data$body_mass_kg)\n",
        "massa_log <- log(data$body_mass_kg)\n",
        "massa_log\n",
        "hist(massa_log)"
      ],
      "metadata": {
        "id": "-BC5jYwE6LHA",
        "outputId": "737e192a-d06a-4678-e217-ed5236102cd0",
        "colab": {
          "base_uri": "https://localhost:8080/",
          "height": 497
        }
      },
      "execution_count": 97,
      "outputs": [
        {
          "output_type": "display_data",
          "data": {
            "image/png": "[encoded data removed]"
          },
          "metadata": {}
        }
      ]
    },
    {
      "cell_type": "code",
      "source": [
        "%%R\n",
        "\n",
        "library(MASS)\n",
        "\n",
        "paramentry <- fitdistr(data$X1, \"normal\")\n",
        "paramentry"
      ],
      "metadata": {
        "id": "OPordf8k4Kvo",
        "outputId": "a58da528-df49-40d9-a064-39d4bbb4477a",
        "colab": {
          "base_uri": "https://localhost:8080/"
        }
      },
      "execution_count": 80,
      "outputs": [
        {
          "output_type": "stream",
          "name": "stdout",
          "text": [
            "     mean         sd    \n",
            "  7.0409091   3.5140832 \n",
            " (0.5297680) (0.3746025)\n"
          ]
        }
      ]
    },
    {
      "cell_type": "code",
      "source": [
        "%%R\n",
        "\n",
        "new_data <- rnorm(100, as.numeric(paramentry$estimate[1]), as.numeric(paramentry$estimate[2]))"
      ],
      "metadata": {
        "id": "GvoQkal44VyV"
      },
      "execution_count": 85,
      "outputs": []
    },
    {
      "cell_type": "code",
      "source": [
        "%%R\n",
        "\n",
        "new_data"
      ],
      "metadata": {
        "id": "Ei1jGIIR4pTH",
        "outputId": "6cce28bd-cee4-45a2-b812-071d5977c9be",
        "colab": {
          "base_uri": "https://localhost:8080/"
        }
      },
      "execution_count": 82,
      "outputs": [
        {
          "output_type": "stream",
          "name": "stdout",
          "text": [
            " [1]  1.458183 10.623306 12.448411 14.114117 11.806504 10.697077 10.670045\n",
            " [8]  4.885196  1.964831  6.319280\n"
          ]
        }
      ]
    },
    {
      "cell_type": "code",
      "source": [
        "%%R\n",
        "\n",
        "ks.test(data$X1, as.numeric(paramentry$estimate[1]), as.numeric(paramentry$estimate[2]))"
      ],
      "metadata": {
        "id": "poODsogZ4q8L",
        "outputId": "2b713a47-2bd5-4841-dd0f-be8a447507b8",
        "colab": {
          "base_uri": "https://localhost:8080/"
        }
      },
      "execution_count": 87,
      "outputs": [
        {
          "output_type": "stream",
          "name": "stdout",
          "text": [
            "\n",
            "\tExact two-sample Kolmogorov-Smirnov test\n",
            "\n",
            "data:  data$X1 and as.numeric(paramentry$estimate[1])\n",
            "D = 0.52273, p-value = 0.9778\n",
            "alternative hypothesis: two-sided\n",
            "\n"
          ]
        }
      ]
    },
    {
      "cell_type": "code",
      "source": [],
      "metadata": {
        "id": "aMXkCiJ84zT8"
      },
      "execution_count": null,
      "outputs": []
    }
  ]
}