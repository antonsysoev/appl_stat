{
  "nbformat": 4,
  "nbformat_minor": 0,
  "metadata": {
    "colab": {
      "name": "ANOVA_practise.ipynb",
      "provenance": [],
      "authorship_tag": "ABX9TyNP7DPCYroHvxo340cHdTSp",
      "include_colab_link": true
    },
    "kernelspec": {
      "name": "python3",
      "display_name": "Python 3"
    },
    "language_info": {
      "name": "python"
    }
  },
  "cells": [
    {
      "cell_type": "markdown",
      "metadata": {
        "id": "view-in-github",
        "colab_type": "text"
      },
      "source": [
        "<a href=\"https://colab.research.google.com/github/antonsysoev/appl_stat/blob/gh-pages/ANOVA_practise.ipynb\" target=\"_parent\"><img src=\"https://colab.research.google.com/assets/colab-badge.svg\" alt=\"Open In Colab\"/></a>"
      ]
    },
    {
      "cell_type": "code",
      "metadata": {
        "id": "gSjGcThqp83x"
      },
      "source": [
        "%load_ext rpy2.ipython"
      ],
      "execution_count": null,
      "outputs": []
    },
    {
      "cell_type": "markdown",
      "metadata": {
        "id": "gENrqSk1qS7h"
      },
      "source": [
        "Европейская кукушка не заботится о своих собственных яйцах, а откладывает их в гнезда птиц других видов. Предыдущие исследования показали, что кукушки иногда эволюционировали, чтобы откладывать яйца, окрашенные аналогично яйцам птиц-хозяев. Верно ли то же самое в отношении размера яиц - откладывают ли кукушки яйца, сходные по размеру с яйцами их хозяев? Файл данных \"cuckooeggs.csv\" содержит данные о длине яиц кукушек, отложенных в гнезда различных видов хозяев. Здесь мы сравниваем средний размер яиц кукушек, найденных в гнездах разных видов хозяев.\n",
        "\n",
        "* Постройте множественную гистограмму, показывающую длину яиц кукушки в \n",
        "зависимости от вида хозяина.\n",
        "\n",
        "* Постройте таблицу, которая показывает среднее и стандартное отклонение длины кукушкиных яиц для каждого вида хозяев.\n",
        "\n",
        "* Используйте дисперсионный анализ для проверки различий между видами хозяев и средним размером яиц кукушек в их гнездах. Какой вывод вы сделаете?\n",
        "\n"
      ]
    },
    {
      "cell_type": "code",
      "metadata": {
        "id": "YS4zl8ViqEXw",
        "outputId": "4c22f8a9-75f7-4d92-9511-e3a707ef3c20",
        "colab": {
          "base_uri": "https://localhost:8080/"
        }
      },
      "source": [
        "%%R\n",
        "\n",
        "## Ваш код здесь"
      ],
      "execution_count": 2,
      "outputs": [
        {
          "output_type": "stream",
          "name": "stdout",
          "text": [
            "NULL\n"
          ]
        }
      ]
    },
    {
      "cell_type": "code",
      "metadata": {
        "id": "itMLPG2Vq5b6"
      },
      "source": [
        ""
      ],
      "execution_count": null,
      "outputs": []
    }
  ]
}