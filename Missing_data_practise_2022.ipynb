{
  "nbformat": 4,
  "nbformat_minor": 0,
  "metadata": {
    "colab": {
      "provenance": [],
      "authorship_tag": "ABX9TyMtcGph2UKjWgubI2gyQGFR",
      "include_colab_link": true
    },
    "kernelspec": {
      "name": "ir",
      "display_name": "R"
    },
    "language_info": {
      "name": "R"
    }
  },
  "cells": [
    {
      "cell_type": "markdown",
      "metadata": {
        "id": "view-in-github",
        "colab_type": "text"
      },
      "source": [
        "<a href=\"https://colab.research.google.com/github/antonsysoev/appl_stat/blob/gh-pages/Missing_data_practise_2022.ipynb\" target=\"_parent\"><img src=\"https://colab.research.google.com/assets/colab-badge.svg\" alt=\"Open In Colab\"/></a>"
      ]
    },
    {
      "cell_type": "markdown",
      "source": [
        "Создадим матрицу, заполненную случайными значениями"
      ],
      "metadata": {
        "id": "cFCmp7LQPw4J"
      }
    },
    {
      "cell_type": "code",
      "source": [
        "a <- matrix(rnorm(100),10,10)"
      ],
      "metadata": {
        "id": "DyzjDee_PxMg"
      },
      "execution_count": 5,
      "outputs": []
    },
    {
      "cell_type": "markdown",
      "source": [
        "Напишем функцию для генерации заданного процента пропусков в созданной матрице"
      ],
      "metadata": {
        "id": "ldM5kcVOP1oi"
      }
    },
    {
      "cell_type": "code",
      "source": [
        "generate_missings <- function(a, treshold){\n",
        "    for(i in 1:nrow(a)){\n",
        "      for(j in 1:ncol(a)){\n",
        "          if(runif(1)<treshold){a[i,j] = NA}\n",
        "      }\n",
        "  }\n",
        "  return(a)\n",
        "}"
      ],
      "metadata": {
        "id": "VwrgirFbPxo_"
      },
      "execution_count": 2,
      "outputs": []
    },
    {
      "cell_type": "markdown",
      "source": [
        "Напищем функцию для простого восстановления пропущенных значений"
      ],
      "metadata": {
        "id": "LFGqJ-adP6sh"
      }
    },
    {
      "cell_type": "code",
      "source": [
        "simple_imputation <- function(a){\n",
        "    mean_col <- 0\n",
        "    for(j in 1:ncol(a)){\n",
        "        mean_col[j] <- mean(a[,j], na.rm=TRUE)\n",
        "    }\n",
        "        for(j in 1:ncol(a)){\n",
        "            for(i in 1:nrow(a)){\n",
        "                if(is.na(a[i,j])==TRUE) {a[i,j] = mean_col[j]}\n",
        "            }\n",
        "        }\n",
        "    return(a)\n",
        "}"
      ],
      "metadata": {
        "id": "bl5xQBT9P5_4"
      },
      "execution_count": 9,
      "outputs": []
    },
    {
      "cell_type": "markdown",
      "source": [
        "Выполним тестирование"
      ],
      "metadata": {
        "id": "Nani5HQ0P_jB"
      }
    },
    {
      "cell_type": "code",
      "source": [
        "b <- generate_missings(a,0.1)\n",
        "simple_imp <- simple_imputation(b)\n",
        "simple_imp"
      ],
      "metadata": {
        "colab": {
          "base_uri": "https://localhost:8080/",
          "height": 348
        },
        "id": "QuLKeeohP-qp",
        "outputId": "3ddeabd3-c2d6-48c8-b110-769e27f308b0"
      },
      "execution_count": 10,
      "outputs": [
        {
          "output_type": "display_data",
          "data": {
            "text/html": [
              "<table class=\"dataframe\">\n",
              "<caption>A matrix: 10 × 10 of type dbl</caption>\n",
              "<tbody>\n",
              "\t<tr><td> 0.4222956</td><td>-0.8657593</td><td> 0.02793486</td><td>-0.94137068</td><td> 0.08912046</td><td> 1.46574647</td><td>-0.2929793</td><td>-0.3357665</td><td>-0.3025266</td><td> 0.31780988</td></tr>\n",
              "\t<tr><td> 0.8423156</td><td> 0.7552320</td><td> 1.39245509</td><td>-0.06035904</td><td>-0.54038992</td><td> 2.75793418</td><td> 0.8053282</td><td> 0.3728633</td><td> 1.0764843</td><td> 0.88527448</td></tr>\n",
              "\t<tr><td> 0.7600055</td><td> 1.2038760</td><td> 1.58171105</td><td> 0.18548241</td><td> 0.22681148</td><td>-0.96691424</td><td> 0.5480278</td><td> 1.4939196</td><td>-0.8049453</td><td> 0.02088525</td></tr>\n",
              "\t<tr><td> 1.2578055</td><td> 1.8537641</td><td> 0.54681037</td><td>-0.18804101</td><td> 0.98480518</td><td>-1.43245780</td><td>-0.3243148</td><td>-1.3526011</td><td> 0.8679437</td><td> 0.33161394</td></tr>\n",
              "\t<tr><td>-0.3850374</td><td>-0.2102985</td><td>-0.37572490</td><td>-0.06035904</td><td> 0.14971216</td><td>-0.42126620</td><td> 0.3424336</td><td> 0.6635981</td><td> 0.8679437</td><td>-0.08348432</td></tr>\n",
              "\t<tr><td> 1.2797985</td><td>-0.1629052</td><td>-0.56737429</td><td> 0.43175383</td><td> 0.71041386</td><td> 0.35862262</td><td> 3.0729512</td><td> 0.2109445</td><td> 1.3835903</td><td> 0.24377606</td></tr>\n",
              "\t<tr><td> 2.1254054</td><td> 0.2757473</td><td> 0.20461650</td><td> 0.20611802</td><td>-1.28553730</td><td>-1.14313435</td><td> 1.3980845</td><td>-0.6761581</td><td> 0.8679437</td><td>-0.05452639</td></tr>\n",
              "\t<tr><td> 0.2101463</td><td> 1.7264477</td><td>-0.42142367</td><td>-0.31019803</td><td> 1.00104031</td><td>-0.22349774</td><td> 0.4229296</td><td>-0.1801954</td><td> 1.2954505</td><td> 0.31780988</td></tr>\n",
              "\t<tr><td> 0.5305339</td><td>-0.5568934</td><td>-1.69155969</td><td>-0.07662986</td><td>-1.01378756</td><td>-0.02843846</td><td> 0.4738759</td><td> 1.0792432</td><td> 0.8679437</td><td> 0.27818705</td></tr>\n",
              "\t<tr><td>-0.6750572</td><td>-1.5826059</td><td> 0.84343259</td><td> 0.21001300</td><td> 0.56901588</td><td>-0.65097904</td><td>-1.3139413</td><td> 1.7142579</td><td> 2.5596093</td><td> 0.92075300</td></tr>\n",
              "</tbody>\n",
              "</table>\n"
            ],
            "text/markdown": "\nA matrix: 10 × 10 of type dbl\n\n|  0.4222956 | -0.8657593 |  0.02793486 | -0.94137068 |  0.08912046 |  1.46574647 | -0.2929793 | -0.3357665 | -0.3025266 |  0.31780988 |\n|  0.8423156 |  0.7552320 |  1.39245509 | -0.06035904 | -0.54038992 |  2.75793418 |  0.8053282 |  0.3728633 |  1.0764843 |  0.88527448 |\n|  0.7600055 |  1.2038760 |  1.58171105 |  0.18548241 |  0.22681148 | -0.96691424 |  0.5480278 |  1.4939196 | -0.8049453 |  0.02088525 |\n|  1.2578055 |  1.8537641 |  0.54681037 | -0.18804101 |  0.98480518 | -1.43245780 | -0.3243148 | -1.3526011 |  0.8679437 |  0.33161394 |\n| -0.3850374 | -0.2102985 | -0.37572490 | -0.06035904 |  0.14971216 | -0.42126620 |  0.3424336 |  0.6635981 |  0.8679437 | -0.08348432 |\n|  1.2797985 | -0.1629052 | -0.56737429 |  0.43175383 |  0.71041386 |  0.35862262 |  3.0729512 |  0.2109445 |  1.3835903 |  0.24377606 |\n|  2.1254054 |  0.2757473 |  0.20461650 |  0.20611802 | -1.28553730 | -1.14313435 |  1.3980845 | -0.6761581 |  0.8679437 | -0.05452639 |\n|  0.2101463 |  1.7264477 | -0.42142367 | -0.31019803 |  1.00104031 | -0.22349774 |  0.4229296 | -0.1801954 |  1.2954505 |  0.31780988 |\n|  0.5305339 | -0.5568934 | -1.69155969 | -0.07662986 | -1.01378756 | -0.02843846 |  0.4738759 |  1.0792432 |  0.8679437 |  0.27818705 |\n| -0.6750572 | -1.5826059 |  0.84343259 |  0.21001300 |  0.56901588 | -0.65097904 | -1.3139413 |  1.7142579 |  2.5596093 |  0.92075300 |\n\n",
            "text/latex": "A matrix: 10 × 10 of type dbl\n\\begin{tabular}{llllllllll}\n\t  0.4222956 & -0.8657593 &  0.02793486 & -0.94137068 &  0.08912046 &  1.46574647 & -0.2929793 & -0.3357665 & -0.3025266 &  0.31780988\\\\\n\t  0.8423156 &  0.7552320 &  1.39245509 & -0.06035904 & -0.54038992 &  2.75793418 &  0.8053282 &  0.3728633 &  1.0764843 &  0.88527448\\\\\n\t  0.7600055 &  1.2038760 &  1.58171105 &  0.18548241 &  0.22681148 & -0.96691424 &  0.5480278 &  1.4939196 & -0.8049453 &  0.02088525\\\\\n\t  1.2578055 &  1.8537641 &  0.54681037 & -0.18804101 &  0.98480518 & -1.43245780 & -0.3243148 & -1.3526011 &  0.8679437 &  0.33161394\\\\\n\t -0.3850374 & -0.2102985 & -0.37572490 & -0.06035904 &  0.14971216 & -0.42126620 &  0.3424336 &  0.6635981 &  0.8679437 & -0.08348432\\\\\n\t  1.2797985 & -0.1629052 & -0.56737429 &  0.43175383 &  0.71041386 &  0.35862262 &  3.0729512 &  0.2109445 &  1.3835903 &  0.24377606\\\\\n\t  2.1254054 &  0.2757473 &  0.20461650 &  0.20611802 & -1.28553730 & -1.14313435 &  1.3980845 & -0.6761581 &  0.8679437 & -0.05452639\\\\\n\t  0.2101463 &  1.7264477 & -0.42142367 & -0.31019803 &  1.00104031 & -0.22349774 &  0.4229296 & -0.1801954 &  1.2954505 &  0.31780988\\\\\n\t  0.5305339 & -0.5568934 & -1.69155969 & -0.07662986 & -1.01378756 & -0.02843846 &  0.4738759 &  1.0792432 &  0.8679437 &  0.27818705\\\\\n\t -0.6750572 & -1.5826059 &  0.84343259 &  0.21001300 &  0.56901588 & -0.65097904 & -1.3139413 &  1.7142579 &  2.5596093 &  0.92075300\\\\\n\\end{tabular}\n",
            "text/plain": [
              "      [,1]       [,2]       [,3]        [,4]        [,5]        [,6]       \n",
              " [1,]  0.4222956 -0.8657593  0.02793486 -0.94137068  0.08912046  1.46574647\n",
              " [2,]  0.8423156  0.7552320  1.39245509 -0.06035904 -0.54038992  2.75793418\n",
              " [3,]  0.7600055  1.2038760  1.58171105  0.18548241  0.22681148 -0.96691424\n",
              " [4,]  1.2578055  1.8537641  0.54681037 -0.18804101  0.98480518 -1.43245780\n",
              " [5,] -0.3850374 -0.2102985 -0.37572490 -0.06035904  0.14971216 -0.42126620\n",
              " [6,]  1.2797985 -0.1629052 -0.56737429  0.43175383  0.71041386  0.35862262\n",
              " [7,]  2.1254054  0.2757473  0.20461650  0.20611802 -1.28553730 -1.14313435\n",
              " [8,]  0.2101463  1.7264477 -0.42142367 -0.31019803  1.00104031 -0.22349774\n",
              " [9,]  0.5305339 -0.5568934 -1.69155969 -0.07662986 -1.01378756 -0.02843846\n",
              "[10,] -0.6750572 -1.5826059  0.84343259  0.21001300  0.56901588 -0.65097904\n",
              "      [,7]       [,8]       [,9]       [,10]      \n",
              " [1,] -0.2929793 -0.3357665 -0.3025266  0.31780988\n",
              " [2,]  0.8053282  0.3728633  1.0764843  0.88527448\n",
              " [3,]  0.5480278  1.4939196 -0.8049453  0.02088525\n",
              " [4,] -0.3243148 -1.3526011  0.8679437  0.33161394\n",
              " [5,]  0.3424336  0.6635981  0.8679437 -0.08348432\n",
              " [6,]  3.0729512  0.2109445  1.3835903  0.24377606\n",
              " [7,]  1.3980845 -0.6761581  0.8679437 -0.05452639\n",
              " [8,]  0.4229296 -0.1801954  1.2954505  0.31780988\n",
              " [9,]  0.4738759  1.0792432  0.8679437  0.27818705\n",
              "[10,] -1.3139413  1.7142579  2.5596093  0.92075300"
            ]
          },
          "metadata": {}
        }
      ]
    },
    {
      "cell_type": "markdown",
      "source": [
        "Воспользуемся стандартыми методами восстановления пропущенных значений"
      ],
      "metadata": {
        "id": "lsw_s2-WQYfl"
      }
    },
    {
      "cell_type": "code",
      "source": [
        "install.packages(\"mice\")\n",
        "library(mice)"
      ],
      "metadata": {
        "colab": {
          "base_uri": "https://localhost:8080/"
        },
        "id": "DVKeZsLkQC87",
        "outputId": "3df24248-8dc2-4804-b275-90eec3aff498"
      },
      "execution_count": 11,
      "outputs": [
        {
          "output_type": "stream",
          "name": "stderr",
          "text": [
            "Installing package into ‘/usr/local/lib/R/site-library’\n",
            "(as ‘lib’ is unspecified)\n",
            "\n",
            "also installing the dependency ‘Rcpp’\n",
            "\n",
            "\n",
            "\n",
            "Attaching package: ‘mice’\n",
            "\n",
            "\n",
            "The following object is masked from ‘package:stats’:\n",
            "\n",
            "    filter\n",
            "\n",
            "\n",
            "The following objects are masked from ‘package:base’:\n",
            "\n",
            "    cbind, rbind\n",
            "\n",
            "\n"
          ]
        }
      ]
    },
    {
      "cell_type": "code",
      "source": [
        "tempData <- mice(b,m=5,maxit=50,meth='mean',seed=500)"
      ],
      "metadata": {
        "colab": {
          "base_uri": "https://localhost:8080/"
        },
        "id": "XDjhMH22QWKG",
        "outputId": "8f099d34-4e92-4fa8-e009-485537a0ff84"
      },
      "execution_count": 12,
      "outputs": [
        {
          "output_type": "stream",
          "name": "stdout",
          "text": [
            "\n",
            " iter imp variable\n",
            "  1   1  V4  V5  V6  V9  V10\n",
            "  1   2  V4  V5  V6  V9  V10\n",
            "  1   3  V4  V5  V6  V9  V10\n",
            "  1   4  V4  V5  V6  V9  V10\n",
            "  1   5  V4  V5  V6  V9  V10\n",
            "  2   1  V4  V5  V6  V9  V10\n",
            "  2   2  V4  V5  V6  V9  V10\n",
            "  2   3  V4  V5  V6  V9  V10\n",
            "  2   4  V4  V5  V6  V9  V10\n",
            "  2   5  V4  V5  V6  V9  V10\n",
            "  3   1  V4  V5  V6  V9  V10\n",
            "  3   2  V4  V5  V6  V9  V10\n",
            "  3   3  V4  V5  V6  V9  V10\n",
            "  3   4  V4  V5  V6  V9  V10\n",
            "  3   5  V4  V5  V6  V9  V10\n",
            "  4   1  V4  V5  V6  V9  V10\n",
            "  4   2  V4  V5  V6  V9  V10\n",
            "  4   3  V4  V5  V6  V9  V10\n",
            "  4   4  V4  V5  V6  V9  V10\n",
            "  4   5  V4  V5  V6  V9  V10\n",
            "  5   1  V4  V5  V6  V9  V10\n",
            "  5   2  V4  V5  V6  V9  V10\n",
            "  5   3  V4  V5  V6  V9  V10\n",
            "  5   4  V4  V5  V6  V9  V10\n",
            "  5   5  V4  V5  V6  V9  V10\n",
            "  6   1  V4  V5  V6  V9  V10\n",
            "  6   2  V4  V5  V6  V9  V10\n",
            "  6   3  V4  V5  V6  V9  V10\n",
            "  6   4  V4  V5  V6  V9  V10\n",
            "  6   5  V4  V5  V6  V9  V10\n",
            "  7   1  V4  V5  V6  V9  V10\n",
            "  7   2  V4  V5  V6  V9  V10\n",
            "  7   3  V4  V5  V6  V9  V10\n",
            "  7   4  V4  V5  V6  V9  V10\n",
            "  7   5  V4  V5  V6  V9  V10\n",
            "  8   1  V4  V5  V6  V9  V10\n",
            "  8   2  V4  V5  V6  V9  V10\n",
            "  8   3  V4  V5  V6  V9  V10\n",
            "  8   4  V4  V5  V6  V9  V10\n",
            "  8   5  V4  V5  V6  V9  V10\n",
            "  9   1  V4  V5  V6  V9  V10\n",
            "  9   2  V4  V5  V6  V9  V10\n",
            "  9   3  V4  V5  V6  V9  V10\n",
            "  9   4  V4  V5  V6  V9  V10\n",
            "  9   5  V4  V5  V6  V9  V10\n",
            "  10   1  V4  V5  V6  V9  V10\n",
            "  10   2  V4  V5  V6  V9  V10\n",
            "  10   3  V4  V5  V6  V9  V10\n",
            "  10   4  V4  V5  V6  V9  V10\n",
            "  10   5  V4  V5  V6  V9  V10\n",
            "  11   1  V4  V5  V6  V9  V10\n",
            "  11   2  V4  V5  V6  V9  V10\n",
            "  11   3  V4  V5  V6  V9  V10\n",
            "  11   4  V4  V5  V6  V9  V10\n",
            "  11   5  V4  V5  V6  V9  V10\n",
            "  12   1  V4  V5  V6  V9  V10\n",
            "  12   2  V4  V5  V6  V9  V10\n",
            "  12   3  V4  V5  V6  V9  V10\n",
            "  12   4  V4  V5  V6  V9  V10\n",
            "  12   5  V4  V5  V6  V9  V10\n",
            "  13   1  V4  V5  V6  V9  V10\n",
            "  13   2  V4  V5  V6  V9  V10\n",
            "  13   3  V4  V5  V6  V9  V10\n",
            "  13   4  V4  V5  V6  V9  V10\n",
            "  13   5  V4  V5  V6  V9  V10\n",
            "  14   1  V4  V5  V6  V9  V10\n",
            "  14   2  V4  V5  V6  V9  V10\n",
            "  14   3  V4  V5  V6  V9  V10\n",
            "  14   4  V4  V5  V6  V9  V10\n",
            "  14   5  V4  V5  V6  V9  V10\n",
            "  15   1  V4  V5  V6  V9  V10\n",
            "  15   2  V4  V5  V6  V9  V10\n",
            "  15   3  V4  V5  V6  V9  V10\n",
            "  15   4  V4  V5  V6  V9  V10\n",
            "  15   5  V4  V5  V6  V9  V10\n",
            "  16   1  V4  V5  V6  V9  V10\n",
            "  16   2  V4  V5  V6  V9  V10\n",
            "  16   3  V4  V5  V6  V9  V10\n",
            "  16   4  V4  V5  V6  V9  V10\n",
            "  16   5  V4  V5  V6  V9  V10\n",
            "  17   1  V4  V5  V6  V9  V10\n",
            "  17   2  V4  V5  V6  V9  V10\n",
            "  17   3  V4  V5  V6  V9  V10\n",
            "  17   4  V4  V5  V6  V9  V10\n",
            "  17   5  V4  V5  V6  V9  V10\n",
            "  18   1  V4  V5  V6  V9  V10\n",
            "  18   2  V4  V5  V6  V9  V10\n",
            "  18   3  V4  V5  V6  V9  V10\n",
            "  18   4  V4  V5  V6  V9  V10\n",
            "  18   5  V4  V5  V6  V9  V10\n",
            "  19   1  V4  V5  V6  V9  V10\n",
            "  19   2  V4  V5  V6  V9  V10\n",
            "  19   3  V4  V5  V6  V9  V10\n",
            "  19   4  V4  V5  V6  V9  V10\n",
            "  19   5  V4  V5  V6  V9  V10\n",
            "  20   1  V4  V5  V6  V9  V10\n",
            "  20   2  V4  V5  V6  V9  V10\n",
            "  20   3  V4  V5  V6  V9  V10\n",
            "  20   4  V4  V5  V6  V9  V10\n",
            "  20   5  V4  V5  V6  V9  V10\n",
            "  21   1  V4  V5  V6  V9  V10\n",
            "  21   2  V4  V5  V6  V9  V10\n",
            "  21   3  V4  V5  V6  V9  V10\n",
            "  21   4  V4  V5  V6  V9  V10\n",
            "  21   5  V4  V5  V6  V9  V10\n",
            "  22   1  V4  V5  V6  V9  V10\n",
            "  22   2  V4  V5  V6  V9  V10\n",
            "  22   3  V4  V5  V6  V9  V10\n",
            "  22   4  V4  V5  V6  V9  V10\n",
            "  22   5  V4  V5  V6  V9  V10\n",
            "  23   1  V4  V5  V6  V9  V10\n",
            "  23   2  V4  V5  V6  V9  V10\n",
            "  23   3  V4  V5  V6  V9  V10\n",
            "  23   4  V4  V5  V6  V9  V10\n",
            "  23   5  V4  V5  V6  V9  V10\n",
            "  24   1  V4  V5  V6  V9  V10\n",
            "  24   2  V4  V5  V6  V9  V10\n",
            "  24   3  V4  V5  V6  V9  V10\n",
            "  24   4  V4  V5  V6  V9  V10\n",
            "  24   5  V4  V5  V6  V9  V10\n",
            "  25   1  V4  V5  V6  V9  V10\n",
            "  25   2  V4  V5  V6  V9  V10\n",
            "  25   3  V4  V5  V6  V9  V10\n",
            "  25   4  V4  V5  V6  V9  V10\n",
            "  25   5  V4  V5  V6  V9  V10\n",
            "  26   1  V4  V5  V6  V9  V10\n",
            "  26   2  V4  V5  V6  V9  V10\n",
            "  26   3  V4  V5  V6  V9  V10\n",
            "  26   4  V4  V5  V6  V9  V10\n",
            "  26   5  V4  V5  V6  V9  V10\n",
            "  27   1  V4  V5  V6  V9  V10\n",
            "  27   2  V4  V5  V6  V9  V10\n",
            "  27   3  V4  V5  V6  V9  V10\n",
            "  27   4  V4  V5  V6  V9  V10\n",
            "  27   5  V4  V5  V6  V9  V10\n",
            "  28   1  V4  V5  V6  V9  V10\n",
            "  28   2  V4  V5  V6  V9  V10\n",
            "  28   3  V4  V5  V6  V9  V10\n",
            "  28   4  V4  V5  V6  V9  V10\n",
            "  28   5  V4  V5  V6  V9  V10\n",
            "  29   1  V4  V5  V6  V9  V10\n",
            "  29   2  V4  V5  V6  V9  V10\n",
            "  29   3  V4  V5  V6  V9  V10\n",
            "  29   4  V4  V5  V6  V9  V10\n",
            "  29   5  V4  V5  V6  V9  V10\n",
            "  30   1  V4  V5  V6  V9  V10\n",
            "  30   2  V4  V5  V6  V9  V10\n",
            "  30   3  V4  V5  V6  V9  V10\n",
            "  30   4  V4  V5  V6  V9  V10\n",
            "  30   5  V4  V5  V6  V9  V10\n",
            "  31   1  V4  V5  V6  V9  V10\n",
            "  31   2  V4  V5  V6  V9  V10\n",
            "  31   3  V4  V5  V6  V9  V10\n",
            "  31   4  V4  V5  V6  V9  V10\n",
            "  31   5  V4  V5  V6  V9  V10\n",
            "  32   1  V4  V5  V6  V9  V10\n",
            "  32   2  V4  V5  V6  V9  V10\n",
            "  32   3  V4  V5  V6  V9  V10\n",
            "  32   4  V4  V5  V6  V9  V10\n",
            "  32   5  V4  V5  V6  V9  V10\n",
            "  33   1  V4  V5  V6  V9  V10\n",
            "  33   2  V4  V5  V6  V9  V10\n",
            "  33   3  V4  V5  V6  V9  V10\n",
            "  33   4  V4  V5  V6  V9  V10\n",
            "  33   5  V4  V5  V6  V9  V10\n",
            "  34   1  V4  V5  V6  V9  V10\n",
            "  34   2  V4  V5  V6  V9  V10\n",
            "  34   3  V4  V5  V6  V9  V10\n",
            "  34   4  V4  V5  V6  V9  V10\n",
            "  34   5  V4  V5  V6  V9  V10\n",
            "  35   1  V4  V5  V6  V9  V10\n",
            "  35   2  V4  V5  V6  V9  V10\n",
            "  35   3  V4  V5  V6  V9  V10\n",
            "  35   4  V4  V5  V6  V9  V10\n",
            "  35   5  V4  V5  V6  V9  V10\n",
            "  36   1  V4  V5  V6  V9  V10\n",
            "  36   2  V4  V5  V6  V9  V10\n",
            "  36   3  V4  V5  V6  V9  V10\n",
            "  36   4  V4  V5  V6  V9  V10\n",
            "  36   5  V4  V5  V6  V9  V10\n",
            "  37   1  V4  V5  V6  V9  V10\n",
            "  37   2  V4  V5  V6  V9  V10\n",
            "  37   3  V4  V5  V6  V9  V10\n",
            "  37   4  V4  V5  V6  V9  V10\n",
            "  37   5  V4  V5  V6  V9  V10\n",
            "  38   1  V4  V5  V6  V9  V10\n",
            "  38   2  V4  V5  V6  V9  V10\n",
            "  38   3  V4  V5  V6  V9  V10\n",
            "  38   4  V4  V5  V6  V9  V10\n",
            "  38   5  V4  V5  V6  V9  V10\n",
            "  39   1  V4  V5  V6  V9  V10\n",
            "  39   2  V4  V5  V6  V9  V10\n",
            "  39   3  V4  V5  V6  V9  V10\n",
            "  39   4  V4  V5  V6  V9  V10\n",
            "  39   5  V4  V5  V6  V9  V10\n",
            "  40   1  V4  V5  V6  V9  V10\n",
            "  40   2  V4  V5  V6  V9  V10\n",
            "  40   3  V4  V5  V6  V9  V10\n",
            "  40   4  V4  V5  V6  V9  V10\n",
            "  40   5  V4  V5  V6  V9  V10\n",
            "  41   1  V4  V5  V6  V9  V10\n",
            "  41   2  V4  V5  V6  V9  V10\n",
            "  41   3  V4  V5  V6  V9  V10\n",
            "  41   4  V4  V5  V6  V9  V10\n",
            "  41   5  V4  V5  V6  V9  V10\n",
            "  42   1  V4  V5  V6  V9  V10\n",
            "  42   2  V4  V5  V6  V9  V10\n",
            "  42   3  V4  V5  V6  V9  V10\n",
            "  42   4  V4  V5  V6  V9  V10\n",
            "  42   5  V4  V5  V6  V9  V10\n",
            "  43   1  V4  V5  V6  V9  V10\n",
            "  43   2  V4  V5  V6  V9  V10\n",
            "  43   3  V4  V5  V6  V9  V10\n",
            "  43   4  V4  V5  V6  V9  V10\n",
            "  43   5  V4  V5  V6  V9  V10\n",
            "  44   1  V4  V5  V6  V9  V10\n",
            "  44   2  V4  V5  V6  V9  V10\n",
            "  44   3  V4  V5  V6  V9  V10\n",
            "  44   4  V4  V5  V6  V9  V10\n",
            "  44   5  V4  V5  V6  V9  V10\n",
            "  45   1  V4  V5  V6  V9  V10\n",
            "  45   2  V4  V5  V6  V9  V10\n",
            "  45   3  V4  V5  V6  V9  V10\n",
            "  45   4  V4  V5  V6  V9  V10\n",
            "  45   5  V4  V5  V6  V9  V10\n",
            "  46   1  V4  V5  V6  V9  V10\n",
            "  46   2  V4  V5  V6  V9  V10\n",
            "  46   3  V4  V5  V6  V9  V10\n",
            "  46   4  V4  V5  V6  V9  V10\n",
            "  46   5  V4  V5  V6  V9  V10\n",
            "  47   1  V4  V5  V6  V9  V10\n",
            "  47   2  V4  V5  V6  V9  V10\n",
            "  47   3  V4  V5  V6  V9  V10\n",
            "  47   4  V4  V5  V6  V9  V10\n",
            "  47   5  V4  V5  V6  V9  V10\n",
            "  48   1  V4  V5  V6  V9  V10\n",
            "  48   2  V4  V5  V6  V9  V10\n",
            "  48   3  V4  V5  V6  V9  V10\n",
            "  48   4  V4  V5  V6  V9  V10\n",
            "  48   5  V4  V5  V6  V9  V10\n",
            "  49   1  V4  V5  V6  V9  V10\n",
            "  49   2  V4  V5  V6  V9  V10\n",
            "  49   3  V4  V5  V6  V9  V10\n",
            "  49   4  V4  V5  V6  V9  V10\n",
            "  49   5  V4  V5  V6  V9  V10\n",
            "  50   1  V4  V5  V6  V9  V10\n",
            "  50   2  V4  V5  V6  V9  V10\n",
            "  50   3  V4  V5  V6  V9  V10\n",
            "  50   4  V4  V5  V6  V9  V10\n",
            "  50   5  V4  V5  V6  V9  V10\n"
          ]
        },
        {
          "output_type": "stream",
          "name": "stderr",
          "text": [
            "Warning message:\n",
            "“Number of logged events: 1275”\n"
          ]
        }
      ]
    },
    {
      "cell_type": "code",
      "source": [
        "summary(tempData)"
      ],
      "metadata": {
        "colab": {
          "base_uri": "https://localhost:8080/"
        },
        "id": "tfHduNtNQdIO",
        "outputId": "07df969f-3c8d-44b0-8b59-01cfdfbe363e"
      },
      "execution_count": 13,
      "outputs": [
        {
          "output_type": "stream",
          "name": "stdout",
          "text": [
            "Class: mids\n",
            "Number of multiple imputations:  5 \n",
            "Imputation methods:\n",
            "    V1     V2     V3     V4     V5     V6     V7     V8     V9    V10 \n",
            "    \"\"     \"\"     \"\" \"mean\" \"mean\" \"mean\"     \"\"     \"\" \"mean\" \"mean\" \n",
            "PredictorMatrix:\n",
            "   V1 V2 V3 V4 V5 V6 V7 V8 V9 V10\n",
            "V1  0  1  1  1  1  1  1  1  1   1\n",
            "V2  1  0  1  1  1  1  1  1  1   1\n",
            "V3  1  1  0  1  1  1  1  1  1   1\n",
            "V4  1  1  1  0  1  1  1  1  1   1\n",
            "V5  1  1  1  1  0  1  1  1  1   1\n",
            "V6  1  1  1  1  1  0  1  1  1   1\n",
            "Number of logged events:  1275 \n",
            "  it im dep meth                                                out\n",
            "1  1  1  V4 mean df set to 1. # observed cases: 8  # predictors: 10\n",
            "2  1  1  V4 mean                                            V1, V10\n",
            "3  1  1  V5 mean df set to 1. # observed cases: 9  # predictors: 10\n",
            "4  1  1  V5 mean                                                 V9\n",
            "5  1  1  V6 mean df set to 1. # observed cases: 9  # predictors: 10\n",
            "6  1  1  V6 mean                                                 V1\n"
          ]
        }
      ]
    },
    {
      "cell_type": "code",
      "source": [
        "tempData$imp"
      ],
      "metadata": {
        "colab": {
          "base_uri": "https://localhost:8080/",
          "height": 1000
        },
        "id": "1HlW3UZnQfnq",
        "outputId": "4c3cea62-906c-4b61-9654-ce88e4f653f5"
      },
      "execution_count": 14,
      "outputs": [
        {
          "output_type": "display_data",
          "data": {
            "text/html": [
              "<dl>\n",
              "\t<dt>$V1</dt>\n",
              "\t\t<dd><table class=\"dataframe\">\n",
              "<caption>A data.frame: 0 × 5</caption>\n",
              "<thead>\n",
              "\t<tr><th scope=col>1</th><th scope=col>2</th><th scope=col>3</th><th scope=col>4</th><th scope=col>5</th></tr>\n",
              "\t<tr><th scope=col>&lt;lgl&gt;</th><th scope=col>&lt;lgl&gt;</th><th scope=col>&lt;lgl&gt;</th><th scope=col>&lt;lgl&gt;</th><th scope=col>&lt;lgl&gt;</th></tr>\n",
              "</thead>\n",
              "<tbody>\n",
              "</tbody>\n",
              "</table>\n",
              "</dd>\n",
              "\t<dt>$V2</dt>\n",
              "\t\t<dd><table class=\"dataframe\">\n",
              "<caption>A data.frame: 0 × 5</caption>\n",
              "<thead>\n",
              "\t<tr><th scope=col>1</th><th scope=col>2</th><th scope=col>3</th><th scope=col>4</th><th scope=col>5</th></tr>\n",
              "\t<tr><th scope=col>&lt;lgl&gt;</th><th scope=col>&lt;lgl&gt;</th><th scope=col>&lt;lgl&gt;</th><th scope=col>&lt;lgl&gt;</th><th scope=col>&lt;lgl&gt;</th></tr>\n",
              "</thead>\n",
              "<tbody>\n",
              "</tbody>\n",
              "</table>\n",
              "</dd>\n",
              "\t<dt>$V3</dt>\n",
              "\t\t<dd><table class=\"dataframe\">\n",
              "<caption>A data.frame: 0 × 5</caption>\n",
              "<thead>\n",
              "\t<tr><th scope=col>1</th><th scope=col>2</th><th scope=col>3</th><th scope=col>4</th><th scope=col>5</th></tr>\n",
              "\t<tr><th scope=col>&lt;lgl&gt;</th><th scope=col>&lt;lgl&gt;</th><th scope=col>&lt;lgl&gt;</th><th scope=col>&lt;lgl&gt;</th><th scope=col>&lt;lgl&gt;</th></tr>\n",
              "</thead>\n",
              "<tbody>\n",
              "</tbody>\n",
              "</table>\n",
              "</dd>\n",
              "\t<dt>$V4</dt>\n",
              "\t\t<dd><table class=\"dataframe\">\n",
              "<caption>A data.frame: 2 × 5</caption>\n",
              "<thead>\n",
              "\t<tr><th></th><th scope=col>1</th><th scope=col>2</th><th scope=col>3</th><th scope=col>4</th><th scope=col>5</th></tr>\n",
              "\t<tr><th></th><th scope=col>&lt;dbl&gt;</th><th scope=col>&lt;dbl&gt;</th><th scope=col>&lt;dbl&gt;</th><th scope=col>&lt;dbl&gt;</th><th scope=col>&lt;dbl&gt;</th></tr>\n",
              "</thead>\n",
              "<tbody>\n",
              "\t<tr><th scope=row>2</th><td>-0.06035904</td><td>-0.06035904</td><td>-0.06035904</td><td>-0.06035904</td><td>-0.06035904</td></tr>\n",
              "\t<tr><th scope=row>5</th><td>-0.06035904</td><td>-0.06035904</td><td>-0.06035904</td><td>-0.06035904</td><td>-0.06035904</td></tr>\n",
              "</tbody>\n",
              "</table>\n",
              "</dd>\n",
              "\t<dt>$V5</dt>\n",
              "\t\t<dd><table class=\"dataframe\">\n",
              "<caption>A data.frame: 1 × 5</caption>\n",
              "<thead>\n",
              "\t<tr><th></th><th scope=col>1</th><th scope=col>2</th><th scope=col>3</th><th scope=col>4</th><th scope=col>5</th></tr>\n",
              "\t<tr><th></th><th scope=col>&lt;dbl&gt;</th><th scope=col>&lt;dbl&gt;</th><th scope=col>&lt;dbl&gt;</th><th scope=col>&lt;dbl&gt;</th><th scope=col>&lt;dbl&gt;</th></tr>\n",
              "</thead>\n",
              "<tbody>\n",
              "\t<tr><th scope=row>1</th><td>0.08912046</td><td>0.08912046</td><td>0.08912046</td><td>0.08912046</td><td>0.08912046</td></tr>\n",
              "</tbody>\n",
              "</table>\n",
              "</dd>\n",
              "\t<dt>$V6</dt>\n",
              "\t\t<dd><table class=\"dataframe\">\n",
              "<caption>A data.frame: 1 × 5</caption>\n",
              "<thead>\n",
              "\t<tr><th></th><th scope=col>1</th><th scope=col>2</th><th scope=col>3</th><th scope=col>4</th><th scope=col>5</th></tr>\n",
              "\t<tr><th></th><th scope=col>&lt;dbl&gt;</th><th scope=col>&lt;dbl&gt;</th><th scope=col>&lt;dbl&gt;</th><th scope=col>&lt;dbl&gt;</th><th scope=col>&lt;dbl&gt;</th></tr>\n",
              "</thead>\n",
              "<tbody>\n",
              "\t<tr><th scope=row>9</th><td>-0.02843846</td><td>-0.02843846</td><td>-0.02843846</td><td>-0.02843846</td><td>-0.02843846</td></tr>\n",
              "</tbody>\n",
              "</table>\n",
              "</dd>\n",
              "\t<dt>$V7</dt>\n",
              "\t\t<dd><table class=\"dataframe\">\n",
              "<caption>A data.frame: 0 × 5</caption>\n",
              "<thead>\n",
              "\t<tr><th scope=col>1</th><th scope=col>2</th><th scope=col>3</th><th scope=col>4</th><th scope=col>5</th></tr>\n",
              "\t<tr><th scope=col>&lt;lgl&gt;</th><th scope=col>&lt;lgl&gt;</th><th scope=col>&lt;lgl&gt;</th><th scope=col>&lt;lgl&gt;</th><th scope=col>&lt;lgl&gt;</th></tr>\n",
              "</thead>\n",
              "<tbody>\n",
              "</tbody>\n",
              "</table>\n",
              "</dd>\n",
              "\t<dt>$V8</dt>\n",
              "\t\t<dd><table class=\"dataframe\">\n",
              "<caption>A data.frame: 0 × 5</caption>\n",
              "<thead>\n",
              "\t<tr><th scope=col>1</th><th scope=col>2</th><th scope=col>3</th><th scope=col>4</th><th scope=col>5</th></tr>\n",
              "\t<tr><th scope=col>&lt;lgl&gt;</th><th scope=col>&lt;lgl&gt;</th><th scope=col>&lt;lgl&gt;</th><th scope=col>&lt;lgl&gt;</th><th scope=col>&lt;lgl&gt;</th></tr>\n",
              "</thead>\n",
              "<tbody>\n",
              "</tbody>\n",
              "</table>\n",
              "</dd>\n",
              "\t<dt>$V9</dt>\n",
              "\t\t<dd><table class=\"dataframe\">\n",
              "<caption>A data.frame: 4 × 5</caption>\n",
              "<thead>\n",
              "\t<tr><th></th><th scope=col>1</th><th scope=col>2</th><th scope=col>3</th><th scope=col>4</th><th scope=col>5</th></tr>\n",
              "\t<tr><th></th><th scope=col>&lt;dbl&gt;</th><th scope=col>&lt;dbl&gt;</th><th scope=col>&lt;dbl&gt;</th><th scope=col>&lt;dbl&gt;</th><th scope=col>&lt;dbl&gt;</th></tr>\n",
              "</thead>\n",
              "<tbody>\n",
              "\t<tr><th scope=row>4</th><td>0.8679437</td><td>0.8679437</td><td>0.8679437</td><td>0.8679437</td><td>0.8679437</td></tr>\n",
              "\t<tr><th scope=row>5</th><td>0.8679437</td><td>0.8679437</td><td>0.8679437</td><td>0.8679437</td><td>0.8679437</td></tr>\n",
              "\t<tr><th scope=row>7</th><td>0.8679437</td><td>0.8679437</td><td>0.8679437</td><td>0.8679437</td><td>0.8679437</td></tr>\n",
              "\t<tr><th scope=row>9</th><td>0.8679437</td><td>0.8679437</td><td>0.8679437</td><td>0.8679437</td><td>0.8679437</td></tr>\n",
              "</tbody>\n",
              "</table>\n",
              "</dd>\n",
              "\t<dt>$V10</dt>\n",
              "\t\t<dd><table class=\"dataframe\">\n",
              "<caption>A data.frame: 2 × 5</caption>\n",
              "<thead>\n",
              "\t<tr><th></th><th scope=col>1</th><th scope=col>2</th><th scope=col>3</th><th scope=col>4</th><th scope=col>5</th></tr>\n",
              "\t<tr><th></th><th scope=col>&lt;dbl&gt;</th><th scope=col>&lt;dbl&gt;</th><th scope=col>&lt;dbl&gt;</th><th scope=col>&lt;dbl&gt;</th><th scope=col>&lt;dbl&gt;</th></tr>\n",
              "</thead>\n",
              "<tbody>\n",
              "\t<tr><th scope=row>1</th><td>0.3178099</td><td>0.3178099</td><td>0.3178099</td><td>0.3178099</td><td>0.3178099</td></tr>\n",
              "\t<tr><th scope=row>8</th><td>0.3178099</td><td>0.3178099</td><td>0.3178099</td><td>0.3178099</td><td>0.3178099</td></tr>\n",
              "</tbody>\n",
              "</table>\n",
              "</dd>\n",
              "</dl>\n"
            ],
            "text/markdown": "$V1\n:   \nA data.frame: 0 × 5\n\n| 1 &lt;lgl&gt; | 2 &lt;lgl&gt; | 3 &lt;lgl&gt; | 4 &lt;lgl&gt; | 5 &lt;lgl&gt; |\n|---|---|---|---|---|\n\n\n$V2\n:   \nA data.frame: 0 × 5\n\n| 1 &lt;lgl&gt; | 2 &lt;lgl&gt; | 3 &lt;lgl&gt; | 4 &lt;lgl&gt; | 5 &lt;lgl&gt; |\n|---|---|---|---|---|\n\n\n$V3\n:   \nA data.frame: 0 × 5\n\n| 1 &lt;lgl&gt; | 2 &lt;lgl&gt; | 3 &lt;lgl&gt; | 4 &lt;lgl&gt; | 5 &lt;lgl&gt; |\n|---|---|---|---|---|\n\n\n$V4\n:   \nA data.frame: 2 × 5\n\n| <!--/--> | 1 &lt;dbl&gt; | 2 &lt;dbl&gt; | 3 &lt;dbl&gt; | 4 &lt;dbl&gt; | 5 &lt;dbl&gt; |\n|---|---|---|---|---|---|\n| 2 | -0.06035904 | -0.06035904 | -0.06035904 | -0.06035904 | -0.06035904 |\n| 5 | -0.06035904 | -0.06035904 | -0.06035904 | -0.06035904 | -0.06035904 |\n\n\n$V5\n:   \nA data.frame: 1 × 5\n\n| <!--/--> | 1 &lt;dbl&gt; | 2 &lt;dbl&gt; | 3 &lt;dbl&gt; | 4 &lt;dbl&gt; | 5 &lt;dbl&gt; |\n|---|---|---|---|---|---|\n| 1 | 0.08912046 | 0.08912046 | 0.08912046 | 0.08912046 | 0.08912046 |\n\n\n$V6\n:   \nA data.frame: 1 × 5\n\n| <!--/--> | 1 &lt;dbl&gt; | 2 &lt;dbl&gt; | 3 &lt;dbl&gt; | 4 &lt;dbl&gt; | 5 &lt;dbl&gt; |\n|---|---|---|---|---|---|\n| 9 | -0.02843846 | -0.02843846 | -0.02843846 | -0.02843846 | -0.02843846 |\n\n\n$V7\n:   \nA data.frame: 0 × 5\n\n| 1 &lt;lgl&gt; | 2 &lt;lgl&gt; | 3 &lt;lgl&gt; | 4 &lt;lgl&gt; | 5 &lt;lgl&gt; |\n|---|---|---|---|---|\n\n\n$V8\n:   \nA data.frame: 0 × 5\n\n| 1 &lt;lgl&gt; | 2 &lt;lgl&gt; | 3 &lt;lgl&gt; | 4 &lt;lgl&gt; | 5 &lt;lgl&gt; |\n|---|---|---|---|---|\n\n\n$V9\n:   \nA data.frame: 4 × 5\n\n| <!--/--> | 1 &lt;dbl&gt; | 2 &lt;dbl&gt; | 3 &lt;dbl&gt; | 4 &lt;dbl&gt; | 5 &lt;dbl&gt; |\n|---|---|---|---|---|---|\n| 4 | 0.8679437 | 0.8679437 | 0.8679437 | 0.8679437 | 0.8679437 |\n| 5 | 0.8679437 | 0.8679437 | 0.8679437 | 0.8679437 | 0.8679437 |\n| 7 | 0.8679437 | 0.8679437 | 0.8679437 | 0.8679437 | 0.8679437 |\n| 9 | 0.8679437 | 0.8679437 | 0.8679437 | 0.8679437 | 0.8679437 |\n\n\n$V10\n:   \nA data.frame: 2 × 5\n\n| <!--/--> | 1 &lt;dbl&gt; | 2 &lt;dbl&gt; | 3 &lt;dbl&gt; | 4 &lt;dbl&gt; | 5 &lt;dbl&gt; |\n|---|---|---|---|---|---|\n| 1 | 0.3178099 | 0.3178099 | 0.3178099 | 0.3178099 | 0.3178099 |\n| 8 | 0.3178099 | 0.3178099 | 0.3178099 | 0.3178099 | 0.3178099 |\n\n\n\n\n",
            "text/latex": "\\begin{description}\n\\item[\\$V1] A data.frame: 0 × 5\n\\begin{tabular}{lllll}\n 1 & 2 & 3 & 4 & 5\\\\\n <lgl> & <lgl> & <lgl> & <lgl> & <lgl>\\\\\n\\hline\n\\end{tabular}\n\n\\item[\\$V2] A data.frame: 0 × 5\n\\begin{tabular}{lllll}\n 1 & 2 & 3 & 4 & 5\\\\\n <lgl> & <lgl> & <lgl> & <lgl> & <lgl>\\\\\n\\hline\n\\end{tabular}\n\n\\item[\\$V3] A data.frame: 0 × 5\n\\begin{tabular}{lllll}\n 1 & 2 & 3 & 4 & 5\\\\\n <lgl> & <lgl> & <lgl> & <lgl> & <lgl>\\\\\n\\hline\n\\end{tabular}\n\n\\item[\\$V4] A data.frame: 2 × 5\n\\begin{tabular}{r|lllll}\n  & 1 & 2 & 3 & 4 & 5\\\\\n  & <dbl> & <dbl> & <dbl> & <dbl> & <dbl>\\\\\n\\hline\n\t2 & -0.06035904 & -0.06035904 & -0.06035904 & -0.06035904 & -0.06035904\\\\\n\t5 & -0.06035904 & -0.06035904 & -0.06035904 & -0.06035904 & -0.06035904\\\\\n\\end{tabular}\n\n\\item[\\$V5] A data.frame: 1 × 5\n\\begin{tabular}{r|lllll}\n  & 1 & 2 & 3 & 4 & 5\\\\\n  & <dbl> & <dbl> & <dbl> & <dbl> & <dbl>\\\\\n\\hline\n\t1 & 0.08912046 & 0.08912046 & 0.08912046 & 0.08912046 & 0.08912046\\\\\n\\end{tabular}\n\n\\item[\\$V6] A data.frame: 1 × 5\n\\begin{tabular}{r|lllll}\n  & 1 & 2 & 3 & 4 & 5\\\\\n  & <dbl> & <dbl> & <dbl> & <dbl> & <dbl>\\\\\n\\hline\n\t9 & -0.02843846 & -0.02843846 & -0.02843846 & -0.02843846 & -0.02843846\\\\\n\\end{tabular}\n\n\\item[\\$V7] A data.frame: 0 × 5\n\\begin{tabular}{lllll}\n 1 & 2 & 3 & 4 & 5\\\\\n <lgl> & <lgl> & <lgl> & <lgl> & <lgl>\\\\\n\\hline\n\\end{tabular}\n\n\\item[\\$V8] A data.frame: 0 × 5\n\\begin{tabular}{lllll}\n 1 & 2 & 3 & 4 & 5\\\\\n <lgl> & <lgl> & <lgl> & <lgl> & <lgl>\\\\\n\\hline\n\\end{tabular}\n\n\\item[\\$V9] A data.frame: 4 × 5\n\\begin{tabular}{r|lllll}\n  & 1 & 2 & 3 & 4 & 5\\\\\n  & <dbl> & <dbl> & <dbl> & <dbl> & <dbl>\\\\\n\\hline\n\t4 & 0.8679437 & 0.8679437 & 0.8679437 & 0.8679437 & 0.8679437\\\\\n\t5 & 0.8679437 & 0.8679437 & 0.8679437 & 0.8679437 & 0.8679437\\\\\n\t7 & 0.8679437 & 0.8679437 & 0.8679437 & 0.8679437 & 0.8679437\\\\\n\t9 & 0.8679437 & 0.8679437 & 0.8679437 & 0.8679437 & 0.8679437\\\\\n\\end{tabular}\n\n\\item[\\$V10] A data.frame: 2 × 5\n\\begin{tabular}{r|lllll}\n  & 1 & 2 & 3 & 4 & 5\\\\\n  & <dbl> & <dbl> & <dbl> & <dbl> & <dbl>\\\\\n\\hline\n\t1 & 0.3178099 & 0.3178099 & 0.3178099 & 0.3178099 & 0.3178099\\\\\n\t8 & 0.3178099 & 0.3178099 & 0.3178099 & 0.3178099 & 0.3178099\\\\\n\\end{tabular}\n\n\\end{description}\n",
            "text/plain": [
              "$V1\n",
              "[1] 1 2 3 4 5\n",
              "<0 rows> (or 0-length row.names)\n",
              "\n",
              "$V2\n",
              "[1] 1 2 3 4 5\n",
              "<0 rows> (or 0-length row.names)\n",
              "\n",
              "$V3\n",
              "[1] 1 2 3 4 5\n",
              "<0 rows> (or 0-length row.names)\n",
              "\n",
              "$V4\n",
              "            1           2           3           4           5\n",
              "2 -0.06035904 -0.06035904 -0.06035904 -0.06035904 -0.06035904\n",
              "5 -0.06035904 -0.06035904 -0.06035904 -0.06035904 -0.06035904\n",
              "\n",
              "$V5\n",
              "           1          2          3          4          5\n",
              "1 0.08912046 0.08912046 0.08912046 0.08912046 0.08912046\n",
              "\n",
              "$V6\n",
              "            1           2           3           4           5\n",
              "9 -0.02843846 -0.02843846 -0.02843846 -0.02843846 -0.02843846\n",
              "\n",
              "$V7\n",
              "[1] 1 2 3 4 5\n",
              "<0 rows> (or 0-length row.names)\n",
              "\n",
              "$V8\n",
              "[1] 1 2 3 4 5\n",
              "<0 rows> (or 0-length row.names)\n",
              "\n",
              "$V9\n",
              "          1         2         3         4         5\n",
              "4 0.8679437 0.8679437 0.8679437 0.8679437 0.8679437\n",
              "5 0.8679437 0.8679437 0.8679437 0.8679437 0.8679437\n",
              "7 0.8679437 0.8679437 0.8679437 0.8679437 0.8679437\n",
              "9 0.8679437 0.8679437 0.8679437 0.8679437 0.8679437\n",
              "\n",
              "$V10\n",
              "          1         2         3         4         5\n",
              "1 0.3178099 0.3178099 0.3178099 0.3178099 0.3178099\n",
              "8 0.3178099 0.3178099 0.3178099 0.3178099 0.3178099\n"
            ]
          },
          "metadata": {}
        }
      ]
    },
    {
      "cell_type": "code",
      "source": [
        "mult_imp <- complete(tempData,1)\n",
        "\n",
        "mult_imp"
      ],
      "metadata": {
        "colab": {
          "base_uri": "https://localhost:8080/",
          "height": 411
        },
        "id": "-OnwKkfqQhWO",
        "outputId": "1ec4387a-86a2-43b0-8b9d-2cacbb9ccaab"
      },
      "execution_count": 15,
      "outputs": [
        {
          "output_type": "display_data",
          "data": {
            "text/html": [
              "<table class=\"dataframe\">\n",
              "<caption>A data.frame: 10 × 10</caption>\n",
              "<thead>\n",
              "\t<tr><th scope=col>V1</th><th scope=col>V2</th><th scope=col>V3</th><th scope=col>V4</th><th scope=col>V5</th><th scope=col>V6</th><th scope=col>V7</th><th scope=col>V8</th><th scope=col>V9</th><th scope=col>V10</th></tr>\n",
              "\t<tr><th scope=col>&lt;dbl&gt;</th><th scope=col>&lt;dbl&gt;</th><th scope=col>&lt;dbl&gt;</th><th scope=col>&lt;dbl&gt;</th><th scope=col>&lt;dbl&gt;</th><th scope=col>&lt;dbl&gt;</th><th scope=col>&lt;dbl&gt;</th><th scope=col>&lt;dbl&gt;</th><th scope=col>&lt;dbl&gt;</th><th scope=col>&lt;dbl&gt;</th></tr>\n",
              "</thead>\n",
              "<tbody>\n",
              "\t<tr><td> 0.4222956</td><td>-0.8657593</td><td> 0.02793486</td><td>-0.94137068</td><td> 0.08912046</td><td> 1.46574647</td><td>-0.2929793</td><td>-0.3357665</td><td>-0.3025266</td><td> 0.31780988</td></tr>\n",
              "\t<tr><td> 0.8423156</td><td> 0.7552320</td><td> 1.39245509</td><td>-0.06035904</td><td>-0.54038992</td><td> 2.75793418</td><td> 0.8053282</td><td> 0.3728633</td><td> 1.0764843</td><td> 0.88527448</td></tr>\n",
              "\t<tr><td> 0.7600055</td><td> 1.2038760</td><td> 1.58171105</td><td> 0.18548241</td><td> 0.22681148</td><td>-0.96691424</td><td> 0.5480278</td><td> 1.4939196</td><td>-0.8049453</td><td> 0.02088525</td></tr>\n",
              "\t<tr><td> 1.2578055</td><td> 1.8537641</td><td> 0.54681037</td><td>-0.18804101</td><td> 0.98480518</td><td>-1.43245780</td><td>-0.3243148</td><td>-1.3526011</td><td> 0.8679437</td><td> 0.33161394</td></tr>\n",
              "\t<tr><td>-0.3850374</td><td>-0.2102985</td><td>-0.37572490</td><td>-0.06035904</td><td> 0.14971216</td><td>-0.42126620</td><td> 0.3424336</td><td> 0.6635981</td><td> 0.8679437</td><td>-0.08348432</td></tr>\n",
              "\t<tr><td> 1.2797985</td><td>-0.1629052</td><td>-0.56737429</td><td> 0.43175383</td><td> 0.71041386</td><td> 0.35862262</td><td> 3.0729512</td><td> 0.2109445</td><td> 1.3835903</td><td> 0.24377606</td></tr>\n",
              "\t<tr><td> 2.1254054</td><td> 0.2757473</td><td> 0.20461650</td><td> 0.20611802</td><td>-1.28553730</td><td>-1.14313435</td><td> 1.3980845</td><td>-0.6761581</td><td> 0.8679437</td><td>-0.05452639</td></tr>\n",
              "\t<tr><td> 0.2101463</td><td> 1.7264477</td><td>-0.42142367</td><td>-0.31019803</td><td> 1.00104031</td><td>-0.22349774</td><td> 0.4229296</td><td>-0.1801954</td><td> 1.2954505</td><td> 0.31780988</td></tr>\n",
              "\t<tr><td> 0.5305339</td><td>-0.5568934</td><td>-1.69155969</td><td>-0.07662986</td><td>-1.01378756</td><td>-0.02843846</td><td> 0.4738759</td><td> 1.0792432</td><td> 0.8679437</td><td> 0.27818705</td></tr>\n",
              "\t<tr><td>-0.6750572</td><td>-1.5826059</td><td> 0.84343259</td><td> 0.21001300</td><td> 0.56901588</td><td>-0.65097904</td><td>-1.3139413</td><td> 1.7142579</td><td> 2.5596093</td><td> 0.92075300</td></tr>\n",
              "</tbody>\n",
              "</table>\n"
            ],
            "text/markdown": "\nA data.frame: 10 × 10\n\n| V1 &lt;dbl&gt; | V2 &lt;dbl&gt; | V3 &lt;dbl&gt; | V4 &lt;dbl&gt; | V5 &lt;dbl&gt; | V6 &lt;dbl&gt; | V7 &lt;dbl&gt; | V8 &lt;dbl&gt; | V9 &lt;dbl&gt; | V10 &lt;dbl&gt; |\n|---|---|---|---|---|---|---|---|---|---|\n|  0.4222956 | -0.8657593 |  0.02793486 | -0.94137068 |  0.08912046 |  1.46574647 | -0.2929793 | -0.3357665 | -0.3025266 |  0.31780988 |\n|  0.8423156 |  0.7552320 |  1.39245509 | -0.06035904 | -0.54038992 |  2.75793418 |  0.8053282 |  0.3728633 |  1.0764843 |  0.88527448 |\n|  0.7600055 |  1.2038760 |  1.58171105 |  0.18548241 |  0.22681148 | -0.96691424 |  0.5480278 |  1.4939196 | -0.8049453 |  0.02088525 |\n|  1.2578055 |  1.8537641 |  0.54681037 | -0.18804101 |  0.98480518 | -1.43245780 | -0.3243148 | -1.3526011 |  0.8679437 |  0.33161394 |\n| -0.3850374 | -0.2102985 | -0.37572490 | -0.06035904 |  0.14971216 | -0.42126620 |  0.3424336 |  0.6635981 |  0.8679437 | -0.08348432 |\n|  1.2797985 | -0.1629052 | -0.56737429 |  0.43175383 |  0.71041386 |  0.35862262 |  3.0729512 |  0.2109445 |  1.3835903 |  0.24377606 |\n|  2.1254054 |  0.2757473 |  0.20461650 |  0.20611802 | -1.28553730 | -1.14313435 |  1.3980845 | -0.6761581 |  0.8679437 | -0.05452639 |\n|  0.2101463 |  1.7264477 | -0.42142367 | -0.31019803 |  1.00104031 | -0.22349774 |  0.4229296 | -0.1801954 |  1.2954505 |  0.31780988 |\n|  0.5305339 | -0.5568934 | -1.69155969 | -0.07662986 | -1.01378756 | -0.02843846 |  0.4738759 |  1.0792432 |  0.8679437 |  0.27818705 |\n| -0.6750572 | -1.5826059 |  0.84343259 |  0.21001300 |  0.56901588 | -0.65097904 | -1.3139413 |  1.7142579 |  2.5596093 |  0.92075300 |\n\n",
            "text/latex": "A data.frame: 10 × 10\n\\begin{tabular}{llllllllll}\n V1 & V2 & V3 & V4 & V5 & V6 & V7 & V8 & V9 & V10\\\\\n <dbl> & <dbl> & <dbl> & <dbl> & <dbl> & <dbl> & <dbl> & <dbl> & <dbl> & <dbl>\\\\\n\\hline\n\t  0.4222956 & -0.8657593 &  0.02793486 & -0.94137068 &  0.08912046 &  1.46574647 & -0.2929793 & -0.3357665 & -0.3025266 &  0.31780988\\\\\n\t  0.8423156 &  0.7552320 &  1.39245509 & -0.06035904 & -0.54038992 &  2.75793418 &  0.8053282 &  0.3728633 &  1.0764843 &  0.88527448\\\\\n\t  0.7600055 &  1.2038760 &  1.58171105 &  0.18548241 &  0.22681148 & -0.96691424 &  0.5480278 &  1.4939196 & -0.8049453 &  0.02088525\\\\\n\t  1.2578055 &  1.8537641 &  0.54681037 & -0.18804101 &  0.98480518 & -1.43245780 & -0.3243148 & -1.3526011 &  0.8679437 &  0.33161394\\\\\n\t -0.3850374 & -0.2102985 & -0.37572490 & -0.06035904 &  0.14971216 & -0.42126620 &  0.3424336 &  0.6635981 &  0.8679437 & -0.08348432\\\\\n\t  1.2797985 & -0.1629052 & -0.56737429 &  0.43175383 &  0.71041386 &  0.35862262 &  3.0729512 &  0.2109445 &  1.3835903 &  0.24377606\\\\\n\t  2.1254054 &  0.2757473 &  0.20461650 &  0.20611802 & -1.28553730 & -1.14313435 &  1.3980845 & -0.6761581 &  0.8679437 & -0.05452639\\\\\n\t  0.2101463 &  1.7264477 & -0.42142367 & -0.31019803 &  1.00104031 & -0.22349774 &  0.4229296 & -0.1801954 &  1.2954505 &  0.31780988\\\\\n\t  0.5305339 & -0.5568934 & -1.69155969 & -0.07662986 & -1.01378756 & -0.02843846 &  0.4738759 &  1.0792432 &  0.8679437 &  0.27818705\\\\\n\t -0.6750572 & -1.5826059 &  0.84343259 &  0.21001300 &  0.56901588 & -0.65097904 & -1.3139413 &  1.7142579 &  2.5596093 &  0.92075300\\\\\n\\end{tabular}\n",
            "text/plain": [
              "   V1         V2         V3          V4          V5          V6         \n",
              "1   0.4222956 -0.8657593  0.02793486 -0.94137068  0.08912046  1.46574647\n",
              "2   0.8423156  0.7552320  1.39245509 -0.06035904 -0.54038992  2.75793418\n",
              "3   0.7600055  1.2038760  1.58171105  0.18548241  0.22681148 -0.96691424\n",
              "4   1.2578055  1.8537641  0.54681037 -0.18804101  0.98480518 -1.43245780\n",
              "5  -0.3850374 -0.2102985 -0.37572490 -0.06035904  0.14971216 -0.42126620\n",
              "6   1.2797985 -0.1629052 -0.56737429  0.43175383  0.71041386  0.35862262\n",
              "7   2.1254054  0.2757473  0.20461650  0.20611802 -1.28553730 -1.14313435\n",
              "8   0.2101463  1.7264477 -0.42142367 -0.31019803  1.00104031 -0.22349774\n",
              "9   0.5305339 -0.5568934 -1.69155969 -0.07662986 -1.01378756 -0.02843846\n",
              "10 -0.6750572 -1.5826059  0.84343259  0.21001300  0.56901588 -0.65097904\n",
              "   V7         V8         V9         V10        \n",
              "1  -0.2929793 -0.3357665 -0.3025266  0.31780988\n",
              "2   0.8053282  0.3728633  1.0764843  0.88527448\n",
              "3   0.5480278  1.4939196 -0.8049453  0.02088525\n",
              "4  -0.3243148 -1.3526011  0.8679437  0.33161394\n",
              "5   0.3424336  0.6635981  0.8679437 -0.08348432\n",
              "6   3.0729512  0.2109445  1.3835903  0.24377606\n",
              "7   1.3980845 -0.6761581  0.8679437 -0.05452639\n",
              "8   0.4229296 -0.1801954  1.2954505  0.31780988\n",
              "9   0.4738759  1.0792432  0.8679437  0.27818705\n",
              "10 -1.3139413  1.7142579  2.5596093  0.92075300"
            ]
          },
          "metadata": {}
        }
      ]
    },
    {
      "cell_type": "markdown",
      "source": [
        "Задание 1: напишите функция для сравнения методов"
      ],
      "metadata": {
        "id": "G4I0NLVeQy4G"
      }
    },
    {
      "cell_type": "code",
      "source": [
        "# Ваше решение здесь"
      ],
      "metadata": {
        "id": "u8hF_e0uQjGO"
      },
      "execution_count": 17,
      "outputs": []
    },
    {
      "cell_type": "markdown",
      "source": [
        "Задание 2: постройте модель линейной множественной регрессии на исходном наборе с данными (без пропусков) и на наборе с данными после восстановления. Проанализируйте полученные результаты ($R^2$, $F$-статистика)."
      ],
      "metadata": {
        "id": "8vUG7xEQQ6sS"
      }
    },
    {
      "cell_type": "code",
      "source": [
        "# Ваше решение здесь"
      ],
      "metadata": {
        "id": "qWLdHuH5Qk33"
      },
      "execution_count": 18,
      "outputs": []
    },
    {
      "cell_type": "markdown",
      "source": [
        "Опишите выводы в этом поле"
      ],
      "metadata": {
        "id": "rshFeQAtRRWg"
      }
    },
    {
      "cell_type": "code",
      "source": [],
      "metadata": {
        "id": "i0ZzEGVTRPne"
      },
      "execution_count": null,
      "outputs": []
    }
  ]
}