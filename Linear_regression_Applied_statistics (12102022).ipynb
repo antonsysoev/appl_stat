{
  "nbformat": 4,
  "nbformat_minor": 0,
  "metadata": {
    "colab": {
      "name": "Linear_regression_Applied_statistics.ipynb",
      "provenance": [],
      "authorship_tag": "ABX9TyM2ZghGEWkVgFTpXoM7fuI2",
      "include_colab_link": true
    },
    "kernelspec": {
      "name": "python3",
      "display_name": "Python 3"
    },
    "language_info": {
      "name": "python"
    }
  },
  "cells": [
    {
      "cell_type": "markdown",
      "metadata": {
        "id": "view-in-github",
        "colab_type": "text"
      },
      "source": [
        "<a href=\"https://colab.research.google.com/github/antonsysoev/appl_stat/blob/gh-pages/Linear_regression_Applied_statistics%20(12102022).ipynb\" target=\"_parent\"><img src=\"https://colab.research.google.com/assets/colab-badge.svg\" alt=\"Open In Colab\"/></a>"
      ]
    },
    {
      "cell_type": "code",
      "metadata": {
        "id": "up-kwV4GQ08f",
        "outputId": "02d3158d-9397-4824-98bd-5363bf5bc957",
        "colab": {
          "base_uri": "https://localhost:8080/"
        }
      },
      "source": [
        "%load_ext rpy2.ipython"
      ],
      "execution_count": 5,
      "outputs": [
        {
          "output_type": "stream",
          "name": "stdout",
          "text": [
            "The rpy2.ipython extension is already loaded. To reload it, use:\n",
            "  %reload_ext rpy2.ipython\n"
          ]
        }
      ]
    },
    {
      "cell_type": "markdown",
      "metadata": {
        "id": "FsrIvIWUS0-Q"
      },
      "source": [
        "Denver Neighborhoods\n",
        "\n",
        "The data (X1, X2, X3, X4, X5, X6, X7) are for each neighborhood\n",
        "\n",
        "X1 = total population (in thousands)\n",
        "\n",
        "X2 = % change in population over past several years\n",
        "\n",
        "X3 = % of children (under 18) in population\n",
        "\n",
        "X4 = % free school lunch participation\n",
        "\n",
        "X5 = % change in household income over past several years\n",
        "\n",
        "X6 = crime rate (per 1000 population)\n",
        "\n",
        "X7 = % change in crime rate over past several years\n",
        "\n",
        "Reference: The Piton Foundation, Denver, Colorado\n"
      ]
    },
    {
      "cell_type": "code",
      "metadata": {
        "id": "bkwparxvQ2mv"
      },
      "source": [
        "%%R\n",
        "\n",
        "data = read.csv('/content/mlr10.csv')"
      ],
      "execution_count": 6,
      "outputs": []
    },
    {
      "cell_type": "code",
      "metadata": {
        "colab": {
          "base_uri": "https://localhost:8080/"
        },
        "id": "aQJA_PfMRIbX",
        "outputId": "79f270f6-9b50-4884-e79b-396fc67b109b"
      },
      "source": [
        "%%R\n",
        "summary(data)"
      ],
      "execution_count": 7,
      "outputs": [
        {
          "output_type": "stream",
          "name": "stdout",
          "text": [
            "       X1               X2               X3              X4       \n",
            " Min.   : 1.700   Min.   :-3.300   Min.   : 7.50   Min.   : 5.70  \n",
            " 1st Qu.: 4.175   1st Qu.: 1.975   1st Qu.:20.62   1st Qu.:29.60  \n",
            " Median : 7.250   Median : 4.700   Median :28.85   Median :57.55  \n",
            " Mean   : 7.041   Mean   : 7.832   Mean   :27.27   Mean   :51.51  \n",
            " 3rd Qu.: 9.325   3rd Qu.: 8.200   3rd Qu.:33.55   3rd Qu.:74.67  \n",
            " Max.   :18.700   Max.   :68.600   Max.   :41.50   Max.   :88.50  \n",
            "       X5              X6               X7         \n",
            " Min.   :11.70   Min.   : 27.10   Min.   :-45.600  \n",
            " 1st Qu.:23.65   1st Qu.: 62.33   1st Qu.:-28.600  \n",
            " Median :26.35   Median : 81.20   Median :-13.450  \n",
            " Mean   :26.96   Mean   :108.63   Mean   :-13.716  \n",
            " 3rd Qu.:29.40   3rd Qu.:124.15   3rd Qu.: -2.775  \n",
            " Max.   :50.50   Max.   :704.10   Max.   : 45.400  \n"
          ]
        }
      ]
    },
    {
      "cell_type": "markdown",
      "source": [
        "Корреляции"
      ],
      "metadata": {
        "id": "_FVicuS-jfUy"
      }
    },
    {
      "cell_type": "code",
      "metadata": {
        "id": "sqFD98qcRKaf",
        "outputId": "ce84fa46-cf9f-430c-83a8-0c62b0aee7d6",
        "colab": {
          "base_uri": "https://localhost:8080/"
        }
      },
      "source": [
        "%%R\n",
        "cor(data)\n"
      ],
      "execution_count": 9,
      "outputs": [
        {
          "output_type": "stream",
          "name": "stdout",
          "text": [
            "            X1           X2          X3           X4          X5         X6\n",
            "X1  1.00000000 -0.174419881  0.16447410 -0.025772621 -0.08293231 -0.3602378\n",
            "X2 -0.17441988  1.000000000  0.09692910 -0.002973677  0.41972317  0.2621154\n",
            "X3  0.16447410  0.096929096  1.00000000  0.444509987 -0.04281668 -0.2818374\n",
            "X4 -0.02577262 -0.002973677  0.44450999  1.000000000  0.01841290  0.4155600\n",
            "X5 -0.08293231  0.419723169 -0.04281668  0.018412899  1.00000000  0.4077686\n",
            "X6 -0.36023775  0.262115360 -0.28183737  0.415560006  0.40776865  1.0000000\n",
            "X7 -0.15701274  0.240327875  0.33683862 -0.288153189 -0.01566670 -0.2457735\n",
            "           X7\n",
            "X1 -0.1570127\n",
            "X2  0.2403279\n",
            "X3  0.3368386\n",
            "X4 -0.2881532\n",
            "X5 -0.0156667\n",
            "X6 -0.2457735\n",
            "X7  1.0000000\n"
          ]
        }
      ]
    },
    {
      "cell_type": "markdown",
      "source": [
        "Построим модель зависимости показателя X6 (уровень преступности) от всех остальных факторов"
      ],
      "metadata": {
        "id": "8URoQ87gkQkc"
      }
    },
    {
      "cell_type": "code",
      "source": [
        "%%R\n",
        "\n",
        "uroven_prestupnosti <- lm(X6 ~ X1 + X2 + X3 +X4 + X5 +X7, data)"
      ],
      "metadata": {
        "id": "32DEbPRvjoXk"
      },
      "execution_count": 24,
      "outputs": []
    },
    {
      "cell_type": "code",
      "source": [
        "%%R\n",
        "summary(uroven_prestupnosti)"
      ],
      "metadata": {
        "id": "Kp5U44fOkn_9",
        "outputId": "6feb4297-ab60-4743-93c9-daff48f6c70b",
        "colab": {
          "base_uri": "https://localhost:8080/"
        }
      },
      "execution_count": 23,
      "outputs": [
        {
          "output_type": "stream",
          "name": "stdout",
          "text": [
            "\n",
            "Call:\n",
            "lm(formula = X6 ~ X1 + X2 + X3 + X4 + X5, data = data)\n",
            "\n",
            "Residuals:\n",
            "     Min       1Q   Median       3Q      Max \n",
            "-122.529  -41.573   -3.694   24.642  240.264 \n",
            "\n",
            "Coefficients:\n",
            "            Estimate Std. Error t value Pr(>|t|)    \n",
            "(Intercept)  58.5527    57.3456   1.021  0.31369    \n",
            "X1           -6.0054     2.9418  -2.041  0.04820 *  \n",
            "X2            1.3706     0.9331   1.469  0.15008    \n",
            "X3           -6.3740     1.3133  -4.853 2.10e-05 ***\n",
            "X4            2.6141     0.4381   5.967 6.32e-07 ***\n",
            "X5            4.4801     1.6441   2.725  0.00967 ** \n",
            "---\n",
            "Signif. codes:  0 ‘***’ 0.001 ‘**’ 0.01 ‘*’ 0.05 ‘.’ 0.1 ‘ ’ 1\n",
            "\n",
            "Residual standard error: 65.83 on 38 degrees of freedom\n",
            "Multiple R-squared:  0.6524,\tAdjusted R-squared:  0.6067 \n",
            "F-statistic: 14.27 on 5 and 38 DF,  p-value: 7.16e-08\n",
            "\n"
          ]
        }
      ]
    },
    {
      "cell_type": "markdown",
      "source": [
        "Получили модель\n",
        "X6 = 67.5618 - 5.2679*X1 + 1.2279*X2 -7.0990*X3 + 2.8437*X4 + 4.5877*X5 + 0.5862*X7"
      ],
      "metadata": {
        "id": "5JhnWjbwkxUt"
      }
    },
    {
      "cell_type": "markdown",
      "source": [
        "Пошаговая регрессия\n",
        "\n",
        "stepAIC(object, direction = c(\"both\", \"backward\", \"forward\"))"
      ],
      "metadata": {
        "id": "Jsf0BMp8mODm"
      }
    },
    {
      "cell_type": "code",
      "source": [
        "%%R\n",
        "\n",
        "library(MASS) # необходимо подключить для работы с пошаговыми моделями\n",
        "\n",
        "stepAIC(uroven_prestupnosti, direction = \"backward\")"
      ],
      "metadata": {
        "id": "Jtxd_6NTkwpV",
        "outputId": "8ed9ad08-d995-47a7-b304-fa5750a0dc07",
        "colab": {
          "base_uri": "https://localhost:8080/"
        }
      },
      "execution_count": 21,
      "outputs": [
        {
          "output_type": "stream",
          "name": "stdout",
          "text": [
            "Start:  AIC=375.3\n",
            "X6 ~ X1 + X2 + X3 + X4 + X5 + X7\n",
            "\n",
            "       Df Sum of Sq    RSS    AIC\n",
            "- X7    1      2641 164684 374.01\n",
            "- X2    1      7227 169270 375.22\n",
            "<none>              162043 375.30\n",
            "- X1    1     12597 174640 376.60\n",
            "- X5    1     33508 195551 381.57\n",
            "- X3    1     84406 246449 391.75\n",
            "- X4    1    125875 287918 398.59\n",
            "\n",
            "Step:  AIC=374.01\n",
            "X6 ~ X1 + X2 + X3 + X4 + X5\n",
            "\n",
            "       Df Sum of Sq    RSS    AIC\n",
            "<none>              164684 374.01\n",
            "- X2    1      9351 174035 374.44\n",
            "- X1    1     18060 182744 376.59\n",
            "- X5    1     32178 196862 379.87\n",
            "- X3    1    102079 266762 393.24\n",
            "- X4    1    154310 318994 401.10\n",
            "\n",
            "Call:\n",
            "lm(formula = X6 ~ X1 + X2 + X3 + X4 + X5, data = data)\n",
            "\n",
            "Coefficients:\n",
            "(Intercept)           X1           X2           X3           X4           X5  \n",
            "     58.553       -6.005        1.371       -6.374        2.614        4.480  \n",
            "\n"
          ]
        }
      ]
    },
    {
      "cell_type": "markdown",
      "source": [
        "Парная регрессия"
      ],
      "metadata": {
        "id": "bmdkqiwpnsYr"
      }
    },
    {
      "cell_type": "code",
      "source": [
        "%%R\n",
        "\n",
        "crime_rate_single <- lm(X6 ~ X1, data)\n",
        "summary(crime_rate_single)"
      ],
      "metadata": {
        "id": "KgP2Nc-Dkr18",
        "outputId": "26ac8b4e-5fc1-4ffc-e014-fdc08a3fa545",
        "colab": {
          "base_uri": "https://localhost:8080/"
        }
      },
      "execution_count": 25,
      "outputs": [
        {
          "output_type": "stream",
          "name": "stdout",
          "text": [
            "\n",
            "Call:\n",
            "lm(formula = X6 ~ X1, data = data)\n",
            "\n",
            "Residuals:\n",
            "    Min      1Q  Median      3Q     Max \n",
            "-107.49  -37.48  -14.81   18.03  538.66 \n",
            "\n",
            "Coefficients:\n",
            "            Estimate Std. Error t value Pr(>|t|)    \n",
            "(Intercept)  183.527     33.449   5.487 2.17e-06 ***\n",
            "X1           -10.638      4.251  -2.503   0.0163 *  \n",
            "---\n",
            "Signif. codes:  0 ‘***’ 0.001 ‘**’ 0.01 ‘*’ 0.05 ‘.’ 0.1 ‘ ’ 1\n",
            "\n",
            "Residual standard error: 99.08 on 42 degrees of freedom\n",
            "Multiple R-squared:  0.1298,\tAdjusted R-squared:  0.1091 \n",
            "F-statistic: 6.263 on 1 and 42 DF,  p-value: 0.0163\n",
            "\n"
          ]
        }
      ]
    },
    {
      "cell_type": "code",
      "source": [
        "%%R\n",
        "\n",
        "crime_rate_polynom_2 <- lm(X6 ~ X1 + I(X1^2), data)\n",
        "summary(crime_rate_polynom_2)"
      ],
      "metadata": {
        "id": "NnFkxqdrn4us",
        "outputId": "4672e849-017d-4874-e524-c92e97f57101",
        "colab": {
          "base_uri": "https://localhost:8080/"
        }
      },
      "execution_count": 29,
      "outputs": [
        {
          "output_type": "stream",
          "name": "stdout",
          "text": [
            "\n",
            "Call:\n",
            "lm(formula = X6 ~ X1 + I(X1^2), data = data)\n",
            "\n",
            "Residuals:\n",
            "    Min      1Q  Median      3Q     Max \n",
            "-130.83  -44.03  -10.93   19.61  490.82 \n",
            "\n",
            "Coefficients:\n",
            "            Estimate Std. Error t value Pr(>|t|)    \n",
            "(Intercept) 270.5997    54.6505   4.951 1.31e-05 ***\n",
            "X1          -36.2816    13.6085  -2.666   0.0109 *  \n",
            "I(X1^2)       1.5097     0.7637   1.977   0.0548 .  \n",
            "---\n",
            "Signif. codes:  0 ‘***’ 0.001 ‘**’ 0.01 ‘*’ 0.05 ‘.’ 0.1 ‘ ’ 1\n",
            "\n",
            "Residual standard error: 95.82 on 41 degrees of freedom\n",
            "Multiple R-squared:  0.2055,\tAdjusted R-squared:  0.1667 \n",
            "F-statistic: 5.302 on 2 and 41 DF,  p-value: 0.008954\n",
            "\n"
          ]
        }
      ]
    },
    {
      "cell_type": "code",
      "source": [
        "%%R\n",
        "\n",
        "print(data.frame(real = data$X6, fitted = fitted(crime_rate_polynom_2)))"
      ],
      "metadata": {
        "id": "hGHpYyj_oPgE",
        "outputId": "186007b2-6848-4271-9b39-9e1622ab2fc0",
        "colab": {
          "base_uri": "https://localhost:8080/"
        }
      },
      "execution_count": 37,
      "outputs": [
        {
          "output_type": "stream",
          "name": "stdout",
          "text": [
            "    real    fitted\n",
            "1   84.9  92.13164\n",
            "2  172.6  72.35595\n",
            "3  154.2 112.84349\n",
            "4   35.2  84.78491\n",
            "5   69.2  71.27912\n",
            "6  111.0  57.41341\n",
            "7  704.1 213.28392\n",
            "8   69.9 159.55117\n",
            "9   65.4  74.60020\n",
            "10 132.1 126.93325\n",
            "11 179.9 201.06597\n",
            "12 139.9 144.84742\n",
            "13 108.7 152.06343\n",
            "14 123.2 147.22256\n",
            "15 104.7 144.84742\n",
            "16  61.5  62.94631\n",
            "17  68.2 159.55117\n",
            "18  96.9  82.05757\n",
            "19 258.0  71.27912\n",
            "20  32.0  83.40615\n",
            "21 127.0 147.22256\n",
            "22  27.1 135.64879\n",
            "23  70.7  87.63302\n",
            "24  38.3  55.50095\n",
            "25  54.0  57.05915\n",
            "26 101.5  62.94631\n",
            "27 185.9 189.33110\n",
            "28  61.2  57.05915\n",
            "29  38.6  83.40615\n",
            "30  52.6 120.04699\n",
            "31  62.6 124.82985\n",
            "32 207.7 157.02506\n",
            "33  42.4  57.05915\n",
            "34 105.2  86.19387\n",
            "35  68.6 144.84742\n",
            "36 157.3 201.06597\n",
            "37  58.5 189.33110\n",
            "38  63.1  75.76761\n",
            "39  86.4  57.05915\n",
            "40  77.5  56.08302\n",
            "41  63.5 110.95144\n",
            "42  68.9  92.13164\n",
            "43 102.8  63.75140\n",
            "44  86.6  53.18499\n"
          ]
        }
      ]
    },
    {
      "cell_type": "code",
      "source": [
        "%%R\n",
        "\n",
        "predict(crime_rate_polynom_2, data.frame(X1 = 6.5))"
      ],
      "metadata": {
        "id": "9Lj5tU-LozVC",
        "outputId": "21327df2-1efc-40e5-9326-4c5090920b3a",
        "colab": {
          "base_uri": "https://localhost:8080/"
        }
      },
      "execution_count": 39,
      "outputs": [
        {
          "output_type": "stream",
          "name": "stdout",
          "text": [
            "      1 \n",
            "98.5525 \n"
          ]
        }
      ]
    },
    {
      "cell_type": "code",
      "source": [],
      "metadata": {
        "id": "ZdiFXTQcqRqR"
      },
      "execution_count": null,
      "outputs": []
    }
  ]
}